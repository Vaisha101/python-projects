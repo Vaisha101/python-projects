{
 "cells": [
  {
   "cell_type": "markdown",
   "id": "06d46759",
   "metadata": {},
   "source": [
    "# give promotion to the employee by using given criteria"
   ]
  },
  {
   "cell_type": "code",
   "execution_count": 1,
   "id": "b6d43a6f",
   "metadata": {},
   "outputs": [],
   "source": [
    "import pandas as pd\n",
    "import numpy as np\n",
    "import warnings\n",
    "warnings.filterwarnings('ignore')"
   ]
  },
  {
   "cell_type": "code",
   "execution_count": 2,
   "id": "5ada00ed",
   "metadata": {},
   "outputs": [],
   "source": [
    "data=pd.read_csv(r\"C:\\Users\\admin\\Desktop\\dataset\\train_Hr.csv\")"
   ]
  },
  {
   "cell_type": "markdown",
   "id": "da5f7803",
   "metadata": {},
   "source": [
    "# data"
   ]
  },
  {
   "cell_type": "code",
   "execution_count": 3,
   "id": "ba0ae9d1",
   "metadata": {},
   "outputs": [
    {
     "data": {
      "text/html": [
       "<div>\n",
       "<style scoped>\n",
       "    .dataframe tbody tr th:only-of-type {\n",
       "        vertical-align: middle;\n",
       "    }\n",
       "\n",
       "    .dataframe tbody tr th {\n",
       "        vertical-align: top;\n",
       "    }\n",
       "\n",
       "    .dataframe thead th {\n",
       "        text-align: right;\n",
       "    }\n",
       "</style>\n",
       "<table border=\"1\" class=\"dataframe\">\n",
       "  <thead>\n",
       "    <tr style=\"text-align: right;\">\n",
       "      <th></th>\n",
       "      <th>employee_id</th>\n",
       "      <th>department</th>\n",
       "      <th>region</th>\n",
       "      <th>education</th>\n",
       "      <th>gender</th>\n",
       "      <th>recruitment_channel</th>\n",
       "      <th>no_of_trainings</th>\n",
       "      <th>age</th>\n",
       "      <th>previous_year_rating</th>\n",
       "      <th>length_of_service</th>\n",
       "      <th>KPIs_met &gt;80%</th>\n",
       "      <th>awards_won?</th>\n",
       "      <th>avg_training_score</th>\n",
       "      <th>is_promoted</th>\n",
       "    </tr>\n",
       "  </thead>\n",
       "  <tbody>\n",
       "    <tr>\n",
       "      <th>0</th>\n",
       "      <td>65438</td>\n",
       "      <td>Sales &amp; Marketing</td>\n",
       "      <td>region_7</td>\n",
       "      <td>Master's &amp; above</td>\n",
       "      <td>f</td>\n",
       "      <td>sourcing</td>\n",
       "      <td>1</td>\n",
       "      <td>35</td>\n",
       "      <td>5.0</td>\n",
       "      <td>8</td>\n",
       "      <td>1</td>\n",
       "      <td>0</td>\n",
       "      <td>49</td>\n",
       "      <td>0</td>\n",
       "    </tr>\n",
       "    <tr>\n",
       "      <th>1</th>\n",
       "      <td>65141</td>\n",
       "      <td>Operations</td>\n",
       "      <td>region_22</td>\n",
       "      <td>Bachelor's</td>\n",
       "      <td>m</td>\n",
       "      <td>other</td>\n",
       "      <td>1</td>\n",
       "      <td>30</td>\n",
       "      <td>5.0</td>\n",
       "      <td>4</td>\n",
       "      <td>0</td>\n",
       "      <td>0</td>\n",
       "      <td>60</td>\n",
       "      <td>0</td>\n",
       "    </tr>\n",
       "    <tr>\n",
       "      <th>2</th>\n",
       "      <td>7513</td>\n",
       "      <td>Sales &amp; Marketing</td>\n",
       "      <td>region_19</td>\n",
       "      <td>Bachelor's</td>\n",
       "      <td>m</td>\n",
       "      <td>sourcing</td>\n",
       "      <td>1</td>\n",
       "      <td>34</td>\n",
       "      <td>3.0</td>\n",
       "      <td>7</td>\n",
       "      <td>0</td>\n",
       "      <td>0</td>\n",
       "      <td>50</td>\n",
       "      <td>0</td>\n",
       "    </tr>\n",
       "    <tr>\n",
       "      <th>3</th>\n",
       "      <td>2542</td>\n",
       "      <td>Sales &amp; Marketing</td>\n",
       "      <td>region_23</td>\n",
       "      <td>Bachelor's</td>\n",
       "      <td>m</td>\n",
       "      <td>other</td>\n",
       "      <td>2</td>\n",
       "      <td>39</td>\n",
       "      <td>1.0</td>\n",
       "      <td>10</td>\n",
       "      <td>0</td>\n",
       "      <td>0</td>\n",
       "      <td>50</td>\n",
       "      <td>0</td>\n",
       "    </tr>\n",
       "    <tr>\n",
       "      <th>4</th>\n",
       "      <td>48945</td>\n",
       "      <td>Technology</td>\n",
       "      <td>region_26</td>\n",
       "      <td>Bachelor's</td>\n",
       "      <td>m</td>\n",
       "      <td>other</td>\n",
       "      <td>1</td>\n",
       "      <td>45</td>\n",
       "      <td>3.0</td>\n",
       "      <td>2</td>\n",
       "      <td>0</td>\n",
       "      <td>0</td>\n",
       "      <td>73</td>\n",
       "      <td>0</td>\n",
       "    </tr>\n",
       "    <tr>\n",
       "      <th>5</th>\n",
       "      <td>58896</td>\n",
       "      <td>Analytics</td>\n",
       "      <td>region_2</td>\n",
       "      <td>Bachelor's</td>\n",
       "      <td>m</td>\n",
       "      <td>sourcing</td>\n",
       "      <td>2</td>\n",
       "      <td>31</td>\n",
       "      <td>3.0</td>\n",
       "      <td>7</td>\n",
       "      <td>0</td>\n",
       "      <td>0</td>\n",
       "      <td>85</td>\n",
       "      <td>0</td>\n",
       "    </tr>\n",
       "    <tr>\n",
       "      <th>6</th>\n",
       "      <td>20379</td>\n",
       "      <td>Operations</td>\n",
       "      <td>region_20</td>\n",
       "      <td>Bachelor's</td>\n",
       "      <td>f</td>\n",
       "      <td>other</td>\n",
       "      <td>1</td>\n",
       "      <td>31</td>\n",
       "      <td>3.0</td>\n",
       "      <td>5</td>\n",
       "      <td>0</td>\n",
       "      <td>0</td>\n",
       "      <td>59</td>\n",
       "      <td>0</td>\n",
       "    </tr>\n",
       "    <tr>\n",
       "      <th>7</th>\n",
       "      <td>16290</td>\n",
       "      <td>Operations</td>\n",
       "      <td>region_34</td>\n",
       "      <td>Master's &amp; above</td>\n",
       "      <td>m</td>\n",
       "      <td>sourcing</td>\n",
       "      <td>1</td>\n",
       "      <td>33</td>\n",
       "      <td>3.0</td>\n",
       "      <td>6</td>\n",
       "      <td>0</td>\n",
       "      <td>0</td>\n",
       "      <td>63</td>\n",
       "      <td>0</td>\n",
       "    </tr>\n",
       "    <tr>\n",
       "      <th>8</th>\n",
       "      <td>73202</td>\n",
       "      <td>Analytics</td>\n",
       "      <td>region_20</td>\n",
       "      <td>Bachelor's</td>\n",
       "      <td>m</td>\n",
       "      <td>other</td>\n",
       "      <td>1</td>\n",
       "      <td>28</td>\n",
       "      <td>4.0</td>\n",
       "      <td>5</td>\n",
       "      <td>0</td>\n",
       "      <td>0</td>\n",
       "      <td>83</td>\n",
       "      <td>0</td>\n",
       "    </tr>\n",
       "    <tr>\n",
       "      <th>9</th>\n",
       "      <td>28911</td>\n",
       "      <td>Sales &amp; Marketing</td>\n",
       "      <td>region_1</td>\n",
       "      <td>Master's &amp; above</td>\n",
       "      <td>m</td>\n",
       "      <td>sourcing</td>\n",
       "      <td>1</td>\n",
       "      <td>32</td>\n",
       "      <td>5.0</td>\n",
       "      <td>5</td>\n",
       "      <td>1</td>\n",
       "      <td>0</td>\n",
       "      <td>54</td>\n",
       "      <td>0</td>\n",
       "    </tr>\n",
       "  </tbody>\n",
       "</table>\n",
       "</div>"
      ],
      "text/plain": [
       "   employee_id         department     region         education gender  \\\n",
       "0        65438  Sales & Marketing   region_7  Master's & above      f   \n",
       "1        65141         Operations  region_22        Bachelor's      m   \n",
       "2         7513  Sales & Marketing  region_19        Bachelor's      m   \n",
       "3         2542  Sales & Marketing  region_23        Bachelor's      m   \n",
       "4        48945         Technology  region_26        Bachelor's      m   \n",
       "5        58896          Analytics   region_2        Bachelor's      m   \n",
       "6        20379         Operations  region_20        Bachelor's      f   \n",
       "7        16290         Operations  region_34  Master's & above      m   \n",
       "8        73202          Analytics  region_20        Bachelor's      m   \n",
       "9        28911  Sales & Marketing   region_1  Master's & above      m   \n",
       "\n",
       "  recruitment_channel  no_of_trainings  age  previous_year_rating  \\\n",
       "0            sourcing                1   35                   5.0   \n",
       "1               other                1   30                   5.0   \n",
       "2            sourcing                1   34                   3.0   \n",
       "3               other                2   39                   1.0   \n",
       "4               other                1   45                   3.0   \n",
       "5            sourcing                2   31                   3.0   \n",
       "6               other                1   31                   3.0   \n",
       "7            sourcing                1   33                   3.0   \n",
       "8               other                1   28                   4.0   \n",
       "9            sourcing                1   32                   5.0   \n",
       "\n",
       "   length_of_service  KPIs_met >80%  awards_won?  avg_training_score  \\\n",
       "0                  8              1            0                  49   \n",
       "1                  4              0            0                  60   \n",
       "2                  7              0            0                  50   \n",
       "3                 10              0            0                  50   \n",
       "4                  2              0            0                  73   \n",
       "5                  7              0            0                  85   \n",
       "6                  5              0            0                  59   \n",
       "7                  6              0            0                  63   \n",
       "8                  5              0            0                  83   \n",
       "9                  5              1            0                  54   \n",
       "\n",
       "   is_promoted  \n",
       "0            0  \n",
       "1            0  \n",
       "2            0  \n",
       "3            0  \n",
       "4            0  \n",
       "5            0  \n",
       "6            0  \n",
       "7            0  \n",
       "8            0  \n",
       "9            0  "
      ]
     },
     "execution_count": 3,
     "metadata": {},
     "output_type": "execute_result"
    }
   ],
   "source": [
    "data.head(10)"
   ]
  },
  {
   "cell_type": "code",
   "execution_count": 4,
   "id": "d651b9f9",
   "metadata": {},
   "outputs": [
    {
     "data": {
      "text/html": [
       "<div>\n",
       "<style scoped>\n",
       "    .dataframe tbody tr th:only-of-type {\n",
       "        vertical-align: middle;\n",
       "    }\n",
       "\n",
       "    .dataframe tbody tr th {\n",
       "        vertical-align: top;\n",
       "    }\n",
       "\n",
       "    .dataframe thead th {\n",
       "        text-align: right;\n",
       "    }\n",
       "</style>\n",
       "<table border=\"1\" class=\"dataframe\">\n",
       "  <thead>\n",
       "    <tr style=\"text-align: right;\">\n",
       "      <th></th>\n",
       "      <th>employee_id</th>\n",
       "      <th>department</th>\n",
       "      <th>region</th>\n",
       "      <th>education</th>\n",
       "      <th>gender</th>\n",
       "      <th>recruitment_channel</th>\n",
       "      <th>no_of_trainings</th>\n",
       "      <th>age</th>\n",
       "      <th>previous_year_rating</th>\n",
       "      <th>length_of_service</th>\n",
       "      <th>KPIs_met &gt;80%</th>\n",
       "      <th>awards_won?</th>\n",
       "      <th>avg_training_score</th>\n",
       "      <th>is_promoted</th>\n",
       "    </tr>\n",
       "  </thead>\n",
       "  <tbody>\n",
       "    <tr>\n",
       "      <th>54798</th>\n",
       "      <td>40257</td>\n",
       "      <td>Sales &amp; Marketing</td>\n",
       "      <td>region_2</td>\n",
       "      <td>Master's &amp; above</td>\n",
       "      <td>f</td>\n",
       "      <td>other</td>\n",
       "      <td>2</td>\n",
       "      <td>40</td>\n",
       "      <td>5.0</td>\n",
       "      <td>4</td>\n",
       "      <td>1</td>\n",
       "      <td>0</td>\n",
       "      <td>51</td>\n",
       "      <td>0</td>\n",
       "    </tr>\n",
       "    <tr>\n",
       "      <th>54799</th>\n",
       "      <td>68093</td>\n",
       "      <td>Procurement</td>\n",
       "      <td>region_2</td>\n",
       "      <td>Master's &amp; above</td>\n",
       "      <td>f</td>\n",
       "      <td>other</td>\n",
       "      <td>1</td>\n",
       "      <td>50</td>\n",
       "      <td>5.0</td>\n",
       "      <td>6</td>\n",
       "      <td>1</td>\n",
       "      <td>1</td>\n",
       "      <td>67</td>\n",
       "      <td>0</td>\n",
       "    </tr>\n",
       "    <tr>\n",
       "      <th>54800</th>\n",
       "      <td>39227</td>\n",
       "      <td>HR</td>\n",
       "      <td>region_11</td>\n",
       "      <td>Bachelor's</td>\n",
       "      <td>m</td>\n",
       "      <td>other</td>\n",
       "      <td>2</td>\n",
       "      <td>34</td>\n",
       "      <td>5.0</td>\n",
       "      <td>3</td>\n",
       "      <td>0</td>\n",
       "      <td>0</td>\n",
       "      <td>52</td>\n",
       "      <td>0</td>\n",
       "    </tr>\n",
       "    <tr>\n",
       "      <th>54801</th>\n",
       "      <td>12431</td>\n",
       "      <td>Technology</td>\n",
       "      <td>region_26</td>\n",
       "      <td>Bachelor's</td>\n",
       "      <td>f</td>\n",
       "      <td>sourcing</td>\n",
       "      <td>1</td>\n",
       "      <td>31</td>\n",
       "      <td>NaN</td>\n",
       "      <td>1</td>\n",
       "      <td>0</td>\n",
       "      <td>0</td>\n",
       "      <td>78</td>\n",
       "      <td>0</td>\n",
       "    </tr>\n",
       "    <tr>\n",
       "      <th>54802</th>\n",
       "      <td>6915</td>\n",
       "      <td>Sales &amp; Marketing</td>\n",
       "      <td>region_14</td>\n",
       "      <td>Bachelor's</td>\n",
       "      <td>m</td>\n",
       "      <td>other</td>\n",
       "      <td>2</td>\n",
       "      <td>31</td>\n",
       "      <td>1.0</td>\n",
       "      <td>2</td>\n",
       "      <td>0</td>\n",
       "      <td>0</td>\n",
       "      <td>49</td>\n",
       "      <td>0</td>\n",
       "    </tr>\n",
       "    <tr>\n",
       "      <th>54803</th>\n",
       "      <td>3030</td>\n",
       "      <td>Technology</td>\n",
       "      <td>region_14</td>\n",
       "      <td>Bachelor's</td>\n",
       "      <td>m</td>\n",
       "      <td>sourcing</td>\n",
       "      <td>1</td>\n",
       "      <td>48</td>\n",
       "      <td>3.0</td>\n",
       "      <td>17</td>\n",
       "      <td>0</td>\n",
       "      <td>0</td>\n",
       "      <td>78</td>\n",
       "      <td>0</td>\n",
       "    </tr>\n",
       "    <tr>\n",
       "      <th>54804</th>\n",
       "      <td>74592</td>\n",
       "      <td>Operations</td>\n",
       "      <td>region_27</td>\n",
       "      <td>Master's &amp; above</td>\n",
       "      <td>f</td>\n",
       "      <td>other</td>\n",
       "      <td>1</td>\n",
       "      <td>37</td>\n",
       "      <td>2.0</td>\n",
       "      <td>6</td>\n",
       "      <td>0</td>\n",
       "      <td>0</td>\n",
       "      <td>56</td>\n",
       "      <td>0</td>\n",
       "    </tr>\n",
       "    <tr>\n",
       "      <th>54805</th>\n",
       "      <td>13918</td>\n",
       "      <td>Analytics</td>\n",
       "      <td>region_1</td>\n",
       "      <td>Bachelor's</td>\n",
       "      <td>m</td>\n",
       "      <td>other</td>\n",
       "      <td>1</td>\n",
       "      <td>27</td>\n",
       "      <td>5.0</td>\n",
       "      <td>3</td>\n",
       "      <td>1</td>\n",
       "      <td>0</td>\n",
       "      <td>79</td>\n",
       "      <td>0</td>\n",
       "    </tr>\n",
       "    <tr>\n",
       "      <th>54806</th>\n",
       "      <td>13614</td>\n",
       "      <td>Sales &amp; Marketing</td>\n",
       "      <td>region_9</td>\n",
       "      <td>NaN</td>\n",
       "      <td>m</td>\n",
       "      <td>sourcing</td>\n",
       "      <td>1</td>\n",
       "      <td>29</td>\n",
       "      <td>1.0</td>\n",
       "      <td>2</td>\n",
       "      <td>0</td>\n",
       "      <td>0</td>\n",
       "      <td>45</td>\n",
       "      <td>0</td>\n",
       "    </tr>\n",
       "    <tr>\n",
       "      <th>54807</th>\n",
       "      <td>51526</td>\n",
       "      <td>HR</td>\n",
       "      <td>region_22</td>\n",
       "      <td>Bachelor's</td>\n",
       "      <td>m</td>\n",
       "      <td>other</td>\n",
       "      <td>1</td>\n",
       "      <td>27</td>\n",
       "      <td>1.0</td>\n",
       "      <td>5</td>\n",
       "      <td>0</td>\n",
       "      <td>0</td>\n",
       "      <td>49</td>\n",
       "      <td>0</td>\n",
       "    </tr>\n",
       "  </tbody>\n",
       "</table>\n",
       "</div>"
      ],
      "text/plain": [
       "       employee_id         department     region         education gender  \\\n",
       "54798        40257  Sales & Marketing   region_2  Master's & above      f   \n",
       "54799        68093        Procurement   region_2  Master's & above      f   \n",
       "54800        39227                 HR  region_11        Bachelor's      m   \n",
       "54801        12431         Technology  region_26        Bachelor's      f   \n",
       "54802         6915  Sales & Marketing  region_14        Bachelor's      m   \n",
       "54803         3030         Technology  region_14        Bachelor's      m   \n",
       "54804        74592         Operations  region_27  Master's & above      f   \n",
       "54805        13918          Analytics   region_1        Bachelor's      m   \n",
       "54806        13614  Sales & Marketing   region_9               NaN      m   \n",
       "54807        51526                 HR  region_22        Bachelor's      m   \n",
       "\n",
       "      recruitment_channel  no_of_trainings  age  previous_year_rating  \\\n",
       "54798               other                2   40                   5.0   \n",
       "54799               other                1   50                   5.0   \n",
       "54800               other                2   34                   5.0   \n",
       "54801            sourcing                1   31                   NaN   \n",
       "54802               other                2   31                   1.0   \n",
       "54803            sourcing                1   48                   3.0   \n",
       "54804               other                1   37                   2.0   \n",
       "54805               other                1   27                   5.0   \n",
       "54806            sourcing                1   29                   1.0   \n",
       "54807               other                1   27                   1.0   \n",
       "\n",
       "       length_of_service  KPIs_met >80%  awards_won?  avg_training_score  \\\n",
       "54798                  4              1            0                  51   \n",
       "54799                  6              1            1                  67   \n",
       "54800                  3              0            0                  52   \n",
       "54801                  1              0            0                  78   \n",
       "54802                  2              0            0                  49   \n",
       "54803                 17              0            0                  78   \n",
       "54804                  6              0            0                  56   \n",
       "54805                  3              1            0                  79   \n",
       "54806                  2              0            0                  45   \n",
       "54807                  5              0            0                  49   \n",
       "\n",
       "       is_promoted  \n",
       "54798            0  \n",
       "54799            0  \n",
       "54800            0  \n",
       "54801            0  \n",
       "54802            0  \n",
       "54803            0  \n",
       "54804            0  \n",
       "54805            0  \n",
       "54806            0  \n",
       "54807            0  "
      ]
     },
     "execution_count": 4,
     "metadata": {},
     "output_type": "execute_result"
    }
   ],
   "source": [
    "data.tail(10)"
   ]
  },
  {
   "cell_type": "code",
   "execution_count": 5,
   "id": "d57f156c",
   "metadata": {},
   "outputs": [
    {
     "data": {
      "text/plain": [
       "(54808, 14)"
      ]
     },
     "execution_count": 5,
     "metadata": {},
     "output_type": "execute_result"
    }
   ],
   "source": [
    "data.shape"
   ]
  },
  {
   "cell_type": "code",
   "execution_count": 6,
   "id": "ea938ee0",
   "metadata": {},
   "outputs": [
    {
     "data": {
      "text/plain": [
       "0    50140\n",
       "1     4668\n",
       "Name: is_promoted, dtype: int64"
      ]
     },
     "execution_count": 6,
     "metadata": {},
     "output_type": "execute_result"
    }
   ],
   "source": [
    "data.is_promoted.value_counts()"
   ]
  },
  {
   "cell_type": "code",
   "execution_count": 7,
   "id": "67de6856",
   "metadata": {},
   "outputs": [
    {
     "data": {
      "text/plain": [
       "employee_id                0\n",
       "department                 0\n",
       "region                     0\n",
       "education               2409\n",
       "gender                     0\n",
       "recruitment_channel        0\n",
       "no_of_trainings            0\n",
       "age                        0\n",
       "previous_year_rating    4124\n",
       "length_of_service          0\n",
       "KPIs_met >80%              0\n",
       "awards_won?                0\n",
       "avg_training_score         0\n",
       "is_promoted                0\n",
       "dtype: int64"
      ]
     },
     "execution_count": 7,
     "metadata": {},
     "output_type": "execute_result"
    }
   ],
   "source": [
    "data.isnull().sum()"
   ]
  },
  {
   "cell_type": "code",
   "execution_count": 8,
   "id": "3a26dd0d",
   "metadata": {},
   "outputs": [
    {
     "data": {
      "text/plain": [
       "Index(['employee_id', 'department', 'region', 'education', 'gender',\n",
       "       'recruitment_channel', 'no_of_trainings', 'age', 'previous_year_rating',\n",
       "       'length_of_service', 'KPIs_met >80%', 'awards_won?',\n",
       "       'avg_training_score', 'is_promoted'],\n",
       "      dtype='object')"
      ]
     },
     "execution_count": 8,
     "metadata": {},
     "output_type": "execute_result"
    }
   ],
   "source": [
    "data.columns"
   ]
  },
  {
   "cell_type": "code",
   "execution_count": 9,
   "id": "368103a7",
   "metadata": {},
   "outputs": [
    {
     "data": {
      "text/plain": [
       "0        65438\n",
       "1        65141\n",
       "2         7513\n",
       "3         2542\n",
       "4        48945\n",
       "         ...  \n",
       "54803     3030\n",
       "54804    74592\n",
       "54805    13918\n",
       "54806    13614\n",
       "54807    51526\n",
       "Name: employee_id, Length: 54808, dtype: int64"
      ]
     },
     "execution_count": 9,
     "metadata": {},
     "output_type": "execute_result"
    }
   ],
   "source": [
    "e=data[\"employee_id\"]\n",
    "e"
   ]
  },
  {
   "cell_type": "code",
   "execution_count": 10,
   "id": "a3f9f991",
   "metadata": {},
   "outputs": [
    {
     "data": {
      "text/html": [
       "<div>\n",
       "<style scoped>\n",
       "    .dataframe tbody tr th:only-of-type {\n",
       "        vertical-align: middle;\n",
       "    }\n",
       "\n",
       "    .dataframe tbody tr th {\n",
       "        vertical-align: top;\n",
       "    }\n",
       "\n",
       "    .dataframe thead th {\n",
       "        text-align: right;\n",
       "    }\n",
       "</style>\n",
       "<table border=\"1\" class=\"dataframe\">\n",
       "  <thead>\n",
       "    <tr style=\"text-align: right;\">\n",
       "      <th></th>\n",
       "      <th>department</th>\n",
       "      <th>region</th>\n",
       "      <th>education</th>\n",
       "      <th>gender</th>\n",
       "      <th>recruitment_channel</th>\n",
       "      <th>no_of_trainings</th>\n",
       "      <th>age</th>\n",
       "      <th>previous_year_rating</th>\n",
       "      <th>length_of_service</th>\n",
       "      <th>KPIs_met &gt;80%</th>\n",
       "      <th>awards_won?</th>\n",
       "      <th>avg_training_score</th>\n",
       "      <th>is_promoted</th>\n",
       "    </tr>\n",
       "  </thead>\n",
       "  <tbody>\n",
       "    <tr>\n",
       "      <th>0</th>\n",
       "      <td>Sales &amp; Marketing</td>\n",
       "      <td>region_7</td>\n",
       "      <td>Master's &amp; above</td>\n",
       "      <td>f</td>\n",
       "      <td>sourcing</td>\n",
       "      <td>1</td>\n",
       "      <td>35</td>\n",
       "      <td>5.0</td>\n",
       "      <td>8</td>\n",
       "      <td>1</td>\n",
       "      <td>0</td>\n",
       "      <td>49</td>\n",
       "      <td>0</td>\n",
       "    </tr>\n",
       "    <tr>\n",
       "      <th>1</th>\n",
       "      <td>Operations</td>\n",
       "      <td>region_22</td>\n",
       "      <td>Bachelor's</td>\n",
       "      <td>m</td>\n",
       "      <td>other</td>\n",
       "      <td>1</td>\n",
       "      <td>30</td>\n",
       "      <td>5.0</td>\n",
       "      <td>4</td>\n",
       "      <td>0</td>\n",
       "      <td>0</td>\n",
       "      <td>60</td>\n",
       "      <td>0</td>\n",
       "    </tr>\n",
       "    <tr>\n",
       "      <th>2</th>\n",
       "      <td>Sales &amp; Marketing</td>\n",
       "      <td>region_19</td>\n",
       "      <td>Bachelor's</td>\n",
       "      <td>m</td>\n",
       "      <td>sourcing</td>\n",
       "      <td>1</td>\n",
       "      <td>34</td>\n",
       "      <td>3.0</td>\n",
       "      <td>7</td>\n",
       "      <td>0</td>\n",
       "      <td>0</td>\n",
       "      <td>50</td>\n",
       "      <td>0</td>\n",
       "    </tr>\n",
       "    <tr>\n",
       "      <th>3</th>\n",
       "      <td>Sales &amp; Marketing</td>\n",
       "      <td>region_23</td>\n",
       "      <td>Bachelor's</td>\n",
       "      <td>m</td>\n",
       "      <td>other</td>\n",
       "      <td>2</td>\n",
       "      <td>39</td>\n",
       "      <td>1.0</td>\n",
       "      <td>10</td>\n",
       "      <td>0</td>\n",
       "      <td>0</td>\n",
       "      <td>50</td>\n",
       "      <td>0</td>\n",
       "    </tr>\n",
       "    <tr>\n",
       "      <th>4</th>\n",
       "      <td>Technology</td>\n",
       "      <td>region_26</td>\n",
       "      <td>Bachelor's</td>\n",
       "      <td>m</td>\n",
       "      <td>other</td>\n",
       "      <td>1</td>\n",
       "      <td>45</td>\n",
       "      <td>3.0</td>\n",
       "      <td>2</td>\n",
       "      <td>0</td>\n",
       "      <td>0</td>\n",
       "      <td>73</td>\n",
       "      <td>0</td>\n",
       "    </tr>\n",
       "    <tr>\n",
       "      <th>...</th>\n",
       "      <td>...</td>\n",
       "      <td>...</td>\n",
       "      <td>...</td>\n",
       "      <td>...</td>\n",
       "      <td>...</td>\n",
       "      <td>...</td>\n",
       "      <td>...</td>\n",
       "      <td>...</td>\n",
       "      <td>...</td>\n",
       "      <td>...</td>\n",
       "      <td>...</td>\n",
       "      <td>...</td>\n",
       "      <td>...</td>\n",
       "    </tr>\n",
       "    <tr>\n",
       "      <th>54803</th>\n",
       "      <td>Technology</td>\n",
       "      <td>region_14</td>\n",
       "      <td>Bachelor's</td>\n",
       "      <td>m</td>\n",
       "      <td>sourcing</td>\n",
       "      <td>1</td>\n",
       "      <td>48</td>\n",
       "      <td>3.0</td>\n",
       "      <td>17</td>\n",
       "      <td>0</td>\n",
       "      <td>0</td>\n",
       "      <td>78</td>\n",
       "      <td>0</td>\n",
       "    </tr>\n",
       "    <tr>\n",
       "      <th>54804</th>\n",
       "      <td>Operations</td>\n",
       "      <td>region_27</td>\n",
       "      <td>Master's &amp; above</td>\n",
       "      <td>f</td>\n",
       "      <td>other</td>\n",
       "      <td>1</td>\n",
       "      <td>37</td>\n",
       "      <td>2.0</td>\n",
       "      <td>6</td>\n",
       "      <td>0</td>\n",
       "      <td>0</td>\n",
       "      <td>56</td>\n",
       "      <td>0</td>\n",
       "    </tr>\n",
       "    <tr>\n",
       "      <th>54805</th>\n",
       "      <td>Analytics</td>\n",
       "      <td>region_1</td>\n",
       "      <td>Bachelor's</td>\n",
       "      <td>m</td>\n",
       "      <td>other</td>\n",
       "      <td>1</td>\n",
       "      <td>27</td>\n",
       "      <td>5.0</td>\n",
       "      <td>3</td>\n",
       "      <td>1</td>\n",
       "      <td>0</td>\n",
       "      <td>79</td>\n",
       "      <td>0</td>\n",
       "    </tr>\n",
       "    <tr>\n",
       "      <th>54806</th>\n",
       "      <td>Sales &amp; Marketing</td>\n",
       "      <td>region_9</td>\n",
       "      <td>NaN</td>\n",
       "      <td>m</td>\n",
       "      <td>sourcing</td>\n",
       "      <td>1</td>\n",
       "      <td>29</td>\n",
       "      <td>1.0</td>\n",
       "      <td>2</td>\n",
       "      <td>0</td>\n",
       "      <td>0</td>\n",
       "      <td>45</td>\n",
       "      <td>0</td>\n",
       "    </tr>\n",
       "    <tr>\n",
       "      <th>54807</th>\n",
       "      <td>HR</td>\n",
       "      <td>region_22</td>\n",
       "      <td>Bachelor's</td>\n",
       "      <td>m</td>\n",
       "      <td>other</td>\n",
       "      <td>1</td>\n",
       "      <td>27</td>\n",
       "      <td>1.0</td>\n",
       "      <td>5</td>\n",
       "      <td>0</td>\n",
       "      <td>0</td>\n",
       "      <td>49</td>\n",
       "      <td>0</td>\n",
       "    </tr>\n",
       "  </tbody>\n",
       "</table>\n",
       "<p>54808 rows × 13 columns</p>\n",
       "</div>"
      ],
      "text/plain": [
       "              department     region         education gender  \\\n",
       "0      Sales & Marketing   region_7  Master's & above      f   \n",
       "1             Operations  region_22        Bachelor's      m   \n",
       "2      Sales & Marketing  region_19        Bachelor's      m   \n",
       "3      Sales & Marketing  region_23        Bachelor's      m   \n",
       "4             Technology  region_26        Bachelor's      m   \n",
       "...                  ...        ...               ...    ...   \n",
       "54803         Technology  region_14        Bachelor's      m   \n",
       "54804         Operations  region_27  Master's & above      f   \n",
       "54805          Analytics   region_1        Bachelor's      m   \n",
       "54806  Sales & Marketing   region_9               NaN      m   \n",
       "54807                 HR  region_22        Bachelor's      m   \n",
       "\n",
       "      recruitment_channel  no_of_trainings  age  previous_year_rating  \\\n",
       "0                sourcing                1   35                   5.0   \n",
       "1                   other                1   30                   5.0   \n",
       "2                sourcing                1   34                   3.0   \n",
       "3                   other                2   39                   1.0   \n",
       "4                   other                1   45                   3.0   \n",
       "...                   ...              ...  ...                   ...   \n",
       "54803            sourcing                1   48                   3.0   \n",
       "54804               other                1   37                   2.0   \n",
       "54805               other                1   27                   5.0   \n",
       "54806            sourcing                1   29                   1.0   \n",
       "54807               other                1   27                   1.0   \n",
       "\n",
       "       length_of_service  KPIs_met >80%  awards_won?  avg_training_score  \\\n",
       "0                      8              1            0                  49   \n",
       "1                      4              0            0                  60   \n",
       "2                      7              0            0                  50   \n",
       "3                     10              0            0                  50   \n",
       "4                      2              0            0                  73   \n",
       "...                  ...            ...          ...                 ...   \n",
       "54803                 17              0            0                  78   \n",
       "54804                  6              0            0                  56   \n",
       "54805                  3              1            0                  79   \n",
       "54806                  2              0            0                  45   \n",
       "54807                  5              0            0                  49   \n",
       "\n",
       "       is_promoted  \n",
       "0                0  \n",
       "1                0  \n",
       "2                0  \n",
       "3                0  \n",
       "4                0  \n",
       "...            ...  \n",
       "54803            0  \n",
       "54804            0  \n",
       "54805            0  \n",
       "54806            0  \n",
       "54807            0  \n",
       "\n",
       "[54808 rows x 13 columns]"
      ]
     },
     "execution_count": 10,
     "metadata": {},
     "output_type": "execute_result"
    }
   ],
   "source": [
    "data=data.drop([\"employee_id\"],axis=1)\n",
    "data"
   ]
  },
  {
   "cell_type": "code",
   "execution_count": 11,
   "id": "1af6ca21",
   "metadata": {},
   "outputs": [
    {
     "data": {
      "text/html": [
       "<div>\n",
       "<style scoped>\n",
       "    .dataframe tbody tr th:only-of-type {\n",
       "        vertical-align: middle;\n",
       "    }\n",
       "\n",
       "    .dataframe tbody tr th {\n",
       "        vertical-align: top;\n",
       "    }\n",
       "\n",
       "    .dataframe thead th {\n",
       "        text-align: right;\n",
       "    }\n",
       "</style>\n",
       "<table border=\"1\" class=\"dataframe\">\n",
       "  <thead>\n",
       "    <tr style=\"text-align: right;\">\n",
       "      <th></th>\n",
       "      <th>department</th>\n",
       "      <th>region</th>\n",
       "      <th>education</th>\n",
       "      <th>gender</th>\n",
       "      <th>recruitment_channel</th>\n",
       "      <th>no_of_trainings</th>\n",
       "      <th>age</th>\n",
       "      <th>previous_year_rating</th>\n",
       "      <th>length_of_service</th>\n",
       "      <th>KPIs_met &gt;80%</th>\n",
       "      <th>awards_won?</th>\n",
       "      <th>avg_training_score</th>\n",
       "      <th>is_promoted</th>\n",
       "    </tr>\n",
       "  </thead>\n",
       "  <tbody>\n",
       "    <tr>\n",
       "      <th>0</th>\n",
       "      <td>Sales &amp; Marketing</td>\n",
       "      <td>region_7</td>\n",
       "      <td>Master's &amp; above</td>\n",
       "      <td>f</td>\n",
       "      <td>sourcing</td>\n",
       "      <td>1</td>\n",
       "      <td>35</td>\n",
       "      <td>5.0</td>\n",
       "      <td>8</td>\n",
       "      <td>1</td>\n",
       "      <td>0</td>\n",
       "      <td>49</td>\n",
       "      <td>0</td>\n",
       "    </tr>\n",
       "    <tr>\n",
       "      <th>1</th>\n",
       "      <td>Operations</td>\n",
       "      <td>region_22</td>\n",
       "      <td>Bachelor's</td>\n",
       "      <td>m</td>\n",
       "      <td>other</td>\n",
       "      <td>1</td>\n",
       "      <td>30</td>\n",
       "      <td>5.0</td>\n",
       "      <td>4</td>\n",
       "      <td>0</td>\n",
       "      <td>0</td>\n",
       "      <td>60</td>\n",
       "      <td>0</td>\n",
       "    </tr>\n",
       "    <tr>\n",
       "      <th>2</th>\n",
       "      <td>Sales &amp; Marketing</td>\n",
       "      <td>region_19</td>\n",
       "      <td>Bachelor's</td>\n",
       "      <td>m</td>\n",
       "      <td>sourcing</td>\n",
       "      <td>1</td>\n",
       "      <td>34</td>\n",
       "      <td>3.0</td>\n",
       "      <td>7</td>\n",
       "      <td>0</td>\n",
       "      <td>0</td>\n",
       "      <td>50</td>\n",
       "      <td>0</td>\n",
       "    </tr>\n",
       "    <tr>\n",
       "      <th>3</th>\n",
       "      <td>Sales &amp; Marketing</td>\n",
       "      <td>region_23</td>\n",
       "      <td>Bachelor's</td>\n",
       "      <td>m</td>\n",
       "      <td>other</td>\n",
       "      <td>2</td>\n",
       "      <td>39</td>\n",
       "      <td>1.0</td>\n",
       "      <td>10</td>\n",
       "      <td>0</td>\n",
       "      <td>0</td>\n",
       "      <td>50</td>\n",
       "      <td>0</td>\n",
       "    </tr>\n",
       "    <tr>\n",
       "      <th>4</th>\n",
       "      <td>Technology</td>\n",
       "      <td>region_26</td>\n",
       "      <td>Bachelor's</td>\n",
       "      <td>m</td>\n",
       "      <td>other</td>\n",
       "      <td>1</td>\n",
       "      <td>45</td>\n",
       "      <td>3.0</td>\n",
       "      <td>2</td>\n",
       "      <td>0</td>\n",
       "      <td>0</td>\n",
       "      <td>73</td>\n",
       "      <td>0</td>\n",
       "    </tr>\n",
       "    <tr>\n",
       "      <th>5</th>\n",
       "      <td>Analytics</td>\n",
       "      <td>region_2</td>\n",
       "      <td>Bachelor's</td>\n",
       "      <td>m</td>\n",
       "      <td>sourcing</td>\n",
       "      <td>2</td>\n",
       "      <td>31</td>\n",
       "      <td>3.0</td>\n",
       "      <td>7</td>\n",
       "      <td>0</td>\n",
       "      <td>0</td>\n",
       "      <td>85</td>\n",
       "      <td>0</td>\n",
       "    </tr>\n",
       "    <tr>\n",
       "      <th>6</th>\n",
       "      <td>Operations</td>\n",
       "      <td>region_20</td>\n",
       "      <td>Bachelor's</td>\n",
       "      <td>f</td>\n",
       "      <td>other</td>\n",
       "      <td>1</td>\n",
       "      <td>31</td>\n",
       "      <td>3.0</td>\n",
       "      <td>5</td>\n",
       "      <td>0</td>\n",
       "      <td>0</td>\n",
       "      <td>59</td>\n",
       "      <td>0</td>\n",
       "    </tr>\n",
       "    <tr>\n",
       "      <th>7</th>\n",
       "      <td>Operations</td>\n",
       "      <td>region_34</td>\n",
       "      <td>Master's &amp; above</td>\n",
       "      <td>m</td>\n",
       "      <td>sourcing</td>\n",
       "      <td>1</td>\n",
       "      <td>33</td>\n",
       "      <td>3.0</td>\n",
       "      <td>6</td>\n",
       "      <td>0</td>\n",
       "      <td>0</td>\n",
       "      <td>63</td>\n",
       "      <td>0</td>\n",
       "    </tr>\n",
       "    <tr>\n",
       "      <th>8</th>\n",
       "      <td>Analytics</td>\n",
       "      <td>region_20</td>\n",
       "      <td>Bachelor's</td>\n",
       "      <td>m</td>\n",
       "      <td>other</td>\n",
       "      <td>1</td>\n",
       "      <td>28</td>\n",
       "      <td>4.0</td>\n",
       "      <td>5</td>\n",
       "      <td>0</td>\n",
       "      <td>0</td>\n",
       "      <td>83</td>\n",
       "      <td>0</td>\n",
       "    </tr>\n",
       "    <tr>\n",
       "      <th>9</th>\n",
       "      <td>Sales &amp; Marketing</td>\n",
       "      <td>region_1</td>\n",
       "      <td>Master's &amp; above</td>\n",
       "      <td>m</td>\n",
       "      <td>sourcing</td>\n",
       "      <td>1</td>\n",
       "      <td>32</td>\n",
       "      <td>5.0</td>\n",
       "      <td>5</td>\n",
       "      <td>1</td>\n",
       "      <td>0</td>\n",
       "      <td>54</td>\n",
       "      <td>0</td>\n",
       "    </tr>\n",
       "  </tbody>\n",
       "</table>\n",
       "</div>"
      ],
      "text/plain": [
       "          department     region         education gender recruitment_channel  \\\n",
       "0  Sales & Marketing   region_7  Master's & above      f            sourcing   \n",
       "1         Operations  region_22        Bachelor's      m               other   \n",
       "2  Sales & Marketing  region_19        Bachelor's      m            sourcing   \n",
       "3  Sales & Marketing  region_23        Bachelor's      m               other   \n",
       "4         Technology  region_26        Bachelor's      m               other   \n",
       "5          Analytics   region_2        Bachelor's      m            sourcing   \n",
       "6         Operations  region_20        Bachelor's      f               other   \n",
       "7         Operations  region_34  Master's & above      m            sourcing   \n",
       "8          Analytics  region_20        Bachelor's      m               other   \n",
       "9  Sales & Marketing   region_1  Master's & above      m            sourcing   \n",
       "\n",
       "   no_of_trainings  age  previous_year_rating  length_of_service  \\\n",
       "0                1   35                   5.0                  8   \n",
       "1                1   30                   5.0                  4   \n",
       "2                1   34                   3.0                  7   \n",
       "3                2   39                   1.0                 10   \n",
       "4                1   45                   3.0                  2   \n",
       "5                2   31                   3.0                  7   \n",
       "6                1   31                   3.0                  5   \n",
       "7                1   33                   3.0                  6   \n",
       "8                1   28                   4.0                  5   \n",
       "9                1   32                   5.0                  5   \n",
       "\n",
       "   KPIs_met >80%  awards_won?  avg_training_score  is_promoted  \n",
       "0              1            0                  49            0  \n",
       "1              0            0                  60            0  \n",
       "2              0            0                  50            0  \n",
       "3              0            0                  50            0  \n",
       "4              0            0                  73            0  \n",
       "5              0            0                  85            0  \n",
       "6              0            0                  59            0  \n",
       "7              0            0                  63            0  \n",
       "8              0            0                  83            0  \n",
       "9              1            0                  54            0  "
      ]
     },
     "execution_count": 11,
     "metadata": {},
     "output_type": "execute_result"
    }
   ],
   "source": [
    "data.head(10)"
   ]
  },
  {
   "cell_type": "code",
   "execution_count": 12,
   "id": "968cc6d2",
   "metadata": {},
   "outputs": [
    {
     "data": {
      "text/html": [
       "<div>\n",
       "<style scoped>\n",
       "    .dataframe tbody tr th:only-of-type {\n",
       "        vertical-align: middle;\n",
       "    }\n",
       "\n",
       "    .dataframe tbody tr th {\n",
       "        vertical-align: top;\n",
       "    }\n",
       "\n",
       "    .dataframe thead th {\n",
       "        text-align: right;\n",
       "    }\n",
       "</style>\n",
       "<table border=\"1\" class=\"dataframe\">\n",
       "  <thead>\n",
       "    <tr style=\"text-align: right;\">\n",
       "      <th></th>\n",
       "      <th>department</th>\n",
       "      <th>region</th>\n",
       "      <th>education</th>\n",
       "      <th>gender</th>\n",
       "      <th>recruitment_channel</th>\n",
       "      <th>no_of_trainings</th>\n",
       "      <th>age</th>\n",
       "      <th>previous_year_rating</th>\n",
       "      <th>length_of_service</th>\n",
       "      <th>KPIs_met &gt;80%</th>\n",
       "      <th>awards_won?</th>\n",
       "      <th>avg_training_score</th>\n",
       "      <th>is_promoted</th>\n",
       "    </tr>\n",
       "  </thead>\n",
       "  <tbody>\n",
       "    <tr>\n",
       "      <th>54798</th>\n",
       "      <td>Sales &amp; Marketing</td>\n",
       "      <td>region_2</td>\n",
       "      <td>Master's &amp; above</td>\n",
       "      <td>f</td>\n",
       "      <td>other</td>\n",
       "      <td>2</td>\n",
       "      <td>40</td>\n",
       "      <td>5.0</td>\n",
       "      <td>4</td>\n",
       "      <td>1</td>\n",
       "      <td>0</td>\n",
       "      <td>51</td>\n",
       "      <td>0</td>\n",
       "    </tr>\n",
       "    <tr>\n",
       "      <th>54799</th>\n",
       "      <td>Procurement</td>\n",
       "      <td>region_2</td>\n",
       "      <td>Master's &amp; above</td>\n",
       "      <td>f</td>\n",
       "      <td>other</td>\n",
       "      <td>1</td>\n",
       "      <td>50</td>\n",
       "      <td>5.0</td>\n",
       "      <td>6</td>\n",
       "      <td>1</td>\n",
       "      <td>1</td>\n",
       "      <td>67</td>\n",
       "      <td>0</td>\n",
       "    </tr>\n",
       "    <tr>\n",
       "      <th>54800</th>\n",
       "      <td>HR</td>\n",
       "      <td>region_11</td>\n",
       "      <td>Bachelor's</td>\n",
       "      <td>m</td>\n",
       "      <td>other</td>\n",
       "      <td>2</td>\n",
       "      <td>34</td>\n",
       "      <td>5.0</td>\n",
       "      <td>3</td>\n",
       "      <td>0</td>\n",
       "      <td>0</td>\n",
       "      <td>52</td>\n",
       "      <td>0</td>\n",
       "    </tr>\n",
       "    <tr>\n",
       "      <th>54801</th>\n",
       "      <td>Technology</td>\n",
       "      <td>region_26</td>\n",
       "      <td>Bachelor's</td>\n",
       "      <td>f</td>\n",
       "      <td>sourcing</td>\n",
       "      <td>1</td>\n",
       "      <td>31</td>\n",
       "      <td>NaN</td>\n",
       "      <td>1</td>\n",
       "      <td>0</td>\n",
       "      <td>0</td>\n",
       "      <td>78</td>\n",
       "      <td>0</td>\n",
       "    </tr>\n",
       "    <tr>\n",
       "      <th>54802</th>\n",
       "      <td>Sales &amp; Marketing</td>\n",
       "      <td>region_14</td>\n",
       "      <td>Bachelor's</td>\n",
       "      <td>m</td>\n",
       "      <td>other</td>\n",
       "      <td>2</td>\n",
       "      <td>31</td>\n",
       "      <td>1.0</td>\n",
       "      <td>2</td>\n",
       "      <td>0</td>\n",
       "      <td>0</td>\n",
       "      <td>49</td>\n",
       "      <td>0</td>\n",
       "    </tr>\n",
       "    <tr>\n",
       "      <th>54803</th>\n",
       "      <td>Technology</td>\n",
       "      <td>region_14</td>\n",
       "      <td>Bachelor's</td>\n",
       "      <td>m</td>\n",
       "      <td>sourcing</td>\n",
       "      <td>1</td>\n",
       "      <td>48</td>\n",
       "      <td>3.0</td>\n",
       "      <td>17</td>\n",
       "      <td>0</td>\n",
       "      <td>0</td>\n",
       "      <td>78</td>\n",
       "      <td>0</td>\n",
       "    </tr>\n",
       "    <tr>\n",
       "      <th>54804</th>\n",
       "      <td>Operations</td>\n",
       "      <td>region_27</td>\n",
       "      <td>Master's &amp; above</td>\n",
       "      <td>f</td>\n",
       "      <td>other</td>\n",
       "      <td>1</td>\n",
       "      <td>37</td>\n",
       "      <td>2.0</td>\n",
       "      <td>6</td>\n",
       "      <td>0</td>\n",
       "      <td>0</td>\n",
       "      <td>56</td>\n",
       "      <td>0</td>\n",
       "    </tr>\n",
       "    <tr>\n",
       "      <th>54805</th>\n",
       "      <td>Analytics</td>\n",
       "      <td>region_1</td>\n",
       "      <td>Bachelor's</td>\n",
       "      <td>m</td>\n",
       "      <td>other</td>\n",
       "      <td>1</td>\n",
       "      <td>27</td>\n",
       "      <td>5.0</td>\n",
       "      <td>3</td>\n",
       "      <td>1</td>\n",
       "      <td>0</td>\n",
       "      <td>79</td>\n",
       "      <td>0</td>\n",
       "    </tr>\n",
       "    <tr>\n",
       "      <th>54806</th>\n",
       "      <td>Sales &amp; Marketing</td>\n",
       "      <td>region_9</td>\n",
       "      <td>NaN</td>\n",
       "      <td>m</td>\n",
       "      <td>sourcing</td>\n",
       "      <td>1</td>\n",
       "      <td>29</td>\n",
       "      <td>1.0</td>\n",
       "      <td>2</td>\n",
       "      <td>0</td>\n",
       "      <td>0</td>\n",
       "      <td>45</td>\n",
       "      <td>0</td>\n",
       "    </tr>\n",
       "    <tr>\n",
       "      <th>54807</th>\n",
       "      <td>HR</td>\n",
       "      <td>region_22</td>\n",
       "      <td>Bachelor's</td>\n",
       "      <td>m</td>\n",
       "      <td>other</td>\n",
       "      <td>1</td>\n",
       "      <td>27</td>\n",
       "      <td>1.0</td>\n",
       "      <td>5</td>\n",
       "      <td>0</td>\n",
       "      <td>0</td>\n",
       "      <td>49</td>\n",
       "      <td>0</td>\n",
       "    </tr>\n",
       "  </tbody>\n",
       "</table>\n",
       "</div>"
      ],
      "text/plain": [
       "              department     region         education gender  \\\n",
       "54798  Sales & Marketing   region_2  Master's & above      f   \n",
       "54799        Procurement   region_2  Master's & above      f   \n",
       "54800                 HR  region_11        Bachelor's      m   \n",
       "54801         Technology  region_26        Bachelor's      f   \n",
       "54802  Sales & Marketing  region_14        Bachelor's      m   \n",
       "54803         Technology  region_14        Bachelor's      m   \n",
       "54804         Operations  region_27  Master's & above      f   \n",
       "54805          Analytics   region_1        Bachelor's      m   \n",
       "54806  Sales & Marketing   region_9               NaN      m   \n",
       "54807                 HR  region_22        Bachelor's      m   \n",
       "\n",
       "      recruitment_channel  no_of_trainings  age  previous_year_rating  \\\n",
       "54798               other                2   40                   5.0   \n",
       "54799               other                1   50                   5.0   \n",
       "54800               other                2   34                   5.0   \n",
       "54801            sourcing                1   31                   NaN   \n",
       "54802               other                2   31                   1.0   \n",
       "54803            sourcing                1   48                   3.0   \n",
       "54804               other                1   37                   2.0   \n",
       "54805               other                1   27                   5.0   \n",
       "54806            sourcing                1   29                   1.0   \n",
       "54807               other                1   27                   1.0   \n",
       "\n",
       "       length_of_service  KPIs_met >80%  awards_won?  avg_training_score  \\\n",
       "54798                  4              1            0                  51   \n",
       "54799                  6              1            1                  67   \n",
       "54800                  3              0            0                  52   \n",
       "54801                  1              0            0                  78   \n",
       "54802                  2              0            0                  49   \n",
       "54803                 17              0            0                  78   \n",
       "54804                  6              0            0                  56   \n",
       "54805                  3              1            0                  79   \n",
       "54806                  2              0            0                  45   \n",
       "54807                  5              0            0                  49   \n",
       "\n",
       "       is_promoted  \n",
       "54798            0  \n",
       "54799            0  \n",
       "54800            0  \n",
       "54801            0  \n",
       "54802            0  \n",
       "54803            0  \n",
       "54804            0  \n",
       "54805            0  \n",
       "54806            0  \n",
       "54807            0  "
      ]
     },
     "execution_count": 12,
     "metadata": {},
     "output_type": "execute_result"
    }
   ],
   "source": [
    "data.tail(10)"
   ]
  },
  {
   "cell_type": "code",
   "execution_count": 13,
   "id": "5d0fa75e",
   "metadata": {},
   "outputs": [
    {
     "data": {
      "text/html": [
       "<div>\n",
       "<style scoped>\n",
       "    .dataframe tbody tr th:only-of-type {\n",
       "        vertical-align: middle;\n",
       "    }\n",
       "\n",
       "    .dataframe tbody tr th {\n",
       "        vertical-align: top;\n",
       "    }\n",
       "\n",
       "    .dataframe thead th {\n",
       "        text-align: right;\n",
       "    }\n",
       "</style>\n",
       "<table border=\"1\" class=\"dataframe\">\n",
       "  <thead>\n",
       "    <tr style=\"text-align: right;\">\n",
       "      <th></th>\n",
       "      <th>no_of_trainings</th>\n",
       "      <th>age</th>\n",
       "      <th>previous_year_rating</th>\n",
       "      <th>length_of_service</th>\n",
       "      <th>KPIs_met &gt;80%</th>\n",
       "      <th>awards_won?</th>\n",
       "      <th>avg_training_score</th>\n",
       "      <th>is_promoted</th>\n",
       "    </tr>\n",
       "  </thead>\n",
       "  <tbody>\n",
       "    <tr>\n",
       "      <th>count</th>\n",
       "      <td>54808.000000</td>\n",
       "      <td>54808.000000</td>\n",
       "      <td>50684.000000</td>\n",
       "      <td>54808.000000</td>\n",
       "      <td>54808.000000</td>\n",
       "      <td>54808.000000</td>\n",
       "      <td>54808.000000</td>\n",
       "      <td>54808.000000</td>\n",
       "    </tr>\n",
       "    <tr>\n",
       "      <th>mean</th>\n",
       "      <td>1.253011</td>\n",
       "      <td>34.803915</td>\n",
       "      <td>3.329256</td>\n",
       "      <td>5.865512</td>\n",
       "      <td>0.351974</td>\n",
       "      <td>0.023172</td>\n",
       "      <td>63.386750</td>\n",
       "      <td>0.085170</td>\n",
       "    </tr>\n",
       "    <tr>\n",
       "      <th>std</th>\n",
       "      <td>0.609264</td>\n",
       "      <td>7.660169</td>\n",
       "      <td>1.259993</td>\n",
       "      <td>4.265094</td>\n",
       "      <td>0.477590</td>\n",
       "      <td>0.150450</td>\n",
       "      <td>13.371559</td>\n",
       "      <td>0.279137</td>\n",
       "    </tr>\n",
       "    <tr>\n",
       "      <th>min</th>\n",
       "      <td>1.000000</td>\n",
       "      <td>20.000000</td>\n",
       "      <td>1.000000</td>\n",
       "      <td>1.000000</td>\n",
       "      <td>0.000000</td>\n",
       "      <td>0.000000</td>\n",
       "      <td>39.000000</td>\n",
       "      <td>0.000000</td>\n",
       "    </tr>\n",
       "    <tr>\n",
       "      <th>25%</th>\n",
       "      <td>1.000000</td>\n",
       "      <td>29.000000</td>\n",
       "      <td>3.000000</td>\n",
       "      <td>3.000000</td>\n",
       "      <td>0.000000</td>\n",
       "      <td>0.000000</td>\n",
       "      <td>51.000000</td>\n",
       "      <td>0.000000</td>\n",
       "    </tr>\n",
       "    <tr>\n",
       "      <th>50%</th>\n",
       "      <td>1.000000</td>\n",
       "      <td>33.000000</td>\n",
       "      <td>3.000000</td>\n",
       "      <td>5.000000</td>\n",
       "      <td>0.000000</td>\n",
       "      <td>0.000000</td>\n",
       "      <td>60.000000</td>\n",
       "      <td>0.000000</td>\n",
       "    </tr>\n",
       "    <tr>\n",
       "      <th>75%</th>\n",
       "      <td>1.000000</td>\n",
       "      <td>39.000000</td>\n",
       "      <td>4.000000</td>\n",
       "      <td>7.000000</td>\n",
       "      <td>1.000000</td>\n",
       "      <td>0.000000</td>\n",
       "      <td>76.000000</td>\n",
       "      <td>0.000000</td>\n",
       "    </tr>\n",
       "    <tr>\n",
       "      <th>max</th>\n",
       "      <td>10.000000</td>\n",
       "      <td>60.000000</td>\n",
       "      <td>5.000000</td>\n",
       "      <td>37.000000</td>\n",
       "      <td>1.000000</td>\n",
       "      <td>1.000000</td>\n",
       "      <td>99.000000</td>\n",
       "      <td>1.000000</td>\n",
       "    </tr>\n",
       "  </tbody>\n",
       "</table>\n",
       "</div>"
      ],
      "text/plain": [
       "       no_of_trainings           age  previous_year_rating  length_of_service  \\\n",
       "count     54808.000000  54808.000000          50684.000000       54808.000000   \n",
       "mean          1.253011     34.803915              3.329256           5.865512   \n",
       "std           0.609264      7.660169              1.259993           4.265094   \n",
       "min           1.000000     20.000000              1.000000           1.000000   \n",
       "25%           1.000000     29.000000              3.000000           3.000000   \n",
       "50%           1.000000     33.000000              3.000000           5.000000   \n",
       "75%           1.000000     39.000000              4.000000           7.000000   \n",
       "max          10.000000     60.000000              5.000000          37.000000   \n",
       "\n",
       "       KPIs_met >80%   awards_won?  avg_training_score   is_promoted  \n",
       "count   54808.000000  54808.000000        54808.000000  54808.000000  \n",
       "mean        0.351974      0.023172           63.386750      0.085170  \n",
       "std         0.477590      0.150450           13.371559      0.279137  \n",
       "min         0.000000      0.000000           39.000000      0.000000  \n",
       "25%         0.000000      0.000000           51.000000      0.000000  \n",
       "50%         0.000000      0.000000           60.000000      0.000000  \n",
       "75%         1.000000      0.000000           76.000000      0.000000  \n",
       "max         1.000000      1.000000           99.000000      1.000000  "
      ]
     },
     "execution_count": 13,
     "metadata": {},
     "output_type": "execute_result"
    }
   ],
   "source": [
    "data.describe()"
   ]
  },
  {
   "cell_type": "code",
   "execution_count": 14,
   "id": "37c1379b",
   "metadata": {},
   "outputs": [
    {
     "data": {
      "text/plain": [
       "department                 0\n",
       "region                     0\n",
       "education               2409\n",
       "gender                     0\n",
       "recruitment_channel        0\n",
       "no_of_trainings            0\n",
       "age                        0\n",
       "previous_year_rating    4124\n",
       "length_of_service          0\n",
       "KPIs_met >80%              0\n",
       "awards_won?                0\n",
       "avg_training_score         0\n",
       "is_promoted                0\n",
       "dtype: int64"
      ]
     },
     "execution_count": 14,
     "metadata": {},
     "output_type": "execute_result"
    }
   ],
   "source": [
    "data.isnull().sum()"
   ]
  },
  {
   "cell_type": "code",
   "execution_count": 15,
   "id": "3488edaf",
   "metadata": {},
   "outputs": [
    {
     "data": {
      "text/plain": [
       "Bachelor's          36669\n",
       "Master's & above    14925\n",
       "Below Secondary       805\n",
       "Name: education, dtype: int64"
      ]
     },
     "execution_count": 15,
     "metadata": {},
     "output_type": "execute_result"
    }
   ],
   "source": [
    "data.education.value_counts()"
   ]
  },
  {
   "cell_type": "code",
   "execution_count": 16,
   "id": "a665d611",
   "metadata": {},
   "outputs": [],
   "source": [
    "data.education=data.education.fillna(\"Below Secondary\")"
   ]
  },
  {
   "cell_type": "code",
   "execution_count": 17,
   "id": "51acfcb0",
   "metadata": {},
   "outputs": [
    {
     "data": {
      "text/plain": [
       "Bachelor's          36669\n",
       "Master's & above    14925\n",
       "Below Secondary      3214\n",
       "Name: education, dtype: int64"
      ]
     },
     "execution_count": 17,
     "metadata": {},
     "output_type": "execute_result"
    }
   ],
   "source": [
    "data.education.value_counts()"
   ]
  },
  {
   "cell_type": "code",
   "execution_count": 18,
   "id": "3a578298",
   "metadata": {},
   "outputs": [
    {
     "data": {
      "text/plain": [
       "3.0    18618\n",
       "5.0    11741\n",
       "4.0     9877\n",
       "1.0     6223\n",
       "2.0     4225\n",
       "Name: previous_year_rating, dtype: int64"
      ]
     },
     "execution_count": 18,
     "metadata": {},
     "output_type": "execute_result"
    }
   ],
   "source": [
    "data.previous_year_rating.value_counts()"
   ]
  },
  {
   "cell_type": "code",
   "execution_count": 19,
   "id": "22cd2562",
   "metadata": {},
   "outputs": [],
   "source": [
    "data.previous_year_rating=data.previous_year_rating.fillna(1.0)"
   ]
  },
  {
   "cell_type": "code",
   "execution_count": 20,
   "id": "c6d4e60c",
   "metadata": {},
   "outputs": [
    {
     "data": {
      "text/plain": [
       "3.0    18618\n",
       "5.0    11741\n",
       "1.0    10347\n",
       "4.0     9877\n",
       "2.0     4225\n",
       "Name: previous_year_rating, dtype: int64"
      ]
     },
     "execution_count": 20,
     "metadata": {},
     "output_type": "execute_result"
    }
   ],
   "source": [
    "data.previous_year_rating.value_counts()"
   ]
  },
  {
   "cell_type": "code",
   "execution_count": 21,
   "id": "7d9870e1",
   "metadata": {},
   "outputs": [
    {
     "data": {
      "text/plain": [
       "department               object\n",
       "region                   object\n",
       "education                object\n",
       "gender                   object\n",
       "recruitment_channel      object\n",
       "no_of_trainings           int64\n",
       "age                       int64\n",
       "previous_year_rating    float64\n",
       "length_of_service         int64\n",
       "KPIs_met >80%             int64\n",
       "awards_won?               int64\n",
       "avg_training_score        int64\n",
       "is_promoted               int64\n",
       "dtype: object"
      ]
     },
     "execution_count": 21,
     "metadata": {},
     "output_type": "execute_result"
    }
   ],
   "source": [
    "data.dtypes"
   ]
  },
  {
   "cell_type": "markdown",
   "id": "149d979c",
   "metadata": {},
   "source": [
    "# LABEL ENCODER"
   ]
  },
  {
   "cell_type": "code",
   "execution_count": 22,
   "id": "1dbc6aa4",
   "metadata": {},
   "outputs": [],
   "source": [
    "from sklearn.preprocessing import LabelEncoder \n",
    "le=LabelEncoder()"
   ]
  },
  {
   "cell_type": "code",
   "execution_count": 23,
   "id": "1d5e43e9",
   "metadata": {},
   "outputs": [
    {
     "data": {
      "text/plain": [
       "Sales & Marketing    16840\n",
       "Operations           11348\n",
       "Technology            7138\n",
       "Procurement           7138\n",
       "Analytics             5352\n",
       "Finance               2536\n",
       "HR                    2418\n",
       "Legal                 1039\n",
       "R&D                    999\n",
       "Name: department, dtype: int64"
      ]
     },
     "execution_count": 23,
     "metadata": {},
     "output_type": "execute_result"
    }
   ],
   "source": [
    "data.department.value_counts()"
   ]
  },
  {
   "cell_type": "code",
   "execution_count": 24,
   "id": "61053e7c",
   "metadata": {},
   "outputs": [],
   "source": [
    "data.department=le.fit_transform(data.department)"
   ]
  },
  {
   "cell_type": "code",
   "execution_count": 25,
   "id": "4732bc63",
   "metadata": {},
   "outputs": [
    {
     "data": {
      "text/plain": [
       "7    16840\n",
       "4    11348\n",
       "8     7138\n",
       "5     7138\n",
       "0     5352\n",
       "1     2536\n",
       "2     2418\n",
       "3     1039\n",
       "6      999\n",
       "Name: department, dtype: int64"
      ]
     },
     "execution_count": 25,
     "metadata": {},
     "output_type": "execute_result"
    }
   ],
   "source": [
    "data.department.value_counts()"
   ]
  },
  {
   "cell_type": "code",
   "execution_count": 26,
   "id": "21c3676c",
   "metadata": {},
   "outputs": [
    {
     "data": {
      "text/plain": [
       "region_2     12343\n",
       "region_22     6428\n",
       "region_7      4843\n",
       "region_15     2808\n",
       "region_13     2648\n",
       "region_26     2260\n",
       "region_31     1935\n",
       "region_4      1703\n",
       "region_27     1659\n",
       "region_16     1465\n",
       "region_28     1318\n",
       "region_11     1315\n",
       "region_23     1175\n",
       "region_29      994\n",
       "region_32      945\n",
       "region_19      874\n",
       "region_20      850\n",
       "region_14      827\n",
       "region_25      819\n",
       "region_17      796\n",
       "region_5       766\n",
       "region_6       690\n",
       "region_30      657\n",
       "region_8       655\n",
       "region_10      648\n",
       "region_1       610\n",
       "region_24      508\n",
       "region_12      500\n",
       "region_9       420\n",
       "region_21      411\n",
       "region_3       346\n",
       "region_34      292\n",
       "region_33      269\n",
       "region_18       31\n",
       "Name: region, dtype: int64"
      ]
     },
     "execution_count": 26,
     "metadata": {},
     "output_type": "execute_result"
    }
   ],
   "source": [
    "data.region.value_counts()"
   ]
  },
  {
   "cell_type": "code",
   "execution_count": 27,
   "id": "43785f4a",
   "metadata": {},
   "outputs": [],
   "source": [
    "data.region=le.fit_transform(data.region)"
   ]
  },
  {
   "cell_type": "code",
   "execution_count": 28,
   "id": "33e6f690",
   "metadata": {},
   "outputs": [
    {
     "data": {
      "text/plain": [
       "11    12343\n",
       "14     6428\n",
       "31     4843\n",
       "6      2808\n",
       "4      2648\n",
       "18     2260\n",
       "24     1935\n",
       "28     1703\n",
       "19     1659\n",
       "7      1465\n",
       "20     1318\n",
       "2      1315\n",
       "15     1175\n",
       "21      994\n",
       "25      945\n",
       "10      874\n",
       "12      850\n",
       "5       827\n",
       "17      819\n",
       "8       796\n",
       "29      766\n",
       "30      690\n",
       "23      657\n",
       "32      655\n",
       "1       648\n",
       "0       610\n",
       "16      508\n",
       "3       500\n",
       "33      420\n",
       "13      411\n",
       "22      346\n",
       "27      292\n",
       "26      269\n",
       "9        31\n",
       "Name: region, dtype: int64"
      ]
     },
     "execution_count": 28,
     "metadata": {},
     "output_type": "execute_result"
    }
   ],
   "source": [
    "data.region.value_counts()"
   ]
  },
  {
   "cell_type": "code",
   "execution_count": 29,
   "id": "43c55bb9",
   "metadata": {},
   "outputs": [
    {
     "data": {
      "text/plain": [
       "0    36669\n",
       "2    14925\n",
       "1     3214\n",
       "Name: education, dtype: int64"
      ]
     },
     "execution_count": 29,
     "metadata": {},
     "output_type": "execute_result"
    }
   ],
   "source": [
    "data.education=le.fit_transform(data.education)\n",
    "data.education.value_counts()"
   ]
  },
  {
   "cell_type": "code",
   "execution_count": 30,
   "id": "98b11251",
   "metadata": {},
   "outputs": [
    {
     "data": {
      "text/plain": [
       "1    38496\n",
       "0    16312\n",
       "Name: gender, dtype: int64"
      ]
     },
     "execution_count": 30,
     "metadata": {},
     "output_type": "execute_result"
    }
   ],
   "source": [
    "data.gender=le.fit_transform(data.gender)\n",
    "data.gender.value_counts()"
   ]
  },
  {
   "cell_type": "code",
   "execution_count": 31,
   "id": "b689d9c6",
   "metadata": {},
   "outputs": [
    {
     "data": {
      "text/plain": [
       "0    30446\n",
       "2    23220\n",
       "1     1142\n",
       "Name: recruitment_channel, dtype: int64"
      ]
     },
     "execution_count": 31,
     "metadata": {},
     "output_type": "execute_result"
    }
   ],
   "source": [
    "data.recruitment_channel=le.fit_transform(data.recruitment_channel)\n",
    "data.recruitment_channel.value_counts()"
   ]
  },
  {
   "cell_type": "code",
   "execution_count": 32,
   "id": "cffc3126",
   "metadata": {},
   "outputs": [
    {
     "data": {
      "text/plain": [
       "department                int32\n",
       "region                    int32\n",
       "education                 int32\n",
       "gender                    int32\n",
       "recruitment_channel       int32\n",
       "no_of_trainings           int64\n",
       "age                       int64\n",
       "previous_year_rating    float64\n",
       "length_of_service         int64\n",
       "KPIs_met >80%             int64\n",
       "awards_won?               int64\n",
       "avg_training_score        int64\n",
       "is_promoted               int64\n",
       "dtype: object"
      ]
     },
     "execution_count": 32,
     "metadata": {},
     "output_type": "execute_result"
    }
   ],
   "source": [
    "data.dtypes"
   ]
  },
  {
   "cell_type": "markdown",
   "id": "55f1693b",
   "metadata": {},
   "source": [
    "# test data"
   ]
  },
  {
   "cell_type": "code",
   "execution_count": 33,
   "id": "eb775c98",
   "metadata": {},
   "outputs": [
    {
     "data": {
      "text/html": [
       "<div>\n",
       "<style scoped>\n",
       "    .dataframe tbody tr th:only-of-type {\n",
       "        vertical-align: middle;\n",
       "    }\n",
       "\n",
       "    .dataframe tbody tr th {\n",
       "        vertical-align: top;\n",
       "    }\n",
       "\n",
       "    .dataframe thead th {\n",
       "        text-align: right;\n",
       "    }\n",
       "</style>\n",
       "<table border=\"1\" class=\"dataframe\">\n",
       "  <thead>\n",
       "    <tr style=\"text-align: right;\">\n",
       "      <th></th>\n",
       "      <th>employee_id</th>\n",
       "      <th>department</th>\n",
       "      <th>region</th>\n",
       "      <th>education</th>\n",
       "      <th>gender</th>\n",
       "      <th>recruitment_channel</th>\n",
       "      <th>no_of_trainings</th>\n",
       "      <th>age</th>\n",
       "      <th>previous_year_rating</th>\n",
       "      <th>length_of_service</th>\n",
       "      <th>KPIs_met &gt;80%</th>\n",
       "      <th>awards_won?</th>\n",
       "      <th>avg_training_score</th>\n",
       "    </tr>\n",
       "  </thead>\n",
       "  <tbody>\n",
       "    <tr>\n",
       "      <th>0</th>\n",
       "      <td>8724</td>\n",
       "      <td>Technology</td>\n",
       "      <td>region_26</td>\n",
       "      <td>Bachelor's</td>\n",
       "      <td>m</td>\n",
       "      <td>sourcing</td>\n",
       "      <td>1</td>\n",
       "      <td>24</td>\n",
       "      <td>NaN</td>\n",
       "      <td>1</td>\n",
       "      <td>1</td>\n",
       "      <td>0</td>\n",
       "      <td>77</td>\n",
       "    </tr>\n",
       "    <tr>\n",
       "      <th>1</th>\n",
       "      <td>74430</td>\n",
       "      <td>HR</td>\n",
       "      <td>region_4</td>\n",
       "      <td>Bachelor's</td>\n",
       "      <td>f</td>\n",
       "      <td>other</td>\n",
       "      <td>1</td>\n",
       "      <td>31</td>\n",
       "      <td>3.0</td>\n",
       "      <td>5</td>\n",
       "      <td>0</td>\n",
       "      <td>0</td>\n",
       "      <td>51</td>\n",
       "    </tr>\n",
       "    <tr>\n",
       "      <th>2</th>\n",
       "      <td>72255</td>\n",
       "      <td>Sales &amp; Marketing</td>\n",
       "      <td>region_13</td>\n",
       "      <td>Bachelor's</td>\n",
       "      <td>m</td>\n",
       "      <td>other</td>\n",
       "      <td>1</td>\n",
       "      <td>31</td>\n",
       "      <td>1.0</td>\n",
       "      <td>4</td>\n",
       "      <td>0</td>\n",
       "      <td>0</td>\n",
       "      <td>47</td>\n",
       "    </tr>\n",
       "    <tr>\n",
       "      <th>3</th>\n",
       "      <td>38562</td>\n",
       "      <td>Procurement</td>\n",
       "      <td>region_2</td>\n",
       "      <td>Bachelor's</td>\n",
       "      <td>f</td>\n",
       "      <td>other</td>\n",
       "      <td>3</td>\n",
       "      <td>31</td>\n",
       "      <td>2.0</td>\n",
       "      <td>9</td>\n",
       "      <td>0</td>\n",
       "      <td>0</td>\n",
       "      <td>65</td>\n",
       "    </tr>\n",
       "    <tr>\n",
       "      <th>4</th>\n",
       "      <td>64486</td>\n",
       "      <td>Finance</td>\n",
       "      <td>region_29</td>\n",
       "      <td>Bachelor's</td>\n",
       "      <td>m</td>\n",
       "      <td>sourcing</td>\n",
       "      <td>1</td>\n",
       "      <td>30</td>\n",
       "      <td>4.0</td>\n",
       "      <td>7</td>\n",
       "      <td>0</td>\n",
       "      <td>0</td>\n",
       "      <td>61</td>\n",
       "    </tr>\n",
       "    <tr>\n",
       "      <th>...</th>\n",
       "      <td>...</td>\n",
       "      <td>...</td>\n",
       "      <td>...</td>\n",
       "      <td>...</td>\n",
       "      <td>...</td>\n",
       "      <td>...</td>\n",
       "      <td>...</td>\n",
       "      <td>...</td>\n",
       "      <td>...</td>\n",
       "      <td>...</td>\n",
       "      <td>...</td>\n",
       "      <td>...</td>\n",
       "      <td>...</td>\n",
       "    </tr>\n",
       "    <tr>\n",
       "      <th>23485</th>\n",
       "      <td>53478</td>\n",
       "      <td>Legal</td>\n",
       "      <td>region_2</td>\n",
       "      <td>Below Secondary</td>\n",
       "      <td>m</td>\n",
       "      <td>sourcing</td>\n",
       "      <td>1</td>\n",
       "      <td>24</td>\n",
       "      <td>3.0</td>\n",
       "      <td>1</td>\n",
       "      <td>0</td>\n",
       "      <td>0</td>\n",
       "      <td>61</td>\n",
       "    </tr>\n",
       "    <tr>\n",
       "      <th>23486</th>\n",
       "      <td>25600</td>\n",
       "      <td>Technology</td>\n",
       "      <td>region_25</td>\n",
       "      <td>Bachelor's</td>\n",
       "      <td>m</td>\n",
       "      <td>sourcing</td>\n",
       "      <td>1</td>\n",
       "      <td>31</td>\n",
       "      <td>3.0</td>\n",
       "      <td>7</td>\n",
       "      <td>0</td>\n",
       "      <td>0</td>\n",
       "      <td>74</td>\n",
       "    </tr>\n",
       "    <tr>\n",
       "      <th>23487</th>\n",
       "      <td>45409</td>\n",
       "      <td>HR</td>\n",
       "      <td>region_16</td>\n",
       "      <td>Bachelor's</td>\n",
       "      <td>f</td>\n",
       "      <td>sourcing</td>\n",
       "      <td>1</td>\n",
       "      <td>26</td>\n",
       "      <td>4.0</td>\n",
       "      <td>4</td>\n",
       "      <td>0</td>\n",
       "      <td>0</td>\n",
       "      <td>50</td>\n",
       "    </tr>\n",
       "    <tr>\n",
       "      <th>23488</th>\n",
       "      <td>1186</td>\n",
       "      <td>Procurement</td>\n",
       "      <td>region_31</td>\n",
       "      <td>Bachelor's</td>\n",
       "      <td>m</td>\n",
       "      <td>sourcing</td>\n",
       "      <td>3</td>\n",
       "      <td>27</td>\n",
       "      <td>NaN</td>\n",
       "      <td>1</td>\n",
       "      <td>0</td>\n",
       "      <td>0</td>\n",
       "      <td>70</td>\n",
       "    </tr>\n",
       "    <tr>\n",
       "      <th>23489</th>\n",
       "      <td>5973</td>\n",
       "      <td>Technology</td>\n",
       "      <td>region_17</td>\n",
       "      <td>Master's &amp; above</td>\n",
       "      <td>m</td>\n",
       "      <td>other</td>\n",
       "      <td>3</td>\n",
       "      <td>40</td>\n",
       "      <td>5.0</td>\n",
       "      <td>5</td>\n",
       "      <td>1</td>\n",
       "      <td>0</td>\n",
       "      <td>89</td>\n",
       "    </tr>\n",
       "  </tbody>\n",
       "</table>\n",
       "<p>23490 rows × 13 columns</p>\n",
       "</div>"
      ],
      "text/plain": [
       "       employee_id         department     region         education gender  \\\n",
       "0             8724         Technology  region_26        Bachelor's      m   \n",
       "1            74430                 HR   region_4        Bachelor's      f   \n",
       "2            72255  Sales & Marketing  region_13        Bachelor's      m   \n",
       "3            38562        Procurement   region_2        Bachelor's      f   \n",
       "4            64486            Finance  region_29        Bachelor's      m   \n",
       "...            ...                ...        ...               ...    ...   \n",
       "23485        53478              Legal   region_2   Below Secondary      m   \n",
       "23486        25600         Technology  region_25        Bachelor's      m   \n",
       "23487        45409                 HR  region_16        Bachelor's      f   \n",
       "23488         1186        Procurement  region_31        Bachelor's      m   \n",
       "23489         5973         Technology  region_17  Master's & above      m   \n",
       "\n",
       "      recruitment_channel  no_of_trainings  age  previous_year_rating  \\\n",
       "0                sourcing                1   24                   NaN   \n",
       "1                   other                1   31                   3.0   \n",
       "2                   other                1   31                   1.0   \n",
       "3                   other                3   31                   2.0   \n",
       "4                sourcing                1   30                   4.0   \n",
       "...                   ...              ...  ...                   ...   \n",
       "23485            sourcing                1   24                   3.0   \n",
       "23486            sourcing                1   31                   3.0   \n",
       "23487            sourcing                1   26                   4.0   \n",
       "23488            sourcing                3   27                   NaN   \n",
       "23489               other                3   40                   5.0   \n",
       "\n",
       "       length_of_service  KPIs_met >80%  awards_won?  avg_training_score  \n",
       "0                      1              1            0                  77  \n",
       "1                      5              0            0                  51  \n",
       "2                      4              0            0                  47  \n",
       "3                      9              0            0                  65  \n",
       "4                      7              0            0                  61  \n",
       "...                  ...            ...          ...                 ...  \n",
       "23485                  1              0            0                  61  \n",
       "23486                  7              0            0                  74  \n",
       "23487                  4              0            0                  50  \n",
       "23488                  1              0            0                  70  \n",
       "23489                  5              1            0                  89  \n",
       "\n",
       "[23490 rows x 13 columns]"
      ]
     },
     "execution_count": 33,
     "metadata": {},
     "output_type": "execute_result"
    }
   ],
   "source": [
    "tdata=pd.read_csv(r\"C:\\Users\\admin\\Desktop\\dataset\\HR DATASET\\test_Hr.csv\")\n",
    "tdata"
   ]
  },
  {
   "cell_type": "code",
   "execution_count": 34,
   "id": "53dea11e",
   "metadata": {},
   "outputs": [
    {
     "data": {
      "text/plain": [
       "(23490, 13)"
      ]
     },
     "execution_count": 34,
     "metadata": {},
     "output_type": "execute_result"
    }
   ],
   "source": [
    "tdata.shape"
   ]
  },
  {
   "cell_type": "code",
   "execution_count": 35,
   "id": "a36bbe43",
   "metadata": {},
   "outputs": [
    {
     "data": {
      "text/plain": [
       "0         8724\n",
       "1        74430\n",
       "2        72255\n",
       "3        38562\n",
       "4        64486\n",
       "         ...  \n",
       "23485    53478\n",
       "23486    25600\n",
       "23487    45409\n",
       "23488     1186\n",
       "23489     5973\n",
       "Name: employee_id, Length: 23490, dtype: int64"
      ]
     },
     "execution_count": 35,
     "metadata": {},
     "output_type": "execute_result"
    }
   ],
   "source": [
    "te_id=tdata[\"employee_id\"]\n",
    "te_id"
   ]
  },
  {
   "cell_type": "code",
   "execution_count": 36,
   "id": "0c6db8ca",
   "metadata": {
    "scrolled": true
   },
   "outputs": [
    {
     "data": {
      "text/html": [
       "<div>\n",
       "<style scoped>\n",
       "    .dataframe tbody tr th:only-of-type {\n",
       "        vertical-align: middle;\n",
       "    }\n",
       "\n",
       "    .dataframe tbody tr th {\n",
       "        vertical-align: top;\n",
       "    }\n",
       "\n",
       "    .dataframe thead th {\n",
       "        text-align: right;\n",
       "    }\n",
       "</style>\n",
       "<table border=\"1\" class=\"dataframe\">\n",
       "  <thead>\n",
       "    <tr style=\"text-align: right;\">\n",
       "      <th></th>\n",
       "      <th>department</th>\n",
       "      <th>region</th>\n",
       "      <th>education</th>\n",
       "      <th>gender</th>\n",
       "      <th>recruitment_channel</th>\n",
       "      <th>no_of_trainings</th>\n",
       "      <th>age</th>\n",
       "      <th>previous_year_rating</th>\n",
       "      <th>length_of_service</th>\n",
       "      <th>KPIs_met &gt;80%</th>\n",
       "      <th>awards_won?</th>\n",
       "      <th>avg_training_score</th>\n",
       "    </tr>\n",
       "  </thead>\n",
       "  <tbody>\n",
       "    <tr>\n",
       "      <th>0</th>\n",
       "      <td>Technology</td>\n",
       "      <td>region_26</td>\n",
       "      <td>Bachelor's</td>\n",
       "      <td>m</td>\n",
       "      <td>sourcing</td>\n",
       "      <td>1</td>\n",
       "      <td>24</td>\n",
       "      <td>NaN</td>\n",
       "      <td>1</td>\n",
       "      <td>1</td>\n",
       "      <td>0</td>\n",
       "      <td>77</td>\n",
       "    </tr>\n",
       "    <tr>\n",
       "      <th>1</th>\n",
       "      <td>HR</td>\n",
       "      <td>region_4</td>\n",
       "      <td>Bachelor's</td>\n",
       "      <td>f</td>\n",
       "      <td>other</td>\n",
       "      <td>1</td>\n",
       "      <td>31</td>\n",
       "      <td>3.0</td>\n",
       "      <td>5</td>\n",
       "      <td>0</td>\n",
       "      <td>0</td>\n",
       "      <td>51</td>\n",
       "    </tr>\n",
       "    <tr>\n",
       "      <th>2</th>\n",
       "      <td>Sales &amp; Marketing</td>\n",
       "      <td>region_13</td>\n",
       "      <td>Bachelor's</td>\n",
       "      <td>m</td>\n",
       "      <td>other</td>\n",
       "      <td>1</td>\n",
       "      <td>31</td>\n",
       "      <td>1.0</td>\n",
       "      <td>4</td>\n",
       "      <td>0</td>\n",
       "      <td>0</td>\n",
       "      <td>47</td>\n",
       "    </tr>\n",
       "    <tr>\n",
       "      <th>3</th>\n",
       "      <td>Procurement</td>\n",
       "      <td>region_2</td>\n",
       "      <td>Bachelor's</td>\n",
       "      <td>f</td>\n",
       "      <td>other</td>\n",
       "      <td>3</td>\n",
       "      <td>31</td>\n",
       "      <td>2.0</td>\n",
       "      <td>9</td>\n",
       "      <td>0</td>\n",
       "      <td>0</td>\n",
       "      <td>65</td>\n",
       "    </tr>\n",
       "    <tr>\n",
       "      <th>4</th>\n",
       "      <td>Finance</td>\n",
       "      <td>region_29</td>\n",
       "      <td>Bachelor's</td>\n",
       "      <td>m</td>\n",
       "      <td>sourcing</td>\n",
       "      <td>1</td>\n",
       "      <td>30</td>\n",
       "      <td>4.0</td>\n",
       "      <td>7</td>\n",
       "      <td>0</td>\n",
       "      <td>0</td>\n",
       "      <td>61</td>\n",
       "    </tr>\n",
       "    <tr>\n",
       "      <th>...</th>\n",
       "      <td>...</td>\n",
       "      <td>...</td>\n",
       "      <td>...</td>\n",
       "      <td>...</td>\n",
       "      <td>...</td>\n",
       "      <td>...</td>\n",
       "      <td>...</td>\n",
       "      <td>...</td>\n",
       "      <td>...</td>\n",
       "      <td>...</td>\n",
       "      <td>...</td>\n",
       "      <td>...</td>\n",
       "    </tr>\n",
       "    <tr>\n",
       "      <th>23485</th>\n",
       "      <td>Legal</td>\n",
       "      <td>region_2</td>\n",
       "      <td>Below Secondary</td>\n",
       "      <td>m</td>\n",
       "      <td>sourcing</td>\n",
       "      <td>1</td>\n",
       "      <td>24</td>\n",
       "      <td>3.0</td>\n",
       "      <td>1</td>\n",
       "      <td>0</td>\n",
       "      <td>0</td>\n",
       "      <td>61</td>\n",
       "    </tr>\n",
       "    <tr>\n",
       "      <th>23486</th>\n",
       "      <td>Technology</td>\n",
       "      <td>region_25</td>\n",
       "      <td>Bachelor's</td>\n",
       "      <td>m</td>\n",
       "      <td>sourcing</td>\n",
       "      <td>1</td>\n",
       "      <td>31</td>\n",
       "      <td>3.0</td>\n",
       "      <td>7</td>\n",
       "      <td>0</td>\n",
       "      <td>0</td>\n",
       "      <td>74</td>\n",
       "    </tr>\n",
       "    <tr>\n",
       "      <th>23487</th>\n",
       "      <td>HR</td>\n",
       "      <td>region_16</td>\n",
       "      <td>Bachelor's</td>\n",
       "      <td>f</td>\n",
       "      <td>sourcing</td>\n",
       "      <td>1</td>\n",
       "      <td>26</td>\n",
       "      <td>4.0</td>\n",
       "      <td>4</td>\n",
       "      <td>0</td>\n",
       "      <td>0</td>\n",
       "      <td>50</td>\n",
       "    </tr>\n",
       "    <tr>\n",
       "      <th>23488</th>\n",
       "      <td>Procurement</td>\n",
       "      <td>region_31</td>\n",
       "      <td>Bachelor's</td>\n",
       "      <td>m</td>\n",
       "      <td>sourcing</td>\n",
       "      <td>3</td>\n",
       "      <td>27</td>\n",
       "      <td>NaN</td>\n",
       "      <td>1</td>\n",
       "      <td>0</td>\n",
       "      <td>0</td>\n",
       "      <td>70</td>\n",
       "    </tr>\n",
       "    <tr>\n",
       "      <th>23489</th>\n",
       "      <td>Technology</td>\n",
       "      <td>region_17</td>\n",
       "      <td>Master's &amp; above</td>\n",
       "      <td>m</td>\n",
       "      <td>other</td>\n",
       "      <td>3</td>\n",
       "      <td>40</td>\n",
       "      <td>5.0</td>\n",
       "      <td>5</td>\n",
       "      <td>1</td>\n",
       "      <td>0</td>\n",
       "      <td>89</td>\n",
       "    </tr>\n",
       "  </tbody>\n",
       "</table>\n",
       "<p>23490 rows × 12 columns</p>\n",
       "</div>"
      ],
      "text/plain": [
       "              department     region         education gender  \\\n",
       "0             Technology  region_26        Bachelor's      m   \n",
       "1                     HR   region_4        Bachelor's      f   \n",
       "2      Sales & Marketing  region_13        Bachelor's      m   \n",
       "3            Procurement   region_2        Bachelor's      f   \n",
       "4                Finance  region_29        Bachelor's      m   \n",
       "...                  ...        ...               ...    ...   \n",
       "23485              Legal   region_2   Below Secondary      m   \n",
       "23486         Technology  region_25        Bachelor's      m   \n",
       "23487                 HR  region_16        Bachelor's      f   \n",
       "23488        Procurement  region_31        Bachelor's      m   \n",
       "23489         Technology  region_17  Master's & above      m   \n",
       "\n",
       "      recruitment_channel  no_of_trainings  age  previous_year_rating  \\\n",
       "0                sourcing                1   24                   NaN   \n",
       "1                   other                1   31                   3.0   \n",
       "2                   other                1   31                   1.0   \n",
       "3                   other                3   31                   2.0   \n",
       "4                sourcing                1   30                   4.0   \n",
       "...                   ...              ...  ...                   ...   \n",
       "23485            sourcing                1   24                   3.0   \n",
       "23486            sourcing                1   31                   3.0   \n",
       "23487            sourcing                1   26                   4.0   \n",
       "23488            sourcing                3   27                   NaN   \n",
       "23489               other                3   40                   5.0   \n",
       "\n",
       "       length_of_service  KPIs_met >80%  awards_won?  avg_training_score  \n",
       "0                      1              1            0                  77  \n",
       "1                      5              0            0                  51  \n",
       "2                      4              0            0                  47  \n",
       "3                      9              0            0                  65  \n",
       "4                      7              0            0                  61  \n",
       "...                  ...            ...          ...                 ...  \n",
       "23485                  1              0            0                  61  \n",
       "23486                  7              0            0                  74  \n",
       "23487                  4              0            0                  50  \n",
       "23488                  1              0            0                  70  \n",
       "23489                  5              1            0                  89  \n",
       "\n",
       "[23490 rows x 12 columns]"
      ]
     },
     "execution_count": 36,
     "metadata": {},
     "output_type": "execute_result"
    }
   ],
   "source": [
    "tdata=tdata.drop([\"employee_id\"],axis=1)\n",
    "tdata"
   ]
  },
  {
   "cell_type": "code",
   "execution_count": 37,
   "id": "fec7bf4a",
   "metadata": {},
   "outputs": [
    {
     "data": {
      "text/plain": [
       "department                 0\n",
       "region                     0\n",
       "education               1034\n",
       "gender                     0\n",
       "recruitment_channel        0\n",
       "no_of_trainings            0\n",
       "age                        0\n",
       "previous_year_rating    1812\n",
       "length_of_service          0\n",
       "KPIs_met >80%              0\n",
       "awards_won?                0\n",
       "avg_training_score         0\n",
       "dtype: int64"
      ]
     },
     "execution_count": 37,
     "metadata": {},
     "output_type": "execute_result"
    }
   ],
   "source": [
    "tdata.isnull().sum()"
   ]
  },
  {
   "cell_type": "markdown",
   "id": "e6f63539",
   "metadata": {},
   "source": [
    "# treat missing value"
   ]
  },
  {
   "cell_type": "code",
   "execution_count": 38,
   "id": "328bc890",
   "metadata": {},
   "outputs": [],
   "source": [
    "tdata.education=data.education.fillna(\"Below Secondary\")"
   ]
  },
  {
   "cell_type": "code",
   "execution_count": 39,
   "id": "d400d51a",
   "metadata": {},
   "outputs": [
    {
     "data": {
      "text/plain": [
       "0    15646\n",
       "2     6446\n",
       "1     1398\n",
       "Name: education, dtype: int64"
      ]
     },
     "execution_count": 39,
     "metadata": {},
     "output_type": "execute_result"
    }
   ],
   "source": [
    "tdata.education.value_counts()"
   ]
  },
  {
   "cell_type": "code",
   "execution_count": 40,
   "id": "d3d2a2a2",
   "metadata": {},
   "outputs": [
    {
     "data": {
      "text/plain": [
       "3.0    7921\n",
       "5.0    5097\n",
       "4.0    4249\n",
       "1.0    2680\n",
       "2.0    1731\n",
       "Name: previous_year_rating, dtype: int64"
      ]
     },
     "execution_count": 40,
     "metadata": {},
     "output_type": "execute_result"
    }
   ],
   "source": [
    "tdata.previous_year_rating.value_counts()"
   ]
  },
  {
   "cell_type": "code",
   "execution_count": 41,
   "id": "93508384",
   "metadata": {},
   "outputs": [],
   "source": [
    "tdata.previous_year_rating=data.previous_year_rating.fillna(1.0)"
   ]
  },
  {
   "cell_type": "code",
   "execution_count": 42,
   "id": "5d3010a0",
   "metadata": {},
   "outputs": [
    {
     "data": {
      "text/plain": [
       "3.0    7968\n",
       "5.0    5069\n",
       "1.0    4442\n",
       "4.0    4231\n",
       "2.0    1780\n",
       "Name: previous_year_rating, dtype: int64"
      ]
     },
     "execution_count": 42,
     "metadata": {},
     "output_type": "execute_result"
    }
   ],
   "source": [
    "tdata.previous_year_rating.value_counts()"
   ]
  },
  {
   "cell_type": "code",
   "execution_count": 43,
   "id": "cccaf763",
   "metadata": {},
   "outputs": [
    {
     "data": {
      "text/plain": [
       "department              0\n",
       "region                  0\n",
       "education               0\n",
       "gender                  0\n",
       "recruitment_channel     0\n",
       "no_of_trainings         0\n",
       "age                     0\n",
       "previous_year_rating    0\n",
       "length_of_service       0\n",
       "KPIs_met >80%           0\n",
       "awards_won?             0\n",
       "avg_training_score      0\n",
       "dtype: int64"
      ]
     },
     "execution_count": 43,
     "metadata": {},
     "output_type": "execute_result"
    }
   ],
   "source": [
    "tdata.isnull().sum()"
   ]
  },
  {
   "cell_type": "markdown",
   "id": "752e1e90",
   "metadata": {},
   "source": [
    "# LABEL ENCODING"
   ]
  },
  {
   "cell_type": "code",
   "execution_count": 44,
   "id": "0e30702e",
   "metadata": {},
   "outputs": [],
   "source": [
    "from sklearn.preprocessing import LabelEncoder \n",
    "le=LabelEncoder()"
   ]
  },
  {
   "cell_type": "code",
   "execution_count": 45,
   "id": "3e28ab8a",
   "metadata": {},
   "outputs": [
    {
     "data": {
      "text/plain": [
       "<bound method IndexOpsMixin.value_counts of 0        8\n",
       "1        2\n",
       "2        7\n",
       "3        5\n",
       "4        1\n",
       "        ..\n",
       "23485    3\n",
       "23486    8\n",
       "23487    2\n",
       "23488    5\n",
       "23489    8\n",
       "Name: department, Length: 23490, dtype: int32>"
      ]
     },
     "execution_count": 45,
     "metadata": {},
     "output_type": "execute_result"
    }
   ],
   "source": [
    "tdata.department=le.fit_transform(tdata.department)\n",
    "tdata.department.value_counts"
   ]
  },
  {
   "cell_type": "code",
   "execution_count": 46,
   "id": "bff6f08d",
   "metadata": {},
   "outputs": [
    {
     "data": {
      "text/plain": [
       "11    5299\n",
       "14    2739\n",
       "31    1982\n",
       "4     1167\n",
       "6     1130\n",
       "18    1011\n",
       "24     844\n",
       "28     775\n",
       "19     710\n",
       "20     595\n",
       "7      590\n",
       "2      571\n",
       "15     516\n",
       "25     433\n",
       "21     414\n",
       "10     410\n",
       "8      361\n",
       "5      350\n",
       "29     342\n",
       "17     337\n",
       "12     326\n",
       "30     298\n",
       "23     273\n",
       "32     269\n",
       "1      269\n",
       "0      238\n",
       "16     219\n",
       "3      215\n",
       "33     180\n",
       "13     179\n",
       "27     155\n",
       "22     147\n",
       "26     126\n",
       "9       20\n",
       "Name: region, dtype: int64"
      ]
     },
     "execution_count": 46,
     "metadata": {},
     "output_type": "execute_result"
    }
   ],
   "source": [
    "tdata.region=le.fit_transform(tdata.region)\n",
    "tdata.region.value_counts()"
   ]
  },
  {
   "cell_type": "code",
   "execution_count": 47,
   "id": "e509506a",
   "metadata": {},
   "outputs": [
    {
     "data": {
      "text/plain": [
       "0    15646\n",
       "2     6446\n",
       "1     1398\n",
       "Name: education, dtype: int64"
      ]
     },
     "execution_count": 47,
     "metadata": {},
     "output_type": "execute_result"
    }
   ],
   "source": [
    "tdata.education=le.fit_transform(tdata.education)\n",
    "tdata.education.value_counts()"
   ]
  },
  {
   "cell_type": "code",
   "execution_count": 48,
   "id": "30495f0d",
   "metadata": {},
   "outputs": [
    {
     "data": {
      "text/plain": [
       "0    13078\n",
       "2     9961\n",
       "1      451\n",
       "Name: recruitment_channel, dtype: int64"
      ]
     },
     "execution_count": 48,
     "metadata": {},
     "output_type": "execute_result"
    }
   ],
   "source": [
    "tdata.recruitment_channel=le.fit_transform(tdata.recruitment_channel)\n",
    "tdata.recruitment_channel.value_counts()"
   ]
  },
  {
   "cell_type": "code",
   "execution_count": 49,
   "id": "d9fdc502",
   "metadata": {},
   "outputs": [
    {
     "data": {
      "text/plain": [
       "1    16596\n",
       "0     6894\n",
       "Name: gender, dtype: int64"
      ]
     },
     "execution_count": 49,
     "metadata": {},
     "output_type": "execute_result"
    }
   ],
   "source": [
    "tdata.gender=le.fit_transform(tdata.gender)\n",
    "tdata.gender.value_counts()"
   ]
  },
  {
   "cell_type": "markdown",
   "id": "12d4825e",
   "metadata": {},
   "source": [
    "# data visualisation (for train data)"
   ]
  },
  {
   "cell_type": "code",
   "execution_count": 50,
   "id": "98fa5115",
   "metadata": {},
   "outputs": [],
   "source": [
    "import matplotlib.pyplot as plt\n",
    "import seaborn as sns"
   ]
  },
  {
   "cell_type": "code",
   "execution_count": 51,
   "id": "d5485f2a",
   "metadata": {},
   "outputs": [
    {
     "data": {
      "text/html": [
       "<div>\n",
       "<style scoped>\n",
       "    .dataframe tbody tr th:only-of-type {\n",
       "        vertical-align: middle;\n",
       "    }\n",
       "\n",
       "    .dataframe tbody tr th {\n",
       "        vertical-align: top;\n",
       "    }\n",
       "\n",
       "    .dataframe thead th {\n",
       "        text-align: right;\n",
       "    }\n",
       "</style>\n",
       "<table border=\"1\" class=\"dataframe\">\n",
       "  <thead>\n",
       "    <tr style=\"text-align: right;\">\n",
       "      <th></th>\n",
       "      <th>department</th>\n",
       "      <th>region</th>\n",
       "      <th>education</th>\n",
       "      <th>gender</th>\n",
       "      <th>recruitment_channel</th>\n",
       "      <th>no_of_trainings</th>\n",
       "      <th>age</th>\n",
       "      <th>previous_year_rating</th>\n",
       "      <th>length_of_service</th>\n",
       "      <th>KPIs_met &gt;80%</th>\n",
       "      <th>awards_won?</th>\n",
       "      <th>avg_training_score</th>\n",
       "      <th>is_promoted</th>\n",
       "    </tr>\n",
       "  </thead>\n",
       "  <tbody>\n",
       "    <tr>\n",
       "      <th>department</th>\n",
       "      <td>1.000000</td>\n",
       "      <td>-0.020592</td>\n",
       "      <td>0.054998</td>\n",
       "      <td>-0.030108</td>\n",
       "      <td>0.004732</td>\n",
       "      <td>0.014152</td>\n",
       "      <td>0.079162</td>\n",
       "      <td>-0.114089</td>\n",
       "      <td>0.059060</td>\n",
       "      <td>-0.088209</td>\n",
       "      <td>-0.002151</td>\n",
       "      <td>-0.251626</td>\n",
       "      <td>0.000130</td>\n",
       "    </tr>\n",
       "    <tr>\n",
       "      <th>region</th>\n",
       "      <td>-0.020592</td>\n",
       "      <td>1.000000</td>\n",
       "      <td>-0.005032</td>\n",
       "      <td>0.019730</td>\n",
       "      <td>-0.000920</td>\n",
       "      <td>-0.004590</td>\n",
       "      <td>-0.088918</td>\n",
       "      <td>-0.011669</td>\n",
       "      <td>-0.058939</td>\n",
       "      <td>-0.007664</td>\n",
       "      <td>0.000307</td>\n",
       "      <td>0.023572</td>\n",
       "      <td>0.008841</td>\n",
       "    </tr>\n",
       "    <tr>\n",
       "      <th>education</th>\n",
       "      <td>0.054998</td>\n",
       "      <td>-0.005032</td>\n",
       "      <td>1.000000</td>\n",
       "      <td>-0.017824</td>\n",
       "      <td>-0.004660</td>\n",
       "      <td>-0.039286</td>\n",
       "      <td>0.316659</td>\n",
       "      <td>0.063046</td>\n",
       "      <td>0.217755</td>\n",
       "      <td>0.001265</td>\n",
       "      <td>-0.001391</td>\n",
       "      <td>0.013519</td>\n",
       "      <td>0.023250</td>\n",
       "    </tr>\n",
       "    <tr>\n",
       "      <th>gender</th>\n",
       "      <td>-0.030108</td>\n",
       "      <td>0.019730</td>\n",
       "      <td>-0.017824</td>\n",
       "      <td>1.000000</td>\n",
       "      <td>0.006567</td>\n",
       "      <td>0.084501</td>\n",
       "      <td>-0.016293</td>\n",
       "      <td>-0.025558</td>\n",
       "      <td>-0.019675</td>\n",
       "      <td>-0.037400</td>\n",
       "      <td>0.002381</td>\n",
       "      <td>-0.024494</td>\n",
       "      <td>-0.011109</td>\n",
       "    </tr>\n",
       "    <tr>\n",
       "      <th>recruitment_channel</th>\n",
       "      <td>0.004732</td>\n",
       "      <td>-0.000920</td>\n",
       "      <td>-0.004660</td>\n",
       "      <td>0.006567</td>\n",
       "      <td>1.000000</td>\n",
       "      <td>-0.010405</td>\n",
       "      <td>-0.011400</td>\n",
       "      <td>0.004283</td>\n",
       "      <td>-0.002887</td>\n",
       "      <td>-0.000297</td>\n",
       "      <td>-0.005510</td>\n",
       "      <td>-0.002416</td>\n",
       "      <td>0.002229</td>\n",
       "    </tr>\n",
       "    <tr>\n",
       "      <th>no_of_trainings</th>\n",
       "      <td>0.014152</td>\n",
       "      <td>-0.004590</td>\n",
       "      <td>-0.039286</td>\n",
       "      <td>0.084501</td>\n",
       "      <td>-0.010405</td>\n",
       "      <td>1.000000</td>\n",
       "      <td>-0.081278</td>\n",
       "      <td>-0.065435</td>\n",
       "      <td>-0.057275</td>\n",
       "      <td>-0.045576</td>\n",
       "      <td>-0.007628</td>\n",
       "      <td>0.042517</td>\n",
       "      <td>-0.024896</td>\n",
       "    </tr>\n",
       "    <tr>\n",
       "      <th>age</th>\n",
       "      <td>0.079162</td>\n",
       "      <td>-0.088918</td>\n",
       "      <td>0.316659</td>\n",
       "      <td>-0.016293</td>\n",
       "      <td>-0.011400</td>\n",
       "      <td>-0.081278</td>\n",
       "      <td>1.000000</td>\n",
       "      <td>0.138656</td>\n",
       "      <td>0.657111</td>\n",
       "      <td>-0.025592</td>\n",
       "      <td>-0.008169</td>\n",
       "      <td>-0.048380</td>\n",
       "      <td>-0.017166</td>\n",
       "    </tr>\n",
       "    <tr>\n",
       "      <th>previous_year_rating</th>\n",
       "      <td>-0.114089</td>\n",
       "      <td>-0.011669</td>\n",
       "      <td>0.063046</td>\n",
       "      <td>-0.025558</td>\n",
       "      <td>0.004283</td>\n",
       "      <td>-0.065435</td>\n",
       "      <td>0.138656</td>\n",
       "      <td>1.000000</td>\n",
       "      <td>0.147385</td>\n",
       "      <td>0.302200</td>\n",
       "      <td>0.023694</td>\n",
       "      <td>0.064557</td>\n",
       "      <td>0.138192</td>\n",
       "    </tr>\n",
       "    <tr>\n",
       "      <th>length_of_service</th>\n",
       "      <td>0.059060</td>\n",
       "      <td>-0.058939</td>\n",
       "      <td>0.217755</td>\n",
       "      <td>-0.019675</td>\n",
       "      <td>-0.002887</td>\n",
       "      <td>-0.057275</td>\n",
       "      <td>0.657111</td>\n",
       "      <td>0.147385</td>\n",
       "      <td>1.000000</td>\n",
       "      <td>-0.077693</td>\n",
       "      <td>-0.039927</td>\n",
       "      <td>-0.038122</td>\n",
       "      <td>-0.010670</td>\n",
       "    </tr>\n",
       "    <tr>\n",
       "      <th>KPIs_met &gt;80%</th>\n",
       "      <td>-0.088209</td>\n",
       "      <td>-0.007664</td>\n",
       "      <td>0.001265</td>\n",
       "      <td>-0.037400</td>\n",
       "      <td>-0.000297</td>\n",
       "      <td>-0.045576</td>\n",
       "      <td>-0.025592</td>\n",
       "      <td>0.302200</td>\n",
       "      <td>-0.077693</td>\n",
       "      <td>1.000000</td>\n",
       "      <td>0.097000</td>\n",
       "      <td>0.078391</td>\n",
       "      <td>0.221582</td>\n",
       "    </tr>\n",
       "    <tr>\n",
       "      <th>awards_won?</th>\n",
       "      <td>-0.002151</td>\n",
       "      <td>0.000307</td>\n",
       "      <td>-0.001391</td>\n",
       "      <td>0.002381</td>\n",
       "      <td>-0.005510</td>\n",
       "      <td>-0.007628</td>\n",
       "      <td>-0.008169</td>\n",
       "      <td>0.023694</td>\n",
       "      <td>-0.039927</td>\n",
       "      <td>0.097000</td>\n",
       "      <td>1.000000</td>\n",
       "      <td>0.072138</td>\n",
       "      <td>0.195871</td>\n",
       "    </tr>\n",
       "    <tr>\n",
       "      <th>avg_training_score</th>\n",
       "      <td>-0.251626</td>\n",
       "      <td>0.023572</td>\n",
       "      <td>0.013519</td>\n",
       "      <td>-0.024494</td>\n",
       "      <td>-0.002416</td>\n",
       "      <td>0.042517</td>\n",
       "      <td>-0.048380</td>\n",
       "      <td>0.064557</td>\n",
       "      <td>-0.038122</td>\n",
       "      <td>0.078391</td>\n",
       "      <td>0.072138</td>\n",
       "      <td>1.000000</td>\n",
       "      <td>0.181147</td>\n",
       "    </tr>\n",
       "    <tr>\n",
       "      <th>is_promoted</th>\n",
       "      <td>0.000130</td>\n",
       "      <td>0.008841</td>\n",
       "      <td>0.023250</td>\n",
       "      <td>-0.011109</td>\n",
       "      <td>0.002229</td>\n",
       "      <td>-0.024896</td>\n",
       "      <td>-0.017166</td>\n",
       "      <td>0.138192</td>\n",
       "      <td>-0.010670</td>\n",
       "      <td>0.221582</td>\n",
       "      <td>0.195871</td>\n",
       "      <td>0.181147</td>\n",
       "      <td>1.000000</td>\n",
       "    </tr>\n",
       "  </tbody>\n",
       "</table>\n",
       "</div>"
      ],
      "text/plain": [
       "                      department    region  education    gender  \\\n",
       "department              1.000000 -0.020592   0.054998 -0.030108   \n",
       "region                 -0.020592  1.000000  -0.005032  0.019730   \n",
       "education               0.054998 -0.005032   1.000000 -0.017824   \n",
       "gender                 -0.030108  0.019730  -0.017824  1.000000   \n",
       "recruitment_channel     0.004732 -0.000920  -0.004660  0.006567   \n",
       "no_of_trainings         0.014152 -0.004590  -0.039286  0.084501   \n",
       "age                     0.079162 -0.088918   0.316659 -0.016293   \n",
       "previous_year_rating   -0.114089 -0.011669   0.063046 -0.025558   \n",
       "length_of_service       0.059060 -0.058939   0.217755 -0.019675   \n",
       "KPIs_met >80%          -0.088209 -0.007664   0.001265 -0.037400   \n",
       "awards_won?            -0.002151  0.000307  -0.001391  0.002381   \n",
       "avg_training_score     -0.251626  0.023572   0.013519 -0.024494   \n",
       "is_promoted             0.000130  0.008841   0.023250 -0.011109   \n",
       "\n",
       "                      recruitment_channel  no_of_trainings       age  \\\n",
       "department                       0.004732         0.014152  0.079162   \n",
       "region                          -0.000920        -0.004590 -0.088918   \n",
       "education                       -0.004660        -0.039286  0.316659   \n",
       "gender                           0.006567         0.084501 -0.016293   \n",
       "recruitment_channel              1.000000        -0.010405 -0.011400   \n",
       "no_of_trainings                 -0.010405         1.000000 -0.081278   \n",
       "age                             -0.011400        -0.081278  1.000000   \n",
       "previous_year_rating             0.004283        -0.065435  0.138656   \n",
       "length_of_service               -0.002887        -0.057275  0.657111   \n",
       "KPIs_met >80%                   -0.000297        -0.045576 -0.025592   \n",
       "awards_won?                     -0.005510        -0.007628 -0.008169   \n",
       "avg_training_score              -0.002416         0.042517 -0.048380   \n",
       "is_promoted                      0.002229        -0.024896 -0.017166   \n",
       "\n",
       "                      previous_year_rating  length_of_service  KPIs_met >80%  \\\n",
       "department                       -0.114089           0.059060      -0.088209   \n",
       "region                           -0.011669          -0.058939      -0.007664   \n",
       "education                         0.063046           0.217755       0.001265   \n",
       "gender                           -0.025558          -0.019675      -0.037400   \n",
       "recruitment_channel               0.004283          -0.002887      -0.000297   \n",
       "no_of_trainings                  -0.065435          -0.057275      -0.045576   \n",
       "age                               0.138656           0.657111      -0.025592   \n",
       "previous_year_rating              1.000000           0.147385       0.302200   \n",
       "length_of_service                 0.147385           1.000000      -0.077693   \n",
       "KPIs_met >80%                     0.302200          -0.077693       1.000000   \n",
       "awards_won?                       0.023694          -0.039927       0.097000   \n",
       "avg_training_score                0.064557          -0.038122       0.078391   \n",
       "is_promoted                       0.138192          -0.010670       0.221582   \n",
       "\n",
       "                      awards_won?  avg_training_score  is_promoted  \n",
       "department              -0.002151           -0.251626     0.000130  \n",
       "region                   0.000307            0.023572     0.008841  \n",
       "education               -0.001391            0.013519     0.023250  \n",
       "gender                   0.002381           -0.024494    -0.011109  \n",
       "recruitment_channel     -0.005510           -0.002416     0.002229  \n",
       "no_of_trainings         -0.007628            0.042517    -0.024896  \n",
       "age                     -0.008169           -0.048380    -0.017166  \n",
       "previous_year_rating     0.023694            0.064557     0.138192  \n",
       "length_of_service       -0.039927           -0.038122    -0.010670  \n",
       "KPIs_met >80%            0.097000            0.078391     0.221582  \n",
       "awards_won?              1.000000            0.072138     0.195871  \n",
       "avg_training_score       0.072138            1.000000     0.181147  \n",
       "is_promoted              0.195871            0.181147     1.000000  "
      ]
     },
     "execution_count": 51,
     "metadata": {},
     "output_type": "execute_result"
    }
   ],
   "source": [
    "x=data.corr()\n",
    "x"
   ]
  },
  {
   "cell_type": "code",
   "execution_count": 52,
   "id": "a93e7246",
   "metadata": {},
   "outputs": [
    {
     "data": {
      "image/png": "[encoded data removed]",
      "text/plain": [
       "<Figure size 1080x720 with 2 Axes>"
      ]
     },
     "metadata": {
      "needs_background": "light"
     },
     "output_type": "display_data"
    }
   ],
   "source": [
    "plt.figure(figsize=(15,10))\n",
    "#heatmap=sns.heatmap(x,linewidth=1,annot=True,cmap=plt.cm.Blues)\n",
    "heatmap=sns.heatmap(x,cmap=\"coolwarm\",annot=True)\n",
    "plt.show()"
   ]
  },
  {
   "cell_type": "code",
   "execution_count": 53,
   "id": "49445c43",
   "metadata": {},
   "outputs": [],
   "source": [
    "#v=sns.pairplot(data)\n",
    "#v"
   ]
  },
  {
   "cell_type": "code",
   "execution_count": 54,
   "id": "154616d6",
   "metadata": {},
   "outputs": [
    {
     "data": {
      "text/plain": [
       "<AxesSubplot:xlabel='is_promoted', ylabel='count'>"
      ]
     },
     "execution_count": 54,
     "metadata": {},
     "output_type": "execute_result"
    },
    {
     "data": {
      "image/png": "[encoded data removed]",
      "text/plain": [
       "<Figure size 432x288 with 1 Axes>"
      ]
     },
     "metadata": {
      "needs_background": "light"
     },
     "output_type": "display_data"
    }
   ],
   "source": [
    "sns.countplot(x=data.is_promoted)"
   ]
  },
  {
   "cell_type": "markdown",
   "id": "2590406c",
   "metadata": {},
   "source": [
    "# impact of department on is_promoted column"
   ]
  },
  {
   "cell_type": "code",
   "execution_count": 55,
   "id": "77592eae",
   "metadata": {},
   "outputs": [
    {
     "data": {
      "text/plain": [
       "<AxesSubplot:xlabel='department', ylabel='count'>"
      ]
     },
     "execution_count": 55,
     "metadata": {},
     "output_type": "execute_result"
    },
    {
     "data": {
      "image/png": "[encoded data removed]",
      "text/plain": [
       "<Figure size 720x720 with 1 Axes>"
      ]
     },
     "metadata": {
      "needs_background": "light"
     },
     "output_type": "display_data"
    }
   ],
   "source": [
    "fig=plt.figure(figsize=(10,10))\n",
    "sns.countplot(hue=data.is_promoted,x=data.department)"
   ]
  },
  {
   "cell_type": "code",
   "execution_count": 56,
   "id": "14f317a9",
   "metadata": {},
   "outputs": [
    {
     "data": {
      "image/png": "[encoded data removed]",
      "text/plain": [
       "<Figure size 432x288 with 1 Axes>"
      ]
     },
     "metadata": {
      "needs_background": "light"
     },
     "output_type": "display_data"
    }
   ],
   "source": [
    "sns.histplot(hue=data.is_promoted,x=data.age)\n",
    "plt.show()"
   ]
  },
  {
   "cell_type": "code",
   "execution_count": 57,
   "id": "92b733f2",
   "metadata": {},
   "outputs": [
    {
     "data": {
      "text/plain": [
       "<matplotlib.collections.PathCollection at 0x1bade164100>"
      ]
     },
     "execution_count": 57,
     "metadata": {},
     "output_type": "execute_result"
    },
    {
     "data": {
      "image/png": "[encoded data removed]",
      "text/plain": [
       "<Figure size 432x288 with 1 Axes>"
      ]
     },
     "metadata": {
      "needs_background": "light"
     },
     "output_type": "display_data"
    }
   ],
   "source": [
    "plt.scatter(data.age,data.length_of_service)"
   ]
  },
  {
   "cell_type": "code",
   "execution_count": 58,
   "id": "9dcc3470",
   "metadata": {},
   "outputs": [
    {
     "data": {
      "text/plain": [
       "<matplotlib.collections.PathCollection at 0x1bae07a52b0>"
      ]
     },
     "execution_count": 58,
     "metadata": {},
     "output_type": "execute_result"
    },
    {
     "data": {
      "image/png": "[encoded data removed]",
      "text/plain": [
       "<Figure size 432x288 with 1 Axes>"
      ]
     },
     "metadata": {
      "needs_background": "light"
     },
     "output_type": "display_data"
    }
   ],
   "source": [
    "plt.scatter(data.age,data.region)"
   ]
  },
  {
   "cell_type": "code",
   "execution_count": 59,
   "id": "576c70d1",
   "metadata": {},
   "outputs": [
    {
     "data": {
      "text/plain": [
       "<matplotlib.collections.PathCollection at 0x1bae0814f10>"
      ]
     },
     "execution_count": 59,
     "metadata": {},
     "output_type": "execute_result"
    },
    {
     "data": {
      "image/png": "[encoded data removed]",
      "text/plain": [
       "<Figure size 432x288 with 1 Axes>"
      ]
     },
     "metadata": {
      "needs_background": "light"
     },
     "output_type": "display_data"
    }
   ],
   "source": [
    "plt.scatter(data.avg_training_score,data.length_of_service)"
   ]
  },
  {
   "cell_type": "code",
   "execution_count": 60,
   "id": "4d753bdd",
   "metadata": {},
   "outputs": [
    {
     "data": {
      "text/plain": [
       "<matplotlib.collections.PathCollection at 0x1bae08894c0>"
      ]
     },
     "execution_count": 60,
     "metadata": {},
     "output_type": "execute_result"
    },
    {
     "data": {
      "image/png": "[encoded data removed]",
      "text/plain": [
       "<Figure size 432x288 with 1 Axes>"
      ]
     },
     "metadata": {
      "needs_background": "light"
     },
     "output_type": "display_data"
    }
   ],
   "source": [
    "plt.scatter(data.department,data.region)"
   ]
  },
  {
   "cell_type": "code",
   "execution_count": 61,
   "id": "24acea71",
   "metadata": {},
   "outputs": [
    {
     "data": {
      "text/plain": [
       "(array([10347.,     0.,  4225.,     0.,     0., 18618.,     0.,  9877.,\n",
       "            0., 11741.]),\n",
       " array([1. , 1.4, 1.8, 2.2, 2.6, 3. , 3.4, 3.8, 4.2, 4.6, 5. ]),\n",
       " <BarContainer object of 10 artists>)"
      ]
     },
     "execution_count": 61,
     "metadata": {},
     "output_type": "execute_result"
    },
    {
     "data": {
      "image/png": "[encoded data removed]",
      "text/plain": [
       "<Figure size 432x288 with 1 Axes>"
      ]
     },
     "metadata": {
      "needs_background": "light"
     },
     "output_type": "display_data"
    }
   ],
   "source": [
    "plt.hist(data.previous_year_rating)"
   ]
  },
  {
   "cell_type": "code",
   "execution_count": 62,
   "id": "5663db38",
   "metadata": {},
   "outputs": [
    {
     "data": {
      "text/plain": [
       "(array([4.4378e+04, 7.9870e+03, 1.7760e+03, 4.6800e+02, 1.2800e+02,\n",
       "        4.4000e+01, 1.2000e+01, 5.0000e+00, 5.0000e+00, 5.0000e+00]),\n",
       " array([ 1. ,  1.9,  2.8,  3.7,  4.6,  5.5,  6.4,  7.3,  8.2,  9.1, 10. ]),\n",
       " <BarContainer object of 10 artists>)"
      ]
     },
     "execution_count": 62,
     "metadata": {},
     "output_type": "execute_result"
    },
    {
     "data": {
      "image/png": "[encoded data removed]",
      "text/plain": [
       "<Figure size 432x288 with 1 Axes>"
      ]
     },
     "metadata": {
      "needs_background": "light"
     },
     "output_type": "display_data"
    }
   ],
   "source": [
    "plt.hist(data.no_of_trainings)"
   ]
  },
  {
   "cell_type": "code",
   "execution_count": 63,
   "id": "828e41a1",
   "metadata": {},
   "outputs": [
    {
     "data": {
      "text/plain": [
       "(array([ 3073.,  6283.,  2292., 14478.,  8111.,  4738.,  3315.,  3149.,\n",
       "         2761.,  6608.]),\n",
       " array([ 0. ,  3.3,  6.6,  9.9, 13.2, 16.5, 19.8, 23.1, 26.4, 29.7, 33. ]),\n",
       " <BarContainer object of 10 artists>)"
      ]
     },
     "execution_count": 63,
     "metadata": {},
     "output_type": "execute_result"
    },
    {
     "data": {
      "image/png": "[encoded data removed]",
      "text/plain": [
       "<Figure size 432x288 with 1 Axes>"
      ]
     },
     "metadata": {
      "needs_background": "light"
     },
     "output_type": "display_data"
    }
   ],
   "source": [
    "plt.hist(data.region)"
   ]
  },
  {
   "cell_type": "markdown",
   "id": "08abc747",
   "metadata": {},
   "source": [
    "# outlier handling"
   ]
  },
  {
   "cell_type": "code",
   "execution_count": 64,
   "id": "f941c2ce",
   "metadata": {},
   "outputs": [
    {
     "data": {
      "text/plain": [
       "department                int32\n",
       "region                    int32\n",
       "education                 int32\n",
       "gender                    int32\n",
       "recruitment_channel       int32\n",
       "no_of_trainings           int64\n",
       "age                       int64\n",
       "previous_year_rating    float64\n",
       "length_of_service         int64\n",
       "KPIs_met >80%             int64\n",
       "awards_won?               int64\n",
       "avg_training_score        int64\n",
       "is_promoted               int64\n",
       "dtype: object"
      ]
     },
     "execution_count": 64,
     "metadata": {},
     "output_type": "execute_result"
    }
   ],
   "source": [
    "data.dtypes"
   ]
  },
  {
   "cell_type": "code",
   "execution_count": 65,
   "id": "45fa63ac",
   "metadata": {},
   "outputs": [
    {
     "data": {
      "text/plain": [
       "<AxesSubplot:>"
      ]
     },
     "execution_count": 65,
     "metadata": {},
     "output_type": "execute_result"
    },
    {
     "data": {
      "image/png": "[encoded data removed]",
      "text/plain": [
       "<Figure size 2160x504 with 1 Axes>"
      ]
     },
     "metadata": {
      "needs_background": "light"
     },
     "output_type": "display_data"
    }
   ],
   "source": [
    "fig=plt.figure(figsize=(30,7))\n",
    "data.boxplot()"
   ]
  },
  {
   "cell_type": "markdown",
   "id": "09a58062",
   "metadata": {},
   "source": [
    "# for age"
   ]
  },
  {
   "cell_type": "code",
   "execution_count": 66,
   "id": "474112f3",
   "metadata": {},
   "outputs": [
    {
     "data": {
      "text/plain": [
       "<AxesSubplot:xlabel='age'>"
      ]
     },
     "execution_count": 66,
     "metadata": {},
     "output_type": "execute_result"
    },
    {
     "data": {
      "image/png": "[encoded data removed]",
      "text/plain": [
       "<Figure size 432x288 with 1 Axes>"
      ]
     },
     "metadata": {
      "needs_background": "light"
     },
     "output_type": "display_data"
    }
   ],
   "source": [
    "sns.boxplot(data.age)"
   ]
  },
  {
   "cell_type": "code",
   "execution_count": 67,
   "id": "867acf44",
   "metadata": {},
   "outputs": [
    {
     "data": {
      "text/plain": [
       "<AxesSubplot:xlabel='age', ylabel='Density'>"
      ]
     },
     "execution_count": 67,
     "metadata": {},
     "output_type": "execute_result"
    },
    {
     "data": {
      "image/png": "[encoded data removed]",
      "text/plain": [
       "<Figure size 432x288 with 1 Axes>"
      ]
     },
     "metadata": {
      "needs_background": "light"
     },
     "output_type": "display_data"
    }
   ],
   "source": [
    "sns.distplot(data.age)"
   ]
  },
  {
   "cell_type": "code",
   "execution_count": 68,
   "id": "12dd953d",
   "metadata": {},
   "outputs": [
    {
     "data": {
      "text/plain": [
       "(array([  870.,  7031., 13751., 12531.,  8300.,  5093.,  2861.,  1908.,\n",
       "         1322.,  1141.]),\n",
       " array([20., 24., 28., 32., 36., 40., 44., 48., 52., 56., 60.]),\n",
       " <BarContainer object of 10 artists>)"
      ]
     },
     "execution_count": 68,
     "metadata": {},
     "output_type": "execute_result"
    },
    {
     "data": {
      "image/png": "[encoded data removed]",
      "text/plain": [
       "<Figure size 432x288 with 1 Axes>"
      ]
     },
     "metadata": {
      "needs_background": "light"
     },
     "output_type": "display_data"
    }
   ],
   "source": [
    "plt.hist(data.age)"
   ]
  },
  {
   "cell_type": "code",
   "execution_count": 69,
   "id": "57e6d4b1",
   "metadata": {},
   "outputs": [
    {
     "data": {
      "text/plain": [
       "0        35\n",
       "1        30\n",
       "2        34\n",
       "3        39\n",
       "4        45\n",
       "         ..\n",
       "54803    48\n",
       "54804    37\n",
       "54805    27\n",
       "54806    29\n",
       "54807    27\n",
       "Name: age, Length: 54808, dtype: int64"
      ]
     },
     "execution_count": 69,
     "metadata": {},
     "output_type": "execute_result"
    }
   ],
   "source": [
    "age=data[\"age\"]\n",
    "age"
   ]
  },
  {
   "cell_type": "code",
   "execution_count": 70,
   "id": "e16b42c3",
   "metadata": {},
   "outputs": [],
   "source": [
    "outliers=[]\n",
    "def detect_outliers(hr):\n",
    "    threshold=2.5\n",
    "    mean=np.mean(hr)  # mean of that perticular column\n",
    "    std=np.std(hr)    # SD of that perticular column\n",
    "    \n",
    "    for i in hr:\n",
    "        z_score=(i-mean)/std\n",
    "        if np.abs(z_score) > threshold:\n",
    "            outliers.append(i)\n",
    "    return outliers"
   ]
  },
  {
   "cell_type": "code",
   "execution_count": 71,
   "id": "4e68ffdf",
   "metadata": {},
   "outputs": [
    {
     "data": {
      "text/plain": [
       "[57,\n",
       " 59,\n",
       " 56,\n",
       " 60,\n",
       " 54,\n",
       " 54,\n",
       " 58,\n",
       " 57,\n",
       " 58,\n",
       " 57,\n",
       " 55,\n",
       " 59,\n",
       " 57,\n",
       " 60,\n",
       " 57,\n",
       " 57,\n",
       " 59,\n",
       " 56,\n",
       " 54,\n",
       " 58,\n",
       " 60,\n",
       " 55,\n",
       " 57,\n",
       " 56,\n",
       " 57,\n",
       " 59,\n",
       " 58,\n",
       " 54,\n",
       " 60,\n",
       " 57,\n",
       " 57,\n",
       " 54,\n",
       " 60,\n",
       " 57,\n",
       " 57,\n",
       " 55,\n",
       " 56,\n",
       " 54,\n",
       " 54,\n",
       " 60,\n",
       " 55,\n",
       " 58,\n",
       " 54,\n",
       " 54,\n",
       " 56,\n",
       " 54,\n",
       " 59,\n",
       " 54,\n",
       " 54,\n",
       " 56,\n",
       " 54,\n",
       " 54,\n",
       " 56,\n",
       " 58,\n",
       " 54,\n",
       " 57,\n",
       " 55,\n",
       " 57,\n",
       " 59,\n",
       " 57,\n",
       " 60,\n",
       " 60,\n",
       " 60,\n",
       " 60,\n",
       " 54,\n",
       " 54,\n",
       " 58,\n",
       " 55,\n",
       " 59,\n",
       " 55,\n",
       " 60,\n",
       " 57,\n",
       " 55,\n",
       " 55,\n",
       " 60,\n",
       " 56,\n",
       " 57,\n",
       " 56,\n",
       " 54,\n",
       " 58,\n",
       " 56,\n",
       " 60,\n",
       " 55,\n",
       " 54,\n",
       " 57,\n",
       " 57,\n",
       " 59,\n",
       " 55,\n",
       " 55,\n",
       " 54,\n",
       " 60,\n",
       " 57,\n",
       " 57,\n",
       " 55,\n",
       " 56,\n",
       " 57,\n",
       " 56,\n",
       " 54,\n",
       " 55,\n",
       " 59,\n",
       " 56,\n",
       " 59,\n",
       " 55,\n",
       " 54,\n",
       " 59,\n",
       " 60,\n",
       " 54,\n",
       " 58,\n",
       " 60,\n",
       " 58,\n",
       " 60,\n",
       " 55,\n",
       " 60,\n",
       " 55,\n",
       " 54,\n",
       " 57,\n",
       " 60,\n",
       " 57,\n",
       " 56,\n",
       " 55,\n",
       " 57,\n",
       " 54,\n",
       " 57,\n",
       " 54,\n",
       " 59,\n",
       " 56,\n",
       " 54,\n",
       " 58,\n",
       " 54,\n",
       " 54,\n",
       " 60,\n",
       " 58,\n",
       " 57,\n",
       " 58,\n",
       " 57,\n",
       " 58,\n",
       " 57,\n",
       " 55,\n",
       " 57,\n",
       " 56,\n",
       " 56,\n",
       " 54,\n",
       " 59,\n",
       " 54,\n",
       " 54,\n",
       " 55,\n",
       " 60,\n",
       " 58,\n",
       " 55,\n",
       " 58,\n",
       " 60,\n",
       " 55,\n",
       " 54,\n",
       " 54,\n",
       " 58,\n",
       " 57,\n",
       " 55,\n",
       " 59,\n",
       " 59,\n",
       " 54,\n",
       " 56,\n",
       " 60,\n",
       " 60,\n",
       " 58,\n",
       " 55,\n",
       " 54,\n",
       " 54,\n",
       " 54,\n",
       " 55,\n",
       " 58,\n",
       " 54,\n",
       " 55,\n",
       " 56,\n",
       " 55,\n",
       " 59,\n",
       " 58,\n",
       " 58,\n",
       " 60,\n",
       " 59,\n",
       " 59,\n",
       " 59,\n",
       " 56,\n",
       " 56,\n",
       " 57,\n",
       " 54,\n",
       " 55,\n",
       " 56,\n",
       " 54,\n",
       " 60,\n",
       " 56,\n",
       " 55,\n",
       " 55,\n",
       " 57,\n",
       " 55,\n",
       " 55,\n",
       " 60,\n",
       " 57,\n",
       " 54,\n",
       " 54,\n",
       " 60,\n",
       " 55,\n",
       " 56,\n",
       " 58,\n",
       " 55,\n",
       " 59,\n",
       " 56,\n",
       " 59,\n",
       " 54,\n",
       " 57,\n",
       " 54,\n",
       " 58,\n",
       " 55,\n",
       " 60,\n",
       " 59,\n",
       " 59,\n",
       " 58,\n",
       " 54,\n",
       " 59,\n",
       " 56,\n",
       " 58,\n",
       " 60,\n",
       " 54,\n",
       " 59,\n",
       " 58,\n",
       " 60,\n",
       " 59,\n",
       " 55,\n",
       " 59,\n",
       " 56,\n",
       " 60,\n",
       " 59,\n",
       " 59,\n",
       " 54,\n",
       " 56,\n",
       " 60,\n",
       " 59,\n",
       " 56,\n",
       " 55,\n",
       " 56,\n",
       " 54,\n",
       " 54,\n",
       " 55,\n",
       " 60,\n",
       " 54,\n",
       " 59,\n",
       " 58,\n",
       " 60,\n",
       " 56,\n",
       " 54,\n",
       " 60,\n",
       " 55,\n",
       " 57,\n",
       " 54,\n",
       " 54,\n",
       " 56,\n",
       " 56,\n",
       " 57,\n",
       " 58,\n",
       " 55,\n",
       " 54,\n",
       " 57,\n",
       " 58,\n",
       " 56,\n",
       " 60,\n",
       " 56,\n",
       " 58,\n",
       " 55,\n",
       " 54,\n",
       " 56,\n",
       " 57,\n",
       " 55,\n",
       " 60,\n",
       " 57,\n",
       " 54,\n",
       " 54,\n",
       " 55,\n",
       " 56,\n",
       " 56,\n",
       " 57,\n",
       " 54,\n",
       " 58,\n",
       " 58,\n",
       " 56,\n",
       " 60,\n",
       " 55,\n",
       " 54,\n",
       " 57,\n",
       " 54,\n",
       " 58,\n",
       " 58,\n",
       " 59,\n",
       " 55,\n",
       " 58,\n",
       " 60,\n",
       " 58,\n",
       " 54,\n",
       " 54,\n",
       " 58,\n",
       " 55,\n",
       " 55,\n",
       " 54,\n",
       " 54,\n",
       " 55,\n",
       " 54,\n",
       " 56,\n",
       " 59,\n",
       " 54,\n",
       " 55,\n",
       " 55,\n",
       " 57,\n",
       " 57,\n",
       " 56,\n",
       " 54,\n",
       " 57,\n",
       " 54,\n",
       " 55,\n",
       " 60,\n",
       " 56,\n",
       " 58,\n",
       " 60,\n",
       " 55,\n",
       " 54,\n",
       " 55,\n",
       " 55,\n",
       " 56,\n",
       " 54,\n",
       " 56,\n",
       " 59,\n",
       " 58,\n",
       " 59,\n",
       " 58,\n",
       " 54,\n",
       " 59,\n",
       " 58,\n",
       " 55,\n",
       " 59,\n",
       " 59,\n",
       " 57,\n",
       " 57,\n",
       " 59,\n",
       " 59,\n",
       " 59,\n",
       " 55,\n",
       " 57,\n",
       " 54,\n",
       " 55,\n",
       " 55,\n",
       " 60,\n",
       " 56,\n",
       " 59,\n",
       " 56,\n",
       " 58,\n",
       " 60,\n",
       " 59,\n",
       " 56,\n",
       " 57,\n",
       " 59,\n",
       " 58,\n",
       " 56,\n",
       " 55,\n",
       " 54,\n",
       " 58,\n",
       " 54,\n",
       " 54,\n",
       " 57,\n",
       " 55,\n",
       " 60,\n",
       " 56,\n",
       " 54,\n",
       " 54,\n",
       " 54,\n",
       " 57,\n",
       " 56,\n",
       " 58,\n",
       " 60,\n",
       " 58,\n",
       " 54,\n",
       " 59,\n",
       " 57,\n",
       " 58,\n",
       " 59,\n",
       " 58,\n",
       " 59,\n",
       " 57,\n",
       " 56,\n",
       " 56,\n",
       " 56,\n",
       " 60,\n",
       " 54,\n",
       " 56,\n",
       " 56,\n",
       " 55,\n",
       " 54,\n",
       " 57,\n",
       " 60,\n",
       " 54,\n",
       " 55,\n",
       " 56,\n",
       " 56,\n",
       " 58,\n",
       " 56,\n",
       " 58,\n",
       " 55,\n",
       " 58,\n",
       " 58,\n",
       " 54,\n",
       " 57,\n",
       " 54,\n",
       " 55,\n",
       " 60,\n",
       " 60,\n",
       " 59,\n",
       " 60,\n",
       " 60,\n",
       " 57,\n",
       " 60,\n",
       " 54,\n",
       " 57,\n",
       " 59,\n",
       " 60,\n",
       " 60,\n",
       " 54,\n",
       " 56,\n",
       " 55,\n",
       " 56,\n",
       " 55,\n",
       " 59,\n",
       " 54,\n",
       " 55,\n",
       " 55,\n",
       " 59,\n",
       " 60,\n",
       " 58,\n",
       " 57,\n",
       " 54,\n",
       " 60,\n",
       " 54,\n",
       " 54,\n",
       " 55,\n",
       " 60,\n",
       " 56,\n",
       " 54,\n",
       " 60,\n",
       " 54,\n",
       " 57,\n",
       " 60,\n",
       " 56,\n",
       " 56,\n",
       " 54,\n",
       " 59,\n",
       " 54,\n",
       " 58,\n",
       " 55,\n",
       " 54,\n",
       " 57,\n",
       " 60,\n",
       " 55,\n",
       " 55,\n",
       " 58,\n",
       " 59,\n",
       " 54,\n",
       " 56,\n",
       " 55,\n",
       " 55,\n",
       " 56,\n",
       " 54,\n",
       " 60,\n",
       " 57,\n",
       " 60,\n",
       " 54,\n",
       " 58,\n",
       " 59,\n",
       " 60,\n",
       " 55,\n",
       " 54,\n",
       " 55,\n",
       " 60,\n",
       " 60,\n",
       " 58,\n",
       " 58,\n",
       " 55,\n",
       " 58,\n",
       " 57,\n",
       " 55,\n",
       " 54,\n",
       " 55,\n",
       " 54,\n",
       " 57,\n",
       " 58,\n",
       " 55,\n",
       " 54,\n",
       " 60,\n",
       " 57,\n",
       " 59,\n",
       " 55,\n",
       " 58,\n",
       " 54,\n",
       " 57,\n",
       " 58,\n",
       " 59,\n",
       " 54,\n",
       " 56,\n",
       " 54,\n",
       " 59,\n",
       " 60,\n",
       " 60,\n",
       " 54,\n",
       " 54,\n",
       " 54,\n",
       " 55,\n",
       " 60,\n",
       " 58,\n",
       " 58,\n",
       " 54,\n",
       " 55,\n",
       " 54,\n",
       " 59,\n",
       " 55,\n",
       " 55,\n",
       " 55,\n",
       " 54,\n",
       " 54,\n",
       " 58,\n",
       " 60,\n",
       " 60,\n",
       " 58,\n",
       " 58,\n",
       " 59,\n",
       " 60,\n",
       " 55,\n",
       " 59,\n",
       " 58,\n",
       " 56,\n",
       " 54,\n",
       " 59,\n",
       " 57,\n",
       " 55,\n",
       " 59,\n",
       " 56,\n",
       " 58,\n",
       " 58,\n",
       " 59,\n",
       " 56,\n",
       " 55,\n",
       " 58,\n",
       " 60,\n",
       " 56,\n",
       " 55,\n",
       " 60,\n",
       " 58,\n",
       " 60,\n",
       " 58,\n",
       " 57,\n",
       " 56,\n",
       " 59,\n",
       " 58,\n",
       " 54,\n",
       " 59,\n",
       " 58,\n",
       " 55,\n",
       " 58,\n",
       " 55,\n",
       " 55,\n",
       " 54,\n",
       " 58,\n",
       " 57,\n",
       " 54,\n",
       " 54,\n",
       " 56,\n",
       " 58,\n",
       " 58,\n",
       " 55,\n",
       " 55,\n",
       " 55,\n",
       " 54,\n",
       " 58,\n",
       " 54,\n",
       " 56,\n",
       " 56,\n",
       " 54,\n",
       " 60,\n",
       " 56,\n",
       " 56,\n",
       " 59,\n",
       " 56,\n",
       " 60,\n",
       " 56,\n",
       " 54,\n",
       " 60,\n",
       " 56,\n",
       " 56,\n",
       " 54,\n",
       " 59,\n",
       " 57,\n",
       " 56,\n",
       " 56,\n",
       " 56,\n",
       " 56,\n",
       " 60,\n",
       " 55,\n",
       " 56,\n",
       " 54,\n",
       " 54,\n",
       " 55,\n",
       " 60,\n",
       " 60,\n",
       " 56,\n",
       " 54,\n",
       " 55,\n",
       " 56,\n",
       " 60,\n",
       " 56,\n",
       " 54,\n",
       " 58,\n",
       " 56,\n",
       " 60,\n",
       " 56,\n",
       " 56,\n",
       " 60,\n",
       " 55,\n",
       " 55,\n",
       " 57,\n",
       " 55,\n",
       " 54,\n",
       " 57,\n",
       " 54,\n",
       " 57,\n",
       " 60,\n",
       " 58,\n",
       " 55,\n",
       " 58,\n",
       " 60,\n",
       " 55,\n",
       " 54,\n",
       " 58,\n",
       " 60,\n",
       " 54,\n",
       " 54,\n",
       " 55,\n",
       " 60,\n",
       " 58,\n",
       " 54,\n",
       " 54,\n",
       " 58,\n",
       " 54,\n",
       " 58,\n",
       " 56,\n",
       " 55,\n",
       " 54,\n",
       " 54,\n",
       " 59,\n",
       " 59,\n",
       " 56,\n",
       " 56,\n",
       " 57,\n",
       " 59,\n",
       " 57,\n",
       " 60,\n",
       " 60,\n",
       " 56,\n",
       " 54,\n",
       " 54,\n",
       " 54,\n",
       " 59,\n",
       " 58,\n",
       " 54,\n",
       " 57,\n",
       " 55,\n",
       " 57,\n",
       " 57,\n",
       " 55,\n",
       " 59,\n",
       " 55,\n",
       " 59,\n",
       " 59,\n",
       " 59,\n",
       " 57,\n",
       " 57,\n",
       " 60,\n",
       " 59,\n",
       " 59,\n",
       " 57,\n",
       " 60,\n",
       " 55,\n",
       " 58,\n",
       " 60,\n",
       " 55,\n",
       " 57,\n",
       " 56,\n",
       " 57,\n",
       " 56,\n",
       " 54,\n",
       " 56,\n",
       " 59,\n",
       " 54,\n",
       " 54,\n",
       " 57,\n",
       " 55,\n",
       " 54,\n",
       " 59,\n",
       " 55,\n",
       " 58,\n",
       " 56,\n",
       " 58,\n",
       " 58,\n",
       " 59,\n",
       " 56,\n",
       " 59,\n",
       " 54,\n",
       " 54,\n",
       " 54,\n",
       " 60,\n",
       " 55,\n",
       " 57,\n",
       " 56,\n",
       " 60,\n",
       " 56,\n",
       " 57,\n",
       " 60,\n",
       " 56,\n",
       " 55,\n",
       " 57,\n",
       " 57,\n",
       " 60,\n",
       " 58,\n",
       " 54,\n",
       " 56,\n",
       " 54,\n",
       " 56,\n",
       " 58,\n",
       " 55,\n",
       " 56,\n",
       " 54,\n",
       " 60,\n",
       " 57,\n",
       " 54,\n",
       " 59,\n",
       " 55,\n",
       " 54,\n",
       " 56,\n",
       " 54,\n",
       " 56,\n",
       " 54,\n",
       " 55,\n",
       " 54,\n",
       " 57,\n",
       " 57,\n",
       " 59,\n",
       " 57,\n",
       " 57,\n",
       " 57,\n",
       " 54,\n",
       " 59,\n",
       " 57,\n",
       " 60,\n",
       " 55,\n",
       " 60,\n",
       " 60,\n",
       " 56,\n",
       " 60,\n",
       " 54,\n",
       " 55,\n",
       " 56,\n",
       " 56,\n",
       " 58,\n",
       " 54,\n",
       " 54,\n",
       " 56,\n",
       " 57,\n",
       " 60,\n",
       " 54,\n",
       " 58,\n",
       " 60,\n",
       " 56,\n",
       " 57,\n",
       " 59,\n",
       " 54,\n",
       " 57,\n",
       " 55,\n",
       " 57,\n",
       " 55,\n",
       " 57,\n",
       " 54,\n",
       " 57,\n",
       " 59,\n",
       " 57,\n",
       " 59,\n",
       " 59,\n",
       " 55,\n",
       " 59,\n",
       " 59,\n",
       " 56,\n",
       " 54,\n",
       " 56,\n",
       " 60,\n",
       " 59,\n",
       " 57,\n",
       " 57,\n",
       " 60,\n",
       " 54,\n",
       " 58,\n",
       " 54,\n",
       " 55,\n",
       " 55,\n",
       " 60,\n",
       " 60,\n",
       " 56,\n",
       " 55,\n",
       " 58,\n",
       " 54,\n",
       " 55,\n",
       " 57,\n",
       " 56,\n",
       " 55,\n",
       " 57,\n",
       " 54,\n",
       " 54,\n",
       " 54,\n",
       " 56,\n",
       " 57,\n",
       " 58,\n",
       " 57,\n",
       " 56,\n",
       " 54,\n",
       " 60,\n",
       " 59,\n",
       " 59,\n",
       " 54,\n",
       " 60,\n",
       " 57,\n",
       " 60,\n",
       " 57,\n",
       " 59,\n",
       " 60,\n",
       " 55,\n",
       " 56,\n",
       " 57,\n",
       " 55,\n",
       " 57,\n",
       " 58,\n",
       " 58,\n",
       " 59,\n",
       " 57,\n",
       " 54,\n",
       " 54,\n",
       " 59,\n",
       " 56,\n",
       " 55,\n",
       " 60,\n",
       " 59,\n",
       " 59,\n",
       " 58,\n",
       " 58,\n",
       " 58,\n",
       " 58,\n",
       " 57,\n",
       " 58,\n",
       " 54,\n",
       " 60,\n",
       " 56,\n",
       " 56,\n",
       " 54,\n",
       " 57,\n",
       " 56,\n",
       " 55,\n",
       " 57,\n",
       " 55,\n",
       " 55,\n",
       " 59,\n",
       " 54,\n",
       " 55,\n",
       " 56,\n",
       " 59,\n",
       " 56,\n",
       " 57,\n",
       " 57,\n",
       " 55,\n",
       " 58,\n",
       " 57,\n",
       " 60,\n",
       " 60,\n",
       " 59,\n",
       " 55,\n",
       " 60,\n",
       " 57,\n",
       " 57,\n",
       " 57,\n",
       " 55,\n",
       " 54,\n",
       " 58,\n",
       " 60,\n",
       " 56,\n",
       " 59,\n",
       " 55,\n",
       " 55,\n",
       " 56,\n",
       " 54,\n",
       " 58,\n",
       " 55,\n",
       " 55,\n",
       " 57,\n",
       " 58,\n",
       " 59,\n",
       " 56,\n",
       " 54,\n",
       " 54,\n",
       " 56,\n",
       " 56,\n",
       " 59,\n",
       " 59,\n",
       " 58,\n",
       " 58,\n",
       " 58,\n",
       " 55,\n",
       " 57,\n",
       " 55,\n",
       " 60,\n",
       " 57,\n",
       " 56,\n",
       " 57,\n",
       " 59,\n",
       " 55,\n",
       " 55,\n",
       " 55,\n",
       " 60,\n",
       " 60,\n",
       " 56,\n",
       " 54,\n",
       " 56,\n",
       " 56,\n",
       " 57,\n",
       " 54,\n",
       " 54,\n",
       " 55,\n",
       " 54,\n",
       " 58,\n",
       " 57,\n",
       " 58,\n",
       " 58,\n",
       " 56,\n",
       " 59,\n",
       " 59,\n",
       " 55,\n",
       " 58,\n",
       " 54,\n",
       " 57,\n",
       " 54,\n",
       " 60,\n",
       " 54,\n",
       " 55,\n",
       " 55,\n",
       " 54,\n",
       " 54,\n",
       " 59,\n",
       " 54,\n",
       " 59,\n",
       " 58,\n",
       " 57,\n",
       " 56,\n",
       " 59,\n",
       " 59,\n",
       " 56,\n",
       " 58,\n",
       " 54,\n",
       " 55,\n",
       " 55,\n",
       " 60,\n",
       " 55,\n",
       " 57,\n",
       " 58,\n",
       " 56,\n",
       " 60,\n",
       " 56,\n",
       " 60,\n",
       " 57,\n",
       " 56,\n",
       " 56,\n",
       " 56,\n",
       " 58,\n",
       " 56,\n",
       " 60,\n",
       " 54,\n",
       " 54,\n",
       " 57,\n",
       " 60,\n",
       " 57,\n",
       " 59,\n",
       " 57,\n",
       " 56,\n",
       " 58,\n",
       " 59,\n",
       " 60,\n",
       " 57,\n",
       " 55,\n",
       " 60,\n",
       " 54,\n",
       " 60,\n",
       " 55,\n",
       " 54,\n",
       " 54,\n",
       " ...]"
      ]
     },
     "execution_count": 71,
     "metadata": {},
     "output_type": "execute_result"
    }
   ],
   "source": [
    "out=detect_outliers(age)\n",
    "out"
   ]
  },
  {
   "cell_type": "code",
   "execution_count": 72,
   "id": "a0f0d648",
   "metadata": {},
   "outputs": [
    {
     "name": "stdout",
     "output_type": "stream",
     "text": [
      "11.82340788203259 57.784423091547914\n"
     ]
    }
   ],
   "source": [
    "upperboundry=data[\"age\"].mean()+3*data[\"age\"].std()\n",
    "lowerboundry=data[\"age\"].mean()-3*data[\"age\"].std()\n",
    "print(lowerboundry,upperboundry)"
   ]
  },
  {
   "cell_type": "code",
   "execution_count": 73,
   "id": "0788abc3",
   "metadata": {},
   "outputs": [],
   "source": [
    "data.loc[data[\"age\"]>57.784423091547914,\"age\"]=57.784423091547914"
   ]
  },
  {
   "cell_type": "code",
   "execution_count": 74,
   "id": "d5cf8f4d",
   "metadata": {},
   "outputs": [
    {
     "data": {
      "text/plain": [
       "<AxesSubplot:xlabel='age', ylabel='Density'>"
      ]
     },
     "execution_count": 74,
     "metadata": {},
     "output_type": "execute_result"
    },
    {
     "data": {
      "image/png": "[encoded data removed]",
      "text/plain": [
       "<Figure size 432x288 with 1 Axes>"
      ]
     },
     "metadata": {
      "needs_background": "light"
     },
     "output_type": "display_data"
    }
   ],
   "source": [
    "sns.distplot(data.age)\n"
   ]
  },
  {
   "cell_type": "markdown",
   "id": "2d3100a4",
   "metadata": {},
   "source": [
    "# for length of service"
   ]
  },
  {
   "cell_type": "code",
   "execution_count": 75,
   "id": "72b7e9b3",
   "metadata": {},
   "outputs": [
    {
     "data": {
      "text/plain": [
       "<AxesSubplot:xlabel='length_of_service'>"
      ]
     },
     "execution_count": 75,
     "metadata": {},
     "output_type": "execute_result"
    },
    {
     "data": {
      "image/png": "[encoded data removed]",
      "text/plain": [
       "<Figure size 432x288 with 1 Axes>"
      ]
     },
     "metadata": {
      "needs_background": "light"
     },
     "output_type": "display_data"
    }
   ],
   "source": [
    "sns.boxplot(data.length_of_service)"
   ]
  },
  {
   "cell_type": "code",
   "execution_count": 76,
   "id": "b3eeec1f",
   "metadata": {},
   "outputs": [
    {
     "data": {
      "text/plain": [
       "(array([2.510e+04, 1.900e+04, 5.738e+03, 2.623e+03, 1.372e+03, 5.960e+02,\n",
       "        2.270e+02, 9.600e+01, 5.100e+01, 5.000e+00]),\n",
       " array([ 1. ,  4.6,  8.2, 11.8, 15.4, 19. , 22.6, 26.2, 29.8, 33.4, 37. ]),\n",
       " <BarContainer object of 10 artists>)"
      ]
     },
     "execution_count": 76,
     "metadata": {},
     "output_type": "execute_result"
    },
    {
     "data": {
      "image/png": "[encoded data removed]",
      "text/plain": [
       "<Figure size 432x288 with 1 Axes>"
      ]
     },
     "metadata": {
      "needs_background": "light"
     },
     "output_type": "display_data"
    }
   ],
   "source": [
    "plt.hist(data.length_of_service)"
   ]
  },
  {
   "cell_type": "code",
   "execution_count": 77,
   "id": "3d803cb2",
   "metadata": {},
   "outputs": [
    {
     "data": {
      "text/plain": [
       "<AxesSubplot:xlabel='length_of_service', ylabel='Density'>"
      ]
     },
     "execution_count": 77,
     "metadata": {},
     "output_type": "execute_result"
    },
    {
     "data": {
      "image/png": "[encoded data removed]",
      "text/plain": [
       "<Figure size 432x288 with 1 Axes>"
      ]
     },
     "metadata": {
      "needs_background": "light"
     },
     "output_type": "display_data"
    }
   ],
   "source": [
    "sns.distplot(data.length_of_service)"
   ]
  },
  {
   "cell_type": "code",
   "execution_count": 78,
   "id": "62611df6",
   "metadata": {},
   "outputs": [
    {
     "data": {
      "text/plain": [
       "4.0"
      ]
     },
     "execution_count": 78,
     "metadata": {},
     "output_type": "execute_result"
    }
   ],
   "source": [
    "\n",
    "iqr=data.length_of_service.quantile(0.75)-data.length_of_service.quantile(0.25)\n",
    "iqr"
   ]
  },
  {
   "cell_type": "code",
   "execution_count": 79,
   "id": "ed7b82e4",
   "metadata": {},
   "outputs": [
    {
     "name": "stdout",
     "output_type": "stream",
     "text": [
      "-9.0 19.0\n"
     ]
    }
   ],
   "source": [
    "lb=data[\"length_of_service\"].quantile(0.25)-(iqr*3) #last limit is 3 for covering more area we have to increase limit\n",
    "ub=data[\"length_of_service\"].quantile(0.75)+(iqr*3)\n",
    "print(lb,ub)"
   ]
  },
  {
   "cell_type": "code",
   "execution_count": 80,
   "id": "6f69b8c1",
   "metadata": {},
   "outputs": [
    {
     "data": {
      "text/plain": [
       "<AxesSubplot:ylabel='length_of_service'>"
      ]
     },
     "execution_count": 80,
     "metadata": {},
     "output_type": "execute_result"
    },
    {
     "data": {
      "image/png": "[encoded data removed]",
      "text/plain": [
       "<Figure size 432x432 with 1 Axes>"
      ]
     },
     "metadata": {
      "needs_background": "light"
     },
     "output_type": "display_data"
    }
   ],
   "source": [
    "data.loc[data[\"length_of_service\"]>19.0,\"length_of_service\"]=19.0\n",
    "fig=plt.figure(figsize=(6,6))\n",
    "sns.boxplot(data=data,y=\"length_of_service\")"
   ]
  },
  {
   "cell_type": "code",
   "execution_count": null,
   "id": "884015a1",
   "metadata": {},
   "outputs": [],
   "source": []
  },
  {
   "cell_type": "markdown",
   "id": "4538d6be",
   "metadata": {},
   "source": [
    "# for .avg_training_score"
   ]
  },
  {
   "cell_type": "code",
   "execution_count": 81,
   "id": "7a4dab65",
   "metadata": {},
   "outputs": [
    {
     "data": {
      "text/plain": [
       "(array([  606., 11397.,  8466., 10883.,  4571.,  4652.,  4915.,  7154.,\n",
       "         1801.,   363.]),\n",
       " array([39., 45., 51., 57., 63., 69., 75., 81., 87., 93., 99.]),\n",
       " <BarContainer object of 10 artists>)"
      ]
     },
     "execution_count": 81,
     "metadata": {},
     "output_type": "execute_result"
    },
    {
     "data": {
      "image/png": "[encoded data removed]",
      "text/plain": [
       "<Figure size 432x288 with 1 Axes>"
      ]
     },
     "metadata": {
      "needs_background": "light"
     },
     "output_type": "display_data"
    }
   ],
   "source": [
    "plt.hist(data.avg_training_score)"
   ]
  },
  {
   "cell_type": "code",
   "execution_count": 82,
   "id": "3684d6b4",
   "metadata": {},
   "outputs": [
    {
     "data": {
      "text/plain": [
       "<AxesSubplot:xlabel='avg_training_score', ylabel='Density'>"
      ]
     },
     "execution_count": 82,
     "metadata": {},
     "output_type": "execute_result"
    },
    {
     "data": {
      "image/png": "[encoded data removed]",
      "text/plain": [
       "<Figure size 432x288 with 1 Axes>"
      ]
     },
     "metadata": {
      "needs_background": "light"
     },
     "output_type": "display_data"
    }
   ],
   "source": [
    "sns.distplot(data.avg_training_score)\n"
   ]
  },
  {
   "cell_type": "code",
   "execution_count": null,
   "id": "7ecc746c",
   "metadata": {},
   "outputs": [],
   "source": []
  },
  {
   "cell_type": "code",
   "execution_count": 83,
   "id": "d3ad7133",
   "metadata": {},
   "outputs": [
    {
     "data": {
      "text/plain": [
       "<AxesSubplot:ylabel='avg_training_score'>"
      ]
     },
     "execution_count": 83,
     "metadata": {},
     "output_type": "execute_result"
    },
    {
     "data": {
      "image/png": "[encoded data removed]",
      "text/plain": [
       "<Figure size 504x504 with 1 Axes>"
      ]
     },
     "metadata": {
      "needs_background": "light"
     },
     "output_type": "display_data"
    }
   ],
   "source": [
    "fig=plt.figure(figsize=(7,7))\n",
    "sns.boxplot(data=data,y=\"avg_training_score\")"
   ]
  },
  {
   "cell_type": "markdown",
   "id": "597af600",
   "metadata": {},
   "source": [
    "# skewness treatment"
   ]
  },
  {
   "cell_type": "code",
   "execution_count": 84,
   "id": "98fde22e",
   "metadata": {},
   "outputs": [
    {
     "data": {
      "text/plain": [
       "0        False\n",
       "1        False\n",
       "2        False\n",
       "3        False\n",
       "4        False\n",
       "         ...  \n",
       "54803    False\n",
       "54804    False\n",
       "54805    False\n",
       "54806    False\n",
       "54807    False\n",
       "Name: avg_training_score, Length: 54808, dtype: bool"
      ]
     },
     "execution_count": 84,
     "metadata": {},
     "output_type": "execute_result"
    }
   ],
   "source": [
    "data[\"avg_training_score\"]==0"
   ]
  },
  {
   "cell_type": "code",
   "execution_count": 85,
   "id": "1e6258eb",
   "metadata": {},
   "outputs": [
    {
     "data": {
      "text/plain": [
       "0.45190808551707995"
      ]
     },
     "execution_count": 85,
     "metadata": {},
     "output_type": "execute_result"
    }
   ],
   "source": [
    "data.avg_training_score.skew()"
   ]
  },
  {
   "cell_type": "code",
   "execution_count": 86,
   "id": "34f7b652",
   "metadata": {},
   "outputs": [
    {
     "data": {
      "text/plain": [
       "0        3.891820\n",
       "1        4.094345\n",
       "2        3.912023\n",
       "3        3.912023\n",
       "4        4.290459\n",
       "           ...   \n",
       "54803    4.356709\n",
       "54804    4.025352\n",
       "54805    4.369448\n",
       "54806    3.806662\n",
       "54807    3.891820\n",
       "Name: avg_training_score, Length: 54808, dtype: float64"
      ]
     },
     "execution_count": 86,
     "metadata": {},
     "output_type": "execute_result"
    }
   ],
   "source": [
    "import numpy as np\n",
    "v=np.log(data.avg_training_score)\n",
    "v"
   ]
  },
  {
   "cell_type": "code",
   "execution_count": 87,
   "id": "14661259",
   "metadata": {},
   "outputs": [
    {
     "data": {
      "text/plain": [
       "(array([   95.,  2328., 11927.,  6119., 10883.,  4571.,  4652.,  7719.,\n",
       "         5935.,   579.]),\n",
       " array([3.66356165, 3.75671747, 3.84987329, 3.94302911, 4.03618493,\n",
       "        4.12934075, 4.22249657, 4.31565239, 4.40880821, 4.50196403,\n",
       "        4.59511985]),\n",
       " <BarContainer object of 10 artists>)"
      ]
     },
     "execution_count": 87,
     "metadata": {},
     "output_type": "execute_result"
    },
    {
     "data": {
      "image/png": "[encoded data removed]",
      "text/plain": [
       "<Figure size 432x288 with 1 Axes>"
      ]
     },
     "metadata": {
      "needs_background": "light"
     },
     "output_type": "display_data"
    }
   ],
   "source": [
    "plt.hist(v)"
   ]
  },
  {
   "cell_type": "code",
   "execution_count": 88,
   "id": "83017bb3",
   "metadata": {},
   "outputs": [
    {
     "data": {
      "text/plain": [
       "<AxesSubplot:xlabel='avg_training_score', ylabel='Density'>"
      ]
     },
     "execution_count": 88,
     "metadata": {},
     "output_type": "execute_result"
    },
    {
     "data": {
      "image/png": "[encoded data removed]",
      "text/plain": [
       "<Figure size 432x288 with 1 Axes>"
      ]
     },
     "metadata": {
      "needs_background": "light"
     },
     "output_type": "display_data"
    }
   ],
   "source": [
    "sns.distplot(v)"
   ]
  },
  {
   "cell_type": "code",
   "execution_count": 89,
   "id": "051e23a1",
   "metadata": {},
   "outputs": [
    {
     "data": {
      "text/plain": [
       "0.45190808551707995"
      ]
     },
     "execution_count": 89,
     "metadata": {},
     "output_type": "execute_result"
    }
   ],
   "source": [
    " data.avg_training_score.skew()"
   ]
  },
  {
   "cell_type": "markdown",
   "id": "7b63ddb9",
   "metadata": {},
   "source": [
    "# model bulding"
   ]
  },
  {
   "cell_type": "code",
   "execution_count": 90,
   "id": "253b9a62",
   "metadata": {},
   "outputs": [
    {
     "data": {
      "text/html": [
       "<div>\n",
       "<style scoped>\n",
       "    .dataframe tbody tr th:only-of-type {\n",
       "        vertical-align: middle;\n",
       "    }\n",
       "\n",
       "    .dataframe tbody tr th {\n",
       "        vertical-align: top;\n",
       "    }\n",
       "\n",
       "    .dataframe thead th {\n",
       "        text-align: right;\n",
       "    }\n",
       "</style>\n",
       "<table border=\"1\" class=\"dataframe\">\n",
       "  <thead>\n",
       "    <tr style=\"text-align: right;\">\n",
       "      <th></th>\n",
       "      <th>department</th>\n",
       "      <th>region</th>\n",
       "      <th>education</th>\n",
       "      <th>gender</th>\n",
       "      <th>recruitment_channel</th>\n",
       "      <th>no_of_trainings</th>\n",
       "      <th>age</th>\n",
       "      <th>previous_year_rating</th>\n",
       "      <th>length_of_service</th>\n",
       "      <th>KPIs_met &gt;80%</th>\n",
       "      <th>awards_won?</th>\n",
       "      <th>avg_training_score</th>\n",
       "      <th>is_promoted</th>\n",
       "    </tr>\n",
       "  </thead>\n",
       "  <tbody>\n",
       "    <tr>\n",
       "      <th>0</th>\n",
       "      <td>7</td>\n",
       "      <td>31</td>\n",
       "      <td>2</td>\n",
       "      <td>0</td>\n",
       "      <td>2</td>\n",
       "      <td>1</td>\n",
       "      <td>35.0</td>\n",
       "      <td>5.0</td>\n",
       "      <td>8</td>\n",
       "      <td>1</td>\n",
       "      <td>0</td>\n",
       "      <td>49</td>\n",
       "      <td>0</td>\n",
       "    </tr>\n",
       "    <tr>\n",
       "      <th>1</th>\n",
       "      <td>4</td>\n",
       "      <td>14</td>\n",
       "      <td>0</td>\n",
       "      <td>1</td>\n",
       "      <td>0</td>\n",
       "      <td>1</td>\n",
       "      <td>30.0</td>\n",
       "      <td>5.0</td>\n",
       "      <td>4</td>\n",
       "      <td>0</td>\n",
       "      <td>0</td>\n",
       "      <td>60</td>\n",
       "      <td>0</td>\n",
       "    </tr>\n",
       "  </tbody>\n",
       "</table>\n",
       "</div>"
      ],
      "text/plain": [
       "   department  region  education  gender  recruitment_channel  \\\n",
       "0           7      31          2       0                    2   \n",
       "1           4      14          0       1                    0   \n",
       "\n",
       "   no_of_trainings   age  previous_year_rating  length_of_service  \\\n",
       "0                1  35.0                   5.0                  8   \n",
       "1                1  30.0                   5.0                  4   \n",
       "\n",
       "   KPIs_met >80%  awards_won?  avg_training_score  is_promoted  \n",
       "0              1            0                  49            0  \n",
       "1              0            0                  60            0  "
      ]
     },
     "execution_count": 90,
     "metadata": {},
     "output_type": "execute_result"
    }
   ],
   "source": [
    "data.head(2)"
   ]
  },
  {
   "cell_type": "code",
   "execution_count": 91,
   "id": "acbba5cd",
   "metadata": {},
   "outputs": [
    {
     "data": {
      "text/html": [
       "<div>\n",
       "<style scoped>\n",
       "    .dataframe tbody tr th:only-of-type {\n",
       "        vertical-align: middle;\n",
       "    }\n",
       "\n",
       "    .dataframe tbody tr th {\n",
       "        vertical-align: top;\n",
       "    }\n",
       "\n",
       "    .dataframe thead th {\n",
       "        text-align: right;\n",
       "    }\n",
       "</style>\n",
       "<table border=\"1\" class=\"dataframe\">\n",
       "  <thead>\n",
       "    <tr style=\"text-align: right;\">\n",
       "      <th></th>\n",
       "      <th>department</th>\n",
       "      <th>region</th>\n",
       "      <th>education</th>\n",
       "      <th>gender</th>\n",
       "      <th>recruitment_channel</th>\n",
       "      <th>no_of_trainings</th>\n",
       "      <th>age</th>\n",
       "      <th>previous_year_rating</th>\n",
       "      <th>length_of_service</th>\n",
       "      <th>KPIs_met &gt;80%</th>\n",
       "      <th>awards_won?</th>\n",
       "      <th>avg_training_score</th>\n",
       "    </tr>\n",
       "  </thead>\n",
       "  <tbody>\n",
       "    <tr>\n",
       "      <th>0</th>\n",
       "      <td>8</td>\n",
       "      <td>18</td>\n",
       "      <td>2</td>\n",
       "      <td>1</td>\n",
       "      <td>2</td>\n",
       "      <td>1</td>\n",
       "      <td>24</td>\n",
       "      <td>5.0</td>\n",
       "      <td>1</td>\n",
       "      <td>1</td>\n",
       "      <td>0</td>\n",
       "      <td>77</td>\n",
       "    </tr>\n",
       "    <tr>\n",
       "      <th>1</th>\n",
       "      <td>2</td>\n",
       "      <td>28</td>\n",
       "      <td>0</td>\n",
       "      <td>0</td>\n",
       "      <td>0</td>\n",
       "      <td>1</td>\n",
       "      <td>31</td>\n",
       "      <td>5.0</td>\n",
       "      <td>5</td>\n",
       "      <td>0</td>\n",
       "      <td>0</td>\n",
       "      <td>51</td>\n",
       "    </tr>\n",
       "  </tbody>\n",
       "</table>\n",
       "</div>"
      ],
      "text/plain": [
       "   department  region  education  gender  recruitment_channel  \\\n",
       "0           8      18          2       1                    2   \n",
       "1           2      28          0       0                    0   \n",
       "\n",
       "   no_of_trainings  age  previous_year_rating  length_of_service  \\\n",
       "0                1   24                   5.0                  1   \n",
       "1                1   31                   5.0                  5   \n",
       "\n",
       "   KPIs_met >80%  awards_won?  avg_training_score  \n",
       "0              1            0                  77  \n",
       "1              0            0                  51  "
      ]
     },
     "execution_count": 91,
     "metadata": {},
     "output_type": "execute_result"
    }
   ],
   "source": [
    "tdata.head(2)"
   ]
  },
  {
   "cell_type": "code",
   "execution_count": 92,
   "id": "a23da0d5",
   "metadata": {},
   "outputs": [],
   "source": [
    "d_x=data.iloc[:,0:-1]\n",
    "d_y=data.iloc[:,-1]\n",
    "test_x=tdata.iloc[:,0:]"
   ]
  },
  {
   "cell_type": "code",
   "execution_count": 93,
   "id": "39df44a0",
   "metadata": {},
   "outputs": [],
   "source": [
    "from sklearn.linear_model import LogisticRegression\n",
    "lg=LogisticRegression()"
   ]
  },
  {
   "cell_type": "code",
   "execution_count": 94,
   "id": "123f48fc",
   "metadata": {},
   "outputs": [
    {
     "data": {
      "text/plain": [
       "LogisticRegression()"
      ]
     },
     "execution_count": 94,
     "metadata": {},
     "output_type": "execute_result"
    }
   ],
   "source": [
    "lg.fit(d_x,d_y)"
   ]
  },
  {
   "cell_type": "code",
   "execution_count": 95,
   "id": "1bbf31ac",
   "metadata": {},
   "outputs": [
    {
     "data": {
      "text/plain": [
       "array([0, 0, 0, ..., 0, 0, 0], dtype=int64)"
      ]
     },
     "execution_count": 95,
     "metadata": {},
     "output_type": "execute_result"
    }
   ],
   "source": [
    "p1=lg.predict(test_x)\n",
    "p1"
   ]
  },
  {
   "cell_type": "code",
   "execution_count": 96,
   "id": "9ad5df3b",
   "metadata": {},
   "outputs": [
    {
     "data": {
      "text/plain": [
       "array([[0.56416856, 0.43583144],\n",
       "       [0.96862358, 0.03137642],\n",
       "       [0.96830254, 0.03169746],\n",
       "       ...,\n",
       "       [0.93417918, 0.06582082],\n",
       "       [0.98878357, 0.01121643],\n",
       "       [0.9295713 , 0.0704287 ]])"
      ]
     },
     "execution_count": 96,
     "metadata": {},
     "output_type": "execute_result"
    }
   ],
   "source": [
    "p2=lg.predict_proba(test_x)\n",
    "p2"
   ]
  },
  {
   "cell_type": "code",
   "execution_count": 97,
   "id": "178e20e2",
   "metadata": {},
   "outputs": [
    {
     "data": {
      "text/html": [
       "<div>\n",
       "<style scoped>\n",
       "    .dataframe tbody tr th:only-of-type {\n",
       "        vertical-align: middle;\n",
       "    }\n",
       "\n",
       "    .dataframe tbody tr th {\n",
       "        vertical-align: top;\n",
       "    }\n",
       "\n",
       "    .dataframe thead th {\n",
       "        text-align: right;\n",
       "    }\n",
       "</style>\n",
       "<table border=\"1\" class=\"dataframe\">\n",
       "  <thead>\n",
       "    <tr style=\"text-align: right;\">\n",
       "      <th></th>\n",
       "      <th>is_promoted</th>\n",
       "    </tr>\n",
       "  </thead>\n",
       "  <tbody>\n",
       "    <tr>\n",
       "      <th>0</th>\n",
       "      <td>0</td>\n",
       "    </tr>\n",
       "    <tr>\n",
       "      <th>1</th>\n",
       "      <td>0</td>\n",
       "    </tr>\n",
       "    <tr>\n",
       "      <th>2</th>\n",
       "      <td>0</td>\n",
       "    </tr>\n",
       "    <tr>\n",
       "      <th>3</th>\n",
       "      <td>0</td>\n",
       "    </tr>\n",
       "    <tr>\n",
       "      <th>4</th>\n",
       "      <td>0</td>\n",
       "    </tr>\n",
       "    <tr>\n",
       "      <th>...</th>\n",
       "      <td>...</td>\n",
       "    </tr>\n",
       "    <tr>\n",
       "      <th>23485</th>\n",
       "      <td>0</td>\n",
       "    </tr>\n",
       "    <tr>\n",
       "      <th>23486</th>\n",
       "      <td>0</td>\n",
       "    </tr>\n",
       "    <tr>\n",
       "      <th>23487</th>\n",
       "      <td>0</td>\n",
       "    </tr>\n",
       "    <tr>\n",
       "      <th>23488</th>\n",
       "      <td>0</td>\n",
       "    </tr>\n",
       "    <tr>\n",
       "      <th>23489</th>\n",
       "      <td>0</td>\n",
       "    </tr>\n",
       "  </tbody>\n",
       "</table>\n",
       "<p>23490 rows × 1 columns</p>\n",
       "</div>"
      ],
      "text/plain": [
       "       is_promoted\n",
       "0                0\n",
       "1                0\n",
       "2                0\n",
       "3                0\n",
       "4                0\n",
       "...            ...\n",
       "23485            0\n",
       "23486            0\n",
       "23487            0\n",
       "23488            0\n",
       "23489            0\n",
       "\n",
       "[23490 rows x 1 columns]"
      ]
     },
     "execution_count": 97,
     "metadata": {},
     "output_type": "execute_result"
    }
   ],
   "source": [
    "df1=pd.DataFrame(p1,columns=[\"is_promoted\"])\n",
    "df1"
   ]
  },
  {
   "cell_type": "code",
   "execution_count": 98,
   "id": "4cd64d15",
   "metadata": {},
   "outputs": [
    {
     "data": {
      "text/html": [
       "<div>\n",
       "<style scoped>\n",
       "    .dataframe tbody tr th:only-of-type {\n",
       "        vertical-align: middle;\n",
       "    }\n",
       "\n",
       "    .dataframe tbody tr th {\n",
       "        vertical-align: top;\n",
       "    }\n",
       "\n",
       "    .dataframe thead th {\n",
       "        text-align: right;\n",
       "    }\n",
       "</style>\n",
       "<table border=\"1\" class=\"dataframe\">\n",
       "  <thead>\n",
       "    <tr style=\"text-align: right;\">\n",
       "      <th></th>\n",
       "      <th>employee_id</th>\n",
       "    </tr>\n",
       "  </thead>\n",
       "  <tbody>\n",
       "    <tr>\n",
       "      <th>0</th>\n",
       "      <td>8724</td>\n",
       "    </tr>\n",
       "    <tr>\n",
       "      <th>1</th>\n",
       "      <td>74430</td>\n",
       "    </tr>\n",
       "    <tr>\n",
       "      <th>2</th>\n",
       "      <td>72255</td>\n",
       "    </tr>\n",
       "    <tr>\n",
       "      <th>3</th>\n",
       "      <td>38562</td>\n",
       "    </tr>\n",
       "    <tr>\n",
       "      <th>4</th>\n",
       "      <td>64486</td>\n",
       "    </tr>\n",
       "    <tr>\n",
       "      <th>...</th>\n",
       "      <td>...</td>\n",
       "    </tr>\n",
       "    <tr>\n",
       "      <th>23485</th>\n",
       "      <td>53478</td>\n",
       "    </tr>\n",
       "    <tr>\n",
       "      <th>23486</th>\n",
       "      <td>25600</td>\n",
       "    </tr>\n",
       "    <tr>\n",
       "      <th>23487</th>\n",
       "      <td>45409</td>\n",
       "    </tr>\n",
       "    <tr>\n",
       "      <th>23488</th>\n",
       "      <td>1186</td>\n",
       "    </tr>\n",
       "    <tr>\n",
       "      <th>23489</th>\n",
       "      <td>5973</td>\n",
       "    </tr>\n",
       "  </tbody>\n",
       "</table>\n",
       "<p>23490 rows × 1 columns</p>\n",
       "</div>"
      ],
      "text/plain": [
       "       employee_id\n",
       "0             8724\n",
       "1            74430\n",
       "2            72255\n",
       "3            38562\n",
       "4            64486\n",
       "...            ...\n",
       "23485        53478\n",
       "23486        25600\n",
       "23487        45409\n",
       "23488         1186\n",
       "23489         5973\n",
       "\n",
       "[23490 rows x 1 columns]"
      ]
     },
     "execution_count": 98,
     "metadata": {},
     "output_type": "execute_result"
    }
   ],
   "source": [
    "df2=pd.DataFrame(te_id)\n",
    "df2"
   ]
  },
  {
   "cell_type": "code",
   "execution_count": 99,
   "id": "e8664fc5",
   "metadata": {},
   "outputs": [
    {
     "data": {
      "text/html": [
       "<div>\n",
       "<style scoped>\n",
       "    .dataframe tbody tr th:only-of-type {\n",
       "        vertical-align: middle;\n",
       "    }\n",
       "\n",
       "    .dataframe tbody tr th {\n",
       "        vertical-align: top;\n",
       "    }\n",
       "\n",
       "    .dataframe thead th {\n",
       "        text-align: right;\n",
       "    }\n",
       "</style>\n",
       "<table border=\"1\" class=\"dataframe\">\n",
       "  <thead>\n",
       "    <tr style=\"text-align: right;\">\n",
       "      <th></th>\n",
       "      <th>employee_id</th>\n",
       "      <th>is_promoted</th>\n",
       "    </tr>\n",
       "  </thead>\n",
       "  <tbody>\n",
       "    <tr>\n",
       "      <th>0</th>\n",
       "      <td>8724</td>\n",
       "      <td>0</td>\n",
       "    </tr>\n",
       "    <tr>\n",
       "      <th>1</th>\n",
       "      <td>74430</td>\n",
       "      <td>0</td>\n",
       "    </tr>\n",
       "    <tr>\n",
       "      <th>2</th>\n",
       "      <td>72255</td>\n",
       "      <td>0</td>\n",
       "    </tr>\n",
       "    <tr>\n",
       "      <th>3</th>\n",
       "      <td>38562</td>\n",
       "      <td>0</td>\n",
       "    </tr>\n",
       "    <tr>\n",
       "      <th>4</th>\n",
       "      <td>64486</td>\n",
       "      <td>0</td>\n",
       "    </tr>\n",
       "    <tr>\n",
       "      <th>...</th>\n",
       "      <td>...</td>\n",
       "      <td>...</td>\n",
       "    </tr>\n",
       "    <tr>\n",
       "      <th>23485</th>\n",
       "      <td>53478</td>\n",
       "      <td>0</td>\n",
       "    </tr>\n",
       "    <tr>\n",
       "      <th>23486</th>\n",
       "      <td>25600</td>\n",
       "      <td>0</td>\n",
       "    </tr>\n",
       "    <tr>\n",
       "      <th>23487</th>\n",
       "      <td>45409</td>\n",
       "      <td>0</td>\n",
       "    </tr>\n",
       "    <tr>\n",
       "      <th>23488</th>\n",
       "      <td>1186</td>\n",
       "      <td>0</td>\n",
       "    </tr>\n",
       "    <tr>\n",
       "      <th>23489</th>\n",
       "      <td>5973</td>\n",
       "      <td>0</td>\n",
       "    </tr>\n",
       "  </tbody>\n",
       "</table>\n",
       "<p>23490 rows × 2 columns</p>\n",
       "</div>"
      ],
      "text/plain": [
       "       employee_id  is_promoted\n",
       "0             8724            0\n",
       "1            74430            0\n",
       "2            72255            0\n",
       "3            38562            0\n",
       "4            64486            0\n",
       "...            ...          ...\n",
       "23485        53478            0\n",
       "23486        25600            0\n",
       "23487        45409            0\n",
       "23488         1186            0\n",
       "23489         5973            0\n",
       "\n",
       "[23490 rows x 2 columns]"
      ]
     },
     "execution_count": 99,
     "metadata": {},
     "output_type": "execute_result"
    }
   ],
   "source": [
    "result=pd.concat([df2,df1],axis=1)\n",
    "result"
   ]
  },
  {
   "cell_type": "code",
   "execution_count": 100,
   "id": "0e99bb67",
   "metadata": {},
   "outputs": [],
   "source": [
    "result.to_csv(r\"C:\\Users\\admin\\Desktop\\dataset\\Final_HR.csv \",index=False)"
   ]
  },
  {
   "cell_type": "markdown",
   "id": "0bc1ff3a",
   "metadata": {},
   "source": [
    "# Model on only train data to check performance"
   ]
  },
  {
   "cell_type": "code",
   "execution_count": 101,
   "id": "2d5c65d4",
   "metadata": {},
   "outputs": [],
   "source": [
    "from sklearn.model_selection import train_test_split"
   ]
  },
  {
   "cell_type": "code",
   "execution_count": 102,
   "id": "2d2d5518",
   "metadata": {},
   "outputs": [],
   "source": [
    "x_tr,x_te,y_tr,y_te=train_test_split(d_x,d_y,test_size=0.2,random_state=100)"
   ]
  },
  {
   "cell_type": "code",
   "execution_count": 103,
   "id": "cb6b6426",
   "metadata": {},
   "outputs": [
    {
     "data": {
      "text/plain": [
       "((43846, 12), (10962, 12), (43846,), (10962,))"
      ]
     },
     "execution_count": 103,
     "metadata": {},
     "output_type": "execute_result"
    }
   ],
   "source": [
    "x_tr.shape,x_te.shape,y_tr.shape,y_te.shape"
   ]
  },
  {
   "cell_type": "markdown",
   "id": "a5fd7b4f",
   "metadata": {},
   "source": [
    "# Logistic Regression"
   ]
  },
  {
   "cell_type": "code",
   "execution_count": 104,
   "id": "1d2cf841",
   "metadata": {},
   "outputs": [
    {
     "data": {
      "text/plain": [
       "LogisticRegression()"
      ]
     },
     "execution_count": 104,
     "metadata": {},
     "output_type": "execute_result"
    }
   ],
   "source": [
    "lg.fit(x_tr,y_tr)"
   ]
  },
  {
   "cell_type": "code",
   "execution_count": 105,
   "id": "bdc86670",
   "metadata": {},
   "outputs": [],
   "source": [
    "lg_p1=lg.predict(x_te)"
   ]
  },
  {
   "cell_type": "code",
   "execution_count": 106,
   "id": "79a1ee86",
   "metadata": {},
   "outputs": [],
   "source": [
    "from sklearn.metrics import confusion_matrix\n",
    "from sklearn.metrics import classification_report"
   ]
  },
  {
   "cell_type": "code",
   "execution_count": 107,
   "id": "abe30a08",
   "metadata": {},
   "outputs": [
    {
     "data": {
      "text/plain": [
       "array([[9904,  918],\n",
       "       [  84,   56]], dtype=int64)"
      ]
     },
     "execution_count": 107,
     "metadata": {},
     "output_type": "execute_result"
    }
   ],
   "source": [
    "cf1=confusion_matrix(lg_p1,y_te)\n",
    "cf1"
   ]
  },
  {
   "cell_type": "code",
   "execution_count": 108,
   "id": "2a4b5dfe",
   "metadata": {},
   "outputs": [
    {
     "data": {
      "text/plain": [
       "90.8593322386426"
      ]
     },
     "execution_count": 108,
     "metadata": {},
     "output_type": "execute_result"
    }
   ],
   "source": [
    "acc1=cf1.diagonal().sum()/cf1.sum()*100\n",
    "acc1"
   ]
  },
  {
   "cell_type": "code",
   "execution_count": 109,
   "id": "657984f9",
   "metadata": {},
   "outputs": [
    {
     "name": "stdout",
     "output_type": "stream",
     "text": [
      "              precision    recall  f1-score   support\n",
      "\n",
      "           0       0.99      0.92      0.95     10822\n",
      "           1       0.06      0.40      0.10       140\n",
      "\n",
      "    accuracy                           0.91     10962\n",
      "   macro avg       0.52      0.66      0.53     10962\n",
      "weighted avg       0.98      0.91      0.94     10962\n",
      "\n"
     ]
    }
   ],
   "source": [
    "print(classification_report(lg_p1,y_te))"
   ]
  },
  {
   "cell_type": "markdown",
   "id": "fa59903a",
   "metadata": {},
   "source": [
    "# decision tree"
   ]
  },
  {
   "cell_type": "code",
   "execution_count": 110,
   "id": "b4ab3c0a",
   "metadata": {},
   "outputs": [],
   "source": [
    "from sklearn.tree import DecisionTreeClassifier\n",
    "dt=DecisionTreeClassifier()"
   ]
  },
  {
   "cell_type": "code",
   "execution_count": 111,
   "id": "73416621",
   "metadata": {},
   "outputs": [
    {
     "data": {
      "text/plain": [
       "DecisionTreeClassifier()"
      ]
     },
     "execution_count": 111,
     "metadata": {},
     "output_type": "execute_result"
    }
   ],
   "source": [
    "dt.fit(x_tr,y_tr)"
   ]
  },
  {
   "cell_type": "code",
   "execution_count": 112,
   "id": "1cb358f8",
   "metadata": {},
   "outputs": [],
   "source": [
    "dt_p=dt.predict(x_te)"
   ]
  },
  {
   "cell_type": "code",
   "execution_count": 113,
   "id": "0a574699",
   "metadata": {},
   "outputs": [
    {
     "data": {
      "text/plain": [
       "array([[9357,  529],\n",
       "       [ 631,  445]], dtype=int64)"
      ]
     },
     "execution_count": 113,
     "metadata": {},
     "output_type": "execute_result"
    }
   ],
   "source": [
    "dt_cf=confusion_matrix(dt_p,y_te)\n",
    "dt_cf"
   ]
  },
  {
   "cell_type": "code",
   "execution_count": 114,
   "id": "b7e34a0c",
   "metadata": {},
   "outputs": [
    {
     "data": {
      "text/plain": [
       "89.41798941798942"
      ]
     },
     "execution_count": 114,
     "metadata": {},
     "output_type": "execute_result"
    }
   ],
   "source": [
    "dt_acc1=dt_cf.diagonal().sum()/dt_cf.sum()*100\n",
    "dt_acc1"
   ]
  },
  {
   "cell_type": "code",
   "execution_count": 115,
   "id": "8445a732",
   "metadata": {},
   "outputs": [
    {
     "data": {
      "text/plain": [
       "array([0.14564507, 0.10558407, 0.0275347 , 0.0288872 , 0.03462302,\n",
       "       0.02674642, 0.1319059 , 0.05381189, 0.08461611, 0.04207881,\n",
       "       0.02412912, 0.29443769])"
      ]
     },
     "execution_count": 115,
     "metadata": {},
     "output_type": "execute_result"
    }
   ],
   "source": [
    "dt.feature_importances_"
   ]
  },
  {
   "cell_type": "code",
   "execution_count": 116,
   "id": "d5a9bc16",
   "metadata": {},
   "outputs": [
    {
     "name": "stdout",
     "output_type": "stream",
     "text": [
      "              precision    recall  f1-score   support\n",
      "\n",
      "           0       0.94      0.95      0.94      9886\n",
      "           1       0.46      0.41      0.43      1076\n",
      "\n",
      "    accuracy                           0.89     10962\n",
      "   macro avg       0.70      0.68      0.69     10962\n",
      "weighted avg       0.89      0.89      0.89     10962\n",
      "\n"
     ]
    }
   ],
   "source": [
    "print(classification_report(dt_p,y_te))"
   ]
  },
  {
   "cell_type": "markdown",
   "id": "ea28edeb",
   "metadata": {},
   "source": [
    "# random forest"
   ]
  },
  {
   "cell_type": "code",
   "execution_count": 117,
   "id": "e0ff9c00",
   "metadata": {},
   "outputs": [],
   "source": [
    "from sklearn.ensemble import RandomForestClassifier\n",
    "rf=RandomForestClassifier()"
   ]
  },
  {
   "cell_type": "code",
   "execution_count": 118,
   "id": "6df55ca3",
   "metadata": {},
   "outputs": [
    {
     "data": {
      "text/plain": [
       "RandomForestClassifier()"
      ]
     },
     "execution_count": 118,
     "metadata": {},
     "output_type": "execute_result"
    }
   ],
   "source": [
    "rf.fit(x_tr,y_tr)"
   ]
  },
  {
   "cell_type": "code",
   "execution_count": 119,
   "id": "45efb174",
   "metadata": {},
   "outputs": [],
   "source": [
    "rf_p=rf.predict(x_te)"
   ]
  },
  {
   "cell_type": "code",
   "execution_count": 120,
   "id": "9a17299e",
   "metadata": {},
   "outputs": [
    {
     "data": {
      "text/plain": [
       "array([[9938,  695],\n",
       "       [  50,  279]], dtype=int64)"
      ]
     },
     "execution_count": 120,
     "metadata": {},
     "output_type": "execute_result"
    }
   ],
   "source": [
    "cf=confusion_matrix(rf_p,y_te)\n",
    "cf"
   ]
  },
  {
   "cell_type": "code",
   "execution_count": 121,
   "id": "ef35a681",
   "metadata": {},
   "outputs": [],
   "source": [
    "rf_acc=cf.diagonal().sum()/cf.sum()*100"
   ]
  },
  {
   "cell_type": "code",
   "execution_count": 122,
   "id": "86037e1f",
   "metadata": {},
   "outputs": [
    {
     "data": {
      "text/plain": [
       "93.20379492793286"
      ]
     },
     "execution_count": 122,
     "metadata": {},
     "output_type": "execute_result"
    }
   ],
   "source": [
    "rf_acc"
   ]
  },
  {
   "cell_type": "code",
   "execution_count": 123,
   "id": "c6929c92",
   "metadata": {},
   "outputs": [
    {
     "name": "stdout",
     "output_type": "stream",
     "text": [
      "              precision    recall  f1-score   support\n",
      "\n",
      "           0       0.99      0.93      0.96     10633\n",
      "           1       0.29      0.85      0.43       329\n",
      "\n",
      "    accuracy                           0.93     10962\n",
      "   macro avg       0.64      0.89      0.70     10962\n",
      "weighted avg       0.97      0.93      0.95     10962\n",
      "\n"
     ]
    }
   ],
   "source": [
    "print(classification_report(rf_p,y_te))"
   ]
  },
  {
   "cell_type": "markdown",
   "id": "3cd72270",
   "metadata": {},
   "source": [
    "# knn"
   ]
  },
  {
   "cell_type": "code",
   "execution_count": 124,
   "id": "253435de",
   "metadata": {},
   "outputs": [],
   "source": [
    "from sklearn.neighbors import KNeighborsClassifier\n",
    "knn=KNeighborsClassifier(n_neighbors=17)"
   ]
  },
  {
   "cell_type": "code",
   "execution_count": 125,
   "id": "a750c497",
   "metadata": {},
   "outputs": [
    {
     "data": {
      "text/plain": [
       "KNeighborsClassifier(n_neighbors=17)"
      ]
     },
     "execution_count": 125,
     "metadata": {},
     "output_type": "execute_result"
    }
   ],
   "source": [
    "knn.fit(x_tr,y_tr)"
   ]
  },
  {
   "cell_type": "code",
   "execution_count": 126,
   "id": "cdd2803a",
   "metadata": {},
   "outputs": [],
   "source": [
    "k_p=knn.predict(x_te)"
   ]
  },
  {
   "cell_type": "code",
   "execution_count": 127,
   "id": "bc76daf7",
   "metadata": {},
   "outputs": [
    {
     "data": {
      "text/plain": [
       "array([[9977,  857],\n",
       "       [  11,  117]], dtype=int64)"
      ]
     },
     "execution_count": 127,
     "metadata": {},
     "output_type": "execute_result"
    }
   ],
   "source": [
    "ck=confusion_matrix(k_p,y_te)\n",
    "ck"
   ]
  },
  {
   "cell_type": "code",
   "execution_count": 128,
   "id": "fa172582",
   "metadata": {},
   "outputs": [],
   "source": [
    "kacc=ck.diagonal().sum()/ck.sum()*100"
   ]
  },
  {
   "cell_type": "code",
   "execution_count": 129,
   "id": "4fd549e2",
   "metadata": {},
   "outputs": [
    {
     "data": {
      "text/plain": [
       "92.08173690932313"
      ]
     },
     "execution_count": 129,
     "metadata": {},
     "output_type": "execute_result"
    }
   ],
   "source": [
    "kacc"
   ]
  },
  {
   "cell_type": "code",
   "execution_count": 130,
   "id": "93887eff",
   "metadata": {},
   "outputs": [
    {
     "name": "stdout",
     "output_type": "stream",
     "text": [
      "              precision    recall  f1-score   support\n",
      "\n",
      "           0       1.00      0.92      0.96     10834\n",
      "           1       0.12      0.91      0.21       128\n",
      "\n",
      "    accuracy                           0.92     10962\n",
      "   macro avg       0.56      0.92      0.59     10962\n",
      "weighted avg       0.99      0.92      0.95     10962\n",
      "\n"
     ]
    }
   ],
   "source": [
    "print(classification_report(k_p,y_te))"
   ]
  },
  {
   "cell_type": "code",
   "execution_count": 131,
   "id": "2f0bdf85",
   "metadata": {},
   "outputs": [],
   "source": [
    "lst=list()"
   ]
  },
  {
   "cell_type": "raw",
   "id": "6bc874b1",
   "metadata": {},
   "source": [
    "for i in range (5,30):\n",
    "    knn=KNeighborsClassifier(n_neighbors=i)\n",
    "    knn.fit(x_tr,y_tr)\n",
    "    kn_pred=knn.predict(x_te)\n",
    "    cf_k=confusion_matrix(kn_pred,y_te)\n",
    "    acckn=cf_k.diagonal().sum()/cf_k.sum()*100\n",
    "    lst.append(acckn)"
   ]
  },
  {
   "cell_type": "raw",
   "id": "fbeea21b",
   "metadata": {},
   "source": [
    "import matplotlib.pyplot as plt\n",
    "p=plt.plot(lst)"
   ]
  },
  {
   "cell_type": "markdown",
   "id": "bd039c11",
   "metadata": {},
   "source": [
    "# svc"
   ]
  },
  {
   "cell_type": "code",
   "execution_count": 132,
   "id": "fd0c3e37",
   "metadata": {},
   "outputs": [],
   "source": [
    "from sklearn.svm import SVC\n",
    "svc=SVC()"
   ]
  },
  {
   "cell_type": "code",
   "execution_count": 133,
   "id": "701d8575",
   "metadata": {},
   "outputs": [
    {
     "data": {
      "text/plain": [
       "SVC()"
      ]
     },
     "execution_count": 133,
     "metadata": {},
     "output_type": "execute_result"
    }
   ],
   "source": [
    "svc.fit(x_tr,y_tr)"
   ]
  },
  {
   "cell_type": "code",
   "execution_count": 134,
   "id": "6091dfb1",
   "metadata": {},
   "outputs": [
    {
     "data": {
      "text/plain": [
       "array([0, 0, 0, ..., 0, 0, 0], dtype=int64)"
      ]
     },
     "execution_count": 134,
     "metadata": {},
     "output_type": "execute_result"
    }
   ],
   "source": [
    "s_p=svc.predict(x_te)\n",
    "s_p"
   ]
  },
  {
   "cell_type": "code",
   "execution_count": 135,
   "id": "11384ddf",
   "metadata": {},
   "outputs": [
    {
     "data": {
      "text/plain": [
       "array([[9988,  974],\n",
       "       [   0,    0]], dtype=int64)"
      ]
     },
     "execution_count": 135,
     "metadata": {},
     "output_type": "execute_result"
    }
   ],
   "source": [
    "cs=confusion_matrix(s_p,y_te)\n",
    "cs"
   ]
  },
  {
   "cell_type": "code",
   "execution_count": 136,
   "id": "6d1d94f5",
   "metadata": {},
   "outputs": [
    {
     "data": {
      "text/plain": [
       "91.11476008027732"
      ]
     },
     "execution_count": 136,
     "metadata": {},
     "output_type": "execute_result"
    }
   ],
   "source": [
    "acc_s=cs.diagonal().sum()/cs.sum()*100\n",
    "acc_s"
   ]
  },
  {
   "cell_type": "code",
   "execution_count": 137,
   "id": "e81c2302",
   "metadata": {},
   "outputs": [
    {
     "name": "stdout",
     "output_type": "stream",
     "text": [
      "              precision    recall  f1-score   support\n",
      "\n",
      "           0       1.00      0.91      0.95     10962\n",
      "           1       0.00      0.00      0.00         0\n",
      "\n",
      "    accuracy                           0.91     10962\n",
      "   macro avg       0.50      0.46      0.48     10962\n",
      "weighted avg       1.00      0.91      0.95     10962\n",
      "\n"
     ]
    }
   ],
   "source": [
    "print(classification_report(s_p,y_te))"
   ]
  },
  {
   "cell_type": "markdown",
   "id": "15002e26",
   "metadata": {},
   "source": [
    "# adaboost"
   ]
  },
  {
   "cell_type": "code",
   "execution_count": 138,
   "id": "f2ffba11",
   "metadata": {},
   "outputs": [],
   "source": [
    "from sklearn.ensemble import AdaBoostClassifier\n",
    "from sklearn.tree import DecisionTreeClassifier"
   ]
  },
  {
   "cell_type": "code",
   "execution_count": 139,
   "id": "71b7f96b",
   "metadata": {},
   "outputs": [],
   "source": [
    "adbo=AdaBoostClassifier(DecisionTreeClassifier(),n_estimators=5)"
   ]
  },
  {
   "cell_type": "code",
   "execution_count": 140,
   "id": "d6827791",
   "metadata": {},
   "outputs": [
    {
     "data": {
      "text/plain": [
       "AdaBoostClassifier(base_estimator=DecisionTreeClassifier(), n_estimators=5)"
      ]
     },
     "execution_count": 140,
     "metadata": {},
     "output_type": "execute_result"
    }
   ],
   "source": [
    "adbo.fit(x_tr,y_tr)"
   ]
  },
  {
   "cell_type": "code",
   "execution_count": 141,
   "id": "47e67ed9",
   "metadata": {},
   "outputs": [
    {
     "data": {
      "text/plain": [
       "array([0, 0, 0, ..., 0, 1, 0], dtype=int64)"
      ]
     },
     "execution_count": 141,
     "metadata": {},
     "output_type": "execute_result"
    }
   ],
   "source": [
    "ad_p=adbo.predict(x_te)\n",
    "ad_p"
   ]
  },
  {
   "cell_type": "code",
   "execution_count": 142,
   "id": "cef365f4",
   "metadata": {},
   "outputs": [
    {
     "data": {
      "text/plain": [
       "array([[9614,  591],\n",
       "       [ 374,  383]], dtype=int64)"
      ]
     },
     "execution_count": 142,
     "metadata": {},
     "output_type": "execute_result"
    }
   ],
   "source": [
    "ad_cf=confusion_matrix(ad_p,y_te)\n",
    "ad_cf"
   ]
  },
  {
   "cell_type": "code",
   "execution_count": 143,
   "id": "8cc4b7bb",
   "metadata": {},
   "outputs": [
    {
     "data": {
      "text/plain": [
       "91.19686188651706"
      ]
     },
     "execution_count": 143,
     "metadata": {},
     "output_type": "execute_result"
    }
   ],
   "source": [
    "ad_acc=ad_cf.diagonal().sum()/ad_cf.sum()*100\n",
    "ad_acc"
   ]
  },
  {
   "cell_type": "code",
   "execution_count": 144,
   "id": "e93a0f99",
   "metadata": {},
   "outputs": [
    {
     "name": "stdout",
     "output_type": "stream",
     "text": [
      "              precision    recall  f1-score   support\n",
      "\n",
      "           0       0.96      0.94      0.95     10205\n",
      "           1       0.39      0.51      0.44       757\n",
      "\n",
      "    accuracy                           0.91     10962\n",
      "   macro avg       0.68      0.72      0.70     10962\n",
      "weighted avg       0.92      0.91      0.92     10962\n",
      "\n"
     ]
    }
   ],
   "source": [
    "print(classification_report(ad_p,y_te))"
   ]
  },
  {
   "cell_type": "markdown",
   "id": "020fbd30",
   "metadata": {},
   "source": [
    "# XGB CLASSIFIER"
   ]
  },
  {
   "cell_type": "code",
   "execution_count": 145,
   "id": "4e386650",
   "metadata": {},
   "outputs": [],
   "source": [
    "from xgboost import XGBRFClassifier\n",
    "xgb=XGBRFClassifier()"
   ]
  },
  {
   "cell_type": "code",
   "execution_count": 146,
   "id": "87c57459",
   "metadata": {},
   "outputs": [
    {
     "data": {
      "text/plain": [
       "XGBRFClassifier(base_score=None, booster=None, callbacks=None,\n",
       "                colsample_bylevel=None, colsample_bytree=None,\n",
       "                early_stopping_rounds=None, enable_categorical=False,\n",
       "                eval_metric=None, feature_types=None, gamma=None, gpu_id=None,\n",
       "                grow_policy=None, importance_type=None,\n",
       "                interaction_constraints=None, max_bin=None,\n",
       "                max_cat_threshold=None, max_cat_to_onehot=None,\n",
       "                max_delta_step=None, max_depth=None, max_leaves=None,\n",
       "                min_child_weight=None, missing=nan, monotone_constraints=None,\n",
       "                n_estimators=100, n_jobs=None, num_parallel_tree=None,\n",
       "                objective='binary:logistic', predictor=None, random_state=None,\n",
       "                reg_alpha=None, ...)"
      ]
     },
     "execution_count": 146,
     "metadata": {},
     "output_type": "execute_result"
    }
   ],
   "source": [
    "xgb.fit(x_tr,y_tr)"
   ]
  },
  {
   "cell_type": "code",
   "execution_count": 147,
   "id": "65e11ef2",
   "metadata": {},
   "outputs": [],
   "source": [
    "xgb_p=xgb.predict(x_te)"
   ]
  },
  {
   "cell_type": "code",
   "execution_count": 148,
   "id": "fff36d8d",
   "metadata": {},
   "outputs": [
    {
     "data": {
      "text/plain": [
       "0.9282944852438079"
      ]
     },
     "execution_count": 148,
     "metadata": {},
     "output_type": "execute_result"
    }
   ],
   "source": [
    "xgb_rsq=xgb.score(x_tr,y_tr)\n",
    "xgb_rsq"
   ]
  },
  {
   "cell_type": "code",
   "execution_count": 149,
   "id": "2b2a397c",
   "metadata": {},
   "outputs": [
    {
     "data": {
      "text/plain": [
       "0.9282944852438079"
      ]
     },
     "execution_count": 149,
     "metadata": {},
     "output_type": "execute_result"
    }
   ],
   "source": [
    "xgb_adr=xgb.score(x_tr,y_tr)\n",
    "xgb_adr"
   ]
  },
  {
   "cell_type": "markdown",
   "id": "19504177",
   "metadata": {},
   "source": [
    "# naive bayes"
   ]
  },
  {
   "cell_type": "code",
   "execution_count": 203,
   "id": "9e3947c4",
   "metadata": {},
   "outputs": [],
   "source": [
    "from sklearn.naive_bayes import MultinomialNB\n",
    "nb=MultinomialNB()"
   ]
  },
  {
   "cell_type": "code",
   "execution_count": 204,
   "id": "e060a048",
   "metadata": {},
   "outputs": [
    {
     "data": {
      "text/plain": [
       "MultinomialNB()"
      ]
     },
     "execution_count": 204,
     "metadata": {},
     "output_type": "execute_result"
    }
   ],
   "source": [
    "nb.fit(x_tr,y_tr)"
   ]
  },
  {
   "cell_type": "code",
   "execution_count": 205,
   "id": "494fa8d4",
   "metadata": {},
   "outputs": [],
   "source": [
    "n_p=nb.predict(x_te)\n",
    "#n_p"
   ]
  },
  {
   "cell_type": "code",
   "execution_count": 206,
   "id": "06c7d03e",
   "metadata": {},
   "outputs": [
    {
     "data": {
      "text/plain": [
       "array([[9754,  841],\n",
       "       [ 234,  133]], dtype=int64)"
      ]
     },
     "execution_count": 206,
     "metadata": {},
     "output_type": "execute_result"
    }
   ],
   "source": [
    "nc=confusion_matrix(n_p,y_te)\n",
    "nc"
   ]
  },
  {
   "cell_type": "code",
   "execution_count": 207,
   "id": "42ad8738",
   "metadata": {},
   "outputs": [
    {
     "data": {
      "text/plain": [
       "90.19339536580915"
      ]
     },
     "execution_count": 207,
     "metadata": {},
     "output_type": "execute_result"
    }
   ],
   "source": [
    "n_ac=nc.diagonal().sum()/nc.sum()*100\n",
    "n_ac"
   ]
  },
  {
   "cell_type": "code",
   "execution_count": 208,
   "id": "79a5c272",
   "metadata": {},
   "outputs": [
    {
     "name": "stdout",
     "output_type": "stream",
     "text": [
      "              precision    recall  f1-score   support\n",
      "\n",
      "           0       0.98      0.92      0.95     10595\n",
      "           1       0.14      0.36      0.20       367\n",
      "\n",
      "    accuracy                           0.90     10962\n",
      "   macro avg       0.56      0.64      0.57     10962\n",
      "weighted avg       0.95      0.90      0.92     10962\n",
      "\n"
     ]
    }
   ],
   "source": [
    "print(classification_report(n_p,y_te))"
   ]
  },
  {
   "cell_type": "markdown",
   "id": "2c201379",
   "metadata": {},
   "source": [
    "# class imbalance\n",
    "\n",
    "oversampling-increase record under\n",
    "undersampling-decrease record over\n",
    "\n",
    "1-800    oversampling\n",
    "0-200    undersampling\n",
    "\n",
    "random \n",
    "imblearn\n",
    "smote\n",
    "nearmiss \n"
   ]
  },
  {
   "cell_type": "markdown",
   "id": "4bf2b031",
   "metadata": {},
   "source": [
    "# 1.random undersampling"
   ]
  },
  {
   "cell_type": "code",
   "execution_count": 150,
   "id": "cae2ffb4",
   "metadata": {},
   "outputs": [
    {
     "data": {
      "text/plain": [
       "0    50140\n",
       "1     4668\n",
       "Name: is_promoted, dtype: int64"
      ]
     },
     "execution_count": 150,
     "metadata": {},
     "output_type": "execute_result"
    }
   ],
   "source": [
    "data.is_promoted.value_counts()"
   ]
  },
  {
   "cell_type": "code",
   "execution_count": 151,
   "id": "7b822731",
   "metadata": {},
   "outputs": [
    {
     "data": {
      "text/plain": [
       "(50140, 4668)"
      ]
     },
     "execution_count": 151,
     "metadata": {},
     "output_type": "execute_result"
    }
   ],
   "source": [
    "c_0,c_1=data[\"is_promoted\"].value_counts()\n",
    "c_0,c_1"
   ]
  },
  {
   "cell_type": "code",
   "execution_count": 152,
   "id": "27627357",
   "metadata": {},
   "outputs": [],
   "source": [
    "train_0=data[data[\"is_promoted\"]==0]\n",
    "train_1=data[data[\"is_promoted\"]==1]"
   ]
  },
  {
   "cell_type": "code",
   "execution_count": 153,
   "id": "5555ca68",
   "metadata": {},
   "outputs": [
    {
     "data": {
      "text/plain": [
       "((50140, 13), (4668, 13))"
      ]
     },
     "execution_count": 153,
     "metadata": {},
     "output_type": "execute_result"
    }
   ],
   "source": [
    "train_0.shape,train_1.shape"
   ]
  },
  {
   "cell_type": "code",
   "execution_count": 154,
   "id": "c701da0f",
   "metadata": {},
   "outputs": [],
   "source": [
    "class_0under=train_0.sample(c_1)"
   ]
  },
  {
   "cell_type": "code",
   "execution_count": 155,
   "id": "e5543af8",
   "metadata": {},
   "outputs": [
    {
     "data": {
      "text/html": [
       "<div>\n",
       "<style scoped>\n",
       "    .dataframe tbody tr th:only-of-type {\n",
       "        vertical-align: middle;\n",
       "    }\n",
       "\n",
       "    .dataframe tbody tr th {\n",
       "        vertical-align: top;\n",
       "    }\n",
       "\n",
       "    .dataframe thead th {\n",
       "        text-align: right;\n",
       "    }\n",
       "</style>\n",
       "<table border=\"1\" class=\"dataframe\">\n",
       "  <thead>\n",
       "    <tr style=\"text-align: right;\">\n",
       "      <th></th>\n",
       "      <th>department</th>\n",
       "      <th>region</th>\n",
       "      <th>education</th>\n",
       "      <th>gender</th>\n",
       "      <th>recruitment_channel</th>\n",
       "      <th>no_of_trainings</th>\n",
       "      <th>age</th>\n",
       "      <th>previous_year_rating</th>\n",
       "      <th>length_of_service</th>\n",
       "      <th>KPIs_met &gt;80%</th>\n",
       "      <th>awards_won?</th>\n",
       "      <th>avg_training_score</th>\n",
       "      <th>is_promoted</th>\n",
       "    </tr>\n",
       "  </thead>\n",
       "  <tbody>\n",
       "    <tr>\n",
       "      <th>40968</th>\n",
       "      <td>5</td>\n",
       "      <td>11</td>\n",
       "      <td>2</td>\n",
       "      <td>1</td>\n",
       "      <td>0</td>\n",
       "      <td>1</td>\n",
       "      <td>56.0</td>\n",
       "      <td>3.0</td>\n",
       "      <td>4</td>\n",
       "      <td>1</td>\n",
       "      <td>0</td>\n",
       "      <td>76</td>\n",
       "      <td>0</td>\n",
       "    </tr>\n",
       "  </tbody>\n",
       "</table>\n",
       "</div>"
      ],
      "text/plain": [
       "       department  region  education  gender  recruitment_channel  \\\n",
       "40968           5      11          2       1                    0   \n",
       "\n",
       "       no_of_trainings   age  previous_year_rating  length_of_service  \\\n",
       "40968                1  56.0                   3.0                  4   \n",
       "\n",
       "       KPIs_met >80%  awards_won?  avg_training_score  is_promoted  \n",
       "40968              1            0                  76            0  "
      ]
     },
     "execution_count": 155,
     "metadata": {},
     "output_type": "execute_result"
    }
   ],
   "source": [
    "class0_1=pd.concat([class_0under,train_1],axis=0)\n",
    "class0_1.head(1)"
   ]
  },
  {
   "cell_type": "code",
   "execution_count": 156,
   "id": "84b5b54e",
   "metadata": {},
   "outputs": [
    {
     "data": {
      "text/plain": [
       "0    4668\n",
       "1    4668\n",
       "Name: is_promoted, dtype: int64"
      ]
     },
     "execution_count": 156,
     "metadata": {},
     "output_type": "execute_result"
    }
   ],
   "source": [
    "class0_1.is_promoted.value_counts()"
   ]
  },
  {
   "cell_type": "code",
   "execution_count": 157,
   "id": "27455d11",
   "metadata": {},
   "outputs": [],
   "source": [
    "u_x=class0_1.iloc[:,0:-1]\n",
    "u_y=class0_1.iloc[:,-1]"
   ]
  },
  {
   "cell_type": "code",
   "execution_count": 158,
   "id": "86486311",
   "metadata": {},
   "outputs": [
    {
     "data": {
      "text/plain": [
       "((7468, 12), (1868, 12), (7468,), (1868,))"
      ]
     },
     "execution_count": 158,
     "metadata": {},
     "output_type": "execute_result"
    }
   ],
   "source": [
    "u_x_train,u_x_test,u_y_train,u_y_test=train_test_split(u_x,u_y,test_size=0.2,random_state=100)\n",
    "u_x_train.shape,u_x_test.shape,u_y_train.shape,u_y_test.shape"
   ]
  },
  {
   "cell_type": "markdown",
   "id": "b60f9946",
   "metadata": {},
   "source": [
    "# logistic regression with random undersampling"
   ]
  },
  {
   "cell_type": "code",
   "execution_count": 159,
   "id": "d84c6c36",
   "metadata": {},
   "outputs": [
    {
     "data": {
      "text/plain": [
       "LogisticRegression()"
      ]
     },
     "execution_count": 159,
     "metadata": {},
     "output_type": "execute_result"
    }
   ],
   "source": [
    "lg.fit(u_x_train,u_y_train)"
   ]
  },
  {
   "cell_type": "code",
   "execution_count": 160,
   "id": "65036652",
   "metadata": {},
   "outputs": [],
   "source": [
    "p1=lg.predict(u_x_test)"
   ]
  },
  {
   "cell_type": "code",
   "execution_count": 161,
   "id": "aa653e70",
   "metadata": {},
   "outputs": [
    {
     "data": {
      "text/plain": [
       "array([[687, 256],\n",
       "       [254, 671]], dtype=int64)"
      ]
     },
     "execution_count": 161,
     "metadata": {},
     "output_type": "execute_result"
    }
   ],
   "source": [
    "c1=confusion_matrix(p1,u_y_test)\n",
    "c1"
   ]
  },
  {
   "cell_type": "code",
   "execution_count": 162,
   "id": "fd176f33",
   "metadata": {},
   "outputs": [
    {
     "data": {
      "text/plain": [
       "72.69807280513919"
      ]
     },
     "execution_count": 162,
     "metadata": {},
     "output_type": "execute_result"
    }
   ],
   "source": [
    "a1=c1.diagonal().sum()/c1.sum()*100\n",
    "a1"
   ]
  },
  {
   "cell_type": "code",
   "execution_count": 163,
   "id": "3352b3b1",
   "metadata": {},
   "outputs": [
    {
     "name": "stdout",
     "output_type": "stream",
     "text": [
      "              precision    recall  f1-score   support\n",
      "\n",
      "           0       0.73      0.73      0.73       943\n",
      "           1       0.72      0.73      0.72       925\n",
      "\n",
      "    accuracy                           0.73      1868\n",
      "   macro avg       0.73      0.73      0.73      1868\n",
      "weighted avg       0.73      0.73      0.73      1868\n",
      "\n"
     ]
    }
   ],
   "source": [
    "print(classification_report(p1,u_y_test))"
   ]
  },
  {
   "cell_type": "markdown",
   "id": "7eea6a0b",
   "metadata": {},
   "source": [
    "# decision tree"
   ]
  },
  {
   "cell_type": "code",
   "execution_count": 164,
   "id": "c949e247",
   "metadata": {},
   "outputs": [],
   "source": [
    "dt_p=dt.predict(u_x_test)"
   ]
  },
  {
   "cell_type": "code",
   "execution_count": 166,
   "id": "abb964e9",
   "metadata": {},
   "outputs": [
    {
     "data": {
      "text/plain": [
       "array([[929, 112],\n",
       "       [ 12, 815]], dtype=int64)"
      ]
     },
     "execution_count": 166,
     "metadata": {},
     "output_type": "execute_result"
    }
   ],
   "source": [
    "dt_c=confusion_matrix(dt_p,u_y_test)\n",
    "dt_c"
   ]
  },
  {
   "cell_type": "code",
   "execution_count": 167,
   "id": "8e3e81cd",
   "metadata": {},
   "outputs": [
    {
     "data": {
      "text/plain": [
       "93.36188436830835"
      ]
     },
     "execution_count": 167,
     "metadata": {},
     "output_type": "execute_result"
    }
   ],
   "source": [
    "dt_ac=dt_c.diagonal().sum()/dt_c.sum()*100\n",
    "dt_ac"
   ]
  },
  {
   "cell_type": "code",
   "execution_count": 168,
   "id": "ec05d355",
   "metadata": {},
   "outputs": [
    {
     "name": "stdout",
     "output_type": "stream",
     "text": [
      "              precision    recall  f1-score   support\n",
      "\n",
      "           0       0.99      0.89      0.94      1041\n",
      "           1       0.88      0.99      0.93       827\n",
      "\n",
      "    accuracy                           0.93      1868\n",
      "   macro avg       0.93      0.94      0.93      1868\n",
      "weighted avg       0.94      0.93      0.93      1868\n",
      "\n"
     ]
    }
   ],
   "source": [
    "print(classification_report(dt_p,u_y_test))"
   ]
  },
  {
   "cell_type": "markdown",
   "id": "82aa6061",
   "metadata": {},
   "source": [
    "# Random Forest with Under Sampling"
   ]
  },
  {
   "cell_type": "code",
   "execution_count": 169,
   "id": "ed13e3af",
   "metadata": {},
   "outputs": [
    {
     "data": {
      "text/plain": [
       "RandomForestClassifier()"
      ]
     },
     "execution_count": 169,
     "metadata": {},
     "output_type": "execute_result"
    }
   ],
   "source": [
    "rf.fit(u_x_train,u_y_train)"
   ]
  },
  {
   "cell_type": "code",
   "execution_count": 170,
   "id": "f40dc5b6",
   "metadata": {},
   "outputs": [],
   "source": [
    "rf_p=rf.predict(u_x_test)"
   ]
  },
  {
   "cell_type": "code",
   "execution_count": 171,
   "id": "fe40004e",
   "metadata": {},
   "outputs": [
    {
     "data": {
      "text/plain": [
       "array([[705, 149],\n",
       "       [236, 778]], dtype=int64)"
      ]
     },
     "execution_count": 171,
     "metadata": {},
     "output_type": "execute_result"
    }
   ],
   "source": [
    "rf_c=confusion_matrix(rf_p,u_y_test)\n",
    "rf_c"
   ]
  },
  {
   "cell_type": "code",
   "execution_count": 172,
   "id": "a7fb836b",
   "metadata": {},
   "outputs": [
    {
     "data": {
      "text/plain": [
       "79.38972162740899"
      ]
     },
     "execution_count": 172,
     "metadata": {},
     "output_type": "execute_result"
    }
   ],
   "source": [
    "rf_ac=rf_c.diagonal().sum()/rf_c.sum()*100\n",
    "rf_ac"
   ]
  },
  {
   "cell_type": "code",
   "execution_count": 173,
   "id": "706f1e57",
   "metadata": {},
   "outputs": [
    {
     "name": "stdout",
     "output_type": "stream",
     "text": [
      "              precision    recall  f1-score   support\n",
      "\n",
      "           0       0.75      0.83      0.79       854\n",
      "           1       0.84      0.77      0.80      1014\n",
      "\n",
      "    accuracy                           0.79      1868\n",
      "   macro avg       0.79      0.80      0.79      1868\n",
      "weighted avg       0.80      0.79      0.79      1868\n",
      "\n"
     ]
    }
   ],
   "source": [
    "print(classification_report(rf_p,u_y_test))"
   ]
  },
  {
   "cell_type": "code",
   "execution_count": null,
   "id": "98e58eb8",
   "metadata": {},
   "outputs": [],
   "source": []
  },
  {
   "cell_type": "markdown",
   "id": "5b2bfda3",
   "metadata": {},
   "source": [
    "# Random OverSampling"
   ]
  },
  {
   "cell_type": "code",
   "execution_count": 181,
   "id": "6e1f3830",
   "metadata": {},
   "outputs": [
    {
     "data": {
      "text/plain": [
       "(4668, 50140)"
      ]
     },
     "execution_count": 181,
     "metadata": {},
     "output_type": "execute_result"
    }
   ],
   "source": [
    "c_1,c_0"
   ]
  },
  {
   "cell_type": "code",
   "execution_count": 175,
   "id": "00205d0d",
   "metadata": {},
   "outputs": [],
   "source": [
    "class_1over=train_1.sample(c_0,replace=True)"
   ]
  },
  {
   "cell_type": "code",
   "execution_count": 176,
   "id": "62cd0d0f",
   "metadata": {},
   "outputs": [],
   "source": [
    "class1_0=pd.concat([class_1over,train_0],axis=0)"
   ]
  },
  {
   "cell_type": "code",
   "execution_count": 177,
   "id": "ff65baaf",
   "metadata": {},
   "outputs": [
    {
     "data": {
      "text/plain": [
       "(100280, 13)"
      ]
     },
     "execution_count": 177,
     "metadata": {},
     "output_type": "execute_result"
    }
   ],
   "source": [
    "class1_0.head()\n",
    "class1_0.shape"
   ]
  },
  {
   "cell_type": "code",
   "execution_count": 178,
   "id": "e6307e00",
   "metadata": {},
   "outputs": [
    {
     "data": {
      "text/plain": [
       "1    50140\n",
       "0    50140\n",
       "Name: is_promoted, dtype: int64"
      ]
     },
     "execution_count": 178,
     "metadata": {},
     "output_type": "execute_result"
    }
   ],
   "source": [
    "class1_0.is_promoted.value_counts()"
   ]
  },
  {
   "cell_type": "code",
   "execution_count": 179,
   "id": "67101ed1",
   "metadata": {},
   "outputs": [],
   "source": [
    "o_x=class1_0.iloc[:,1:-1]\n",
    "o_y=class1_0.iloc[:,-1]"
   ]
  },
  {
   "cell_type": "code",
   "execution_count": 180,
   "id": "12983b44",
   "metadata": {},
   "outputs": [
    {
     "data": {
      "text/plain": [
       "((80224, 11), (20056, 11), (80224,), (20056,))"
      ]
     },
     "execution_count": 180,
     "metadata": {},
     "output_type": "execute_result"
    }
   ],
   "source": [
    "o_x_train,o_x_test,o_y_train,o_y_test=train_test_split(o_x,o_y,test_size=0.2,random_state=100)\n",
    "o_x_train.shape,o_x_test.shape,o_y_train.shape,o_y_test.shape"
   ]
  },
  {
   "cell_type": "markdown",
   "id": "15a4bb5a",
   "metadata": {},
   "source": [
    "# Logistic Reg with Random Oversampling"
   ]
  },
  {
   "cell_type": "code",
   "execution_count": 182,
   "id": "c1e3e52a",
   "metadata": {},
   "outputs": [
    {
     "data": {
      "text/plain": [
       "LogisticRegression()"
      ]
     },
     "execution_count": 182,
     "metadata": {},
     "output_type": "execute_result"
    }
   ],
   "source": [
    "lg.fit(o_x_train,o_y_train)"
   ]
  },
  {
   "cell_type": "code",
   "execution_count": 183,
   "id": "00584a8c",
   "metadata": {},
   "outputs": [],
   "source": [
    "op=lg.predict(o_x_test)"
   ]
  },
  {
   "cell_type": "code",
   "execution_count": 184,
   "id": "eff5dd9d",
   "metadata": {},
   "outputs": [],
   "source": [
    "o_cf=confusion_matrix(op,o_y_test)"
   ]
  },
  {
   "cell_type": "code",
   "execution_count": 185,
   "id": "e57b1923",
   "metadata": {},
   "outputs": [
    {
     "data": {
      "text/plain": [
       "72.11308336657359"
      ]
     },
     "execution_count": 185,
     "metadata": {},
     "output_type": "execute_result"
    }
   ],
   "source": [
    "o_acc=o_cf.diagonal().sum()/o_cf.sum()*100\n",
    "o_acc"
   ]
  },
  {
   "cell_type": "code",
   "execution_count": 186,
   "id": "841714fb",
   "metadata": {},
   "outputs": [
    {
     "name": "stdout",
     "output_type": "stream",
     "text": [
      "              precision    recall  f1-score   support\n",
      "\n",
      "           0       0.72      0.72      0.72      9908\n",
      "           1       0.73      0.72      0.72     10148\n",
      "\n",
      "    accuracy                           0.72     20056\n",
      "   macro avg       0.72      0.72      0.72     20056\n",
      "weighted avg       0.72      0.72      0.72     20056\n",
      "\n"
     ]
    }
   ],
   "source": [
    "print(classification_report(op,o_y_test))"
   ]
  },
  {
   "cell_type": "markdown",
   "id": "7d2cf56c",
   "metadata": {},
   "source": [
    "# decision tree"
   ]
  },
  {
   "cell_type": "code",
   "execution_count": 187,
   "id": "96a5ef7f",
   "metadata": {},
   "outputs": [
    {
     "data": {
      "text/plain": [
       "DecisionTreeClassifier()"
      ]
     },
     "execution_count": 187,
     "metadata": {},
     "output_type": "execute_result"
    }
   ],
   "source": [
    "dt.fit(o_x_train,o_y_train)"
   ]
  },
  {
   "cell_type": "code",
   "execution_count": 189,
   "id": "f89fbc9f",
   "metadata": {},
   "outputs": [],
   "source": [
    "dt_op=dt.predict(o_x_test)"
   ]
  },
  {
   "cell_type": "code",
   "execution_count": 197,
   "id": "da1b51e5",
   "metadata": {},
   "outputs": [
    {
     "data": {
      "text/plain": [
       "array([[ 9209,     2],\n",
       "       [  792, 10053]], dtype=int64)"
      ]
     },
     "execution_count": 197,
     "metadata": {},
     "output_type": "execute_result"
    }
   ],
   "source": [
    "dto_cf=confusion_matrix(dt_op,o_y_test)\n",
    "dto_cf"
   ]
  },
  {
   "cell_type": "code",
   "execution_count": 198,
   "id": "bd3e2aaf",
   "metadata": {},
   "outputs": [
    {
     "data": {
      "text/plain": [
       "72.11308336657359"
      ]
     },
     "execution_count": 198,
     "metadata": {},
     "output_type": "execute_result"
    }
   ],
   "source": [
    "o_acc=o_cf.diagonal().sum()/o_cf.sum()*100\n",
    "o_acc"
   ]
  },
  {
   "cell_type": "code",
   "execution_count": 199,
   "id": "b5709492",
   "metadata": {},
   "outputs": [
    {
     "name": "stdout",
     "output_type": "stream",
     "text": [
      "              precision    recall  f1-score   support\n",
      "\n",
      "           0       0.92      1.00      0.96      9211\n",
      "           1       1.00      0.93      0.96     10845\n",
      "\n",
      "    accuracy                           0.96     20056\n",
      "   macro avg       0.96      0.96      0.96     20056\n",
      "weighted avg       0.96      0.96      0.96     20056\n",
      "\n"
     ]
    }
   ],
   "source": [
    "print(classification_report(dt_op,o_y_test))"
   ]
  },
  {
   "cell_type": "markdown",
   "id": "6faca9b7",
   "metadata": {},
   "source": [
    "# knn"
   ]
  },
  {
   "cell_type": "code",
   "execution_count": 192,
   "id": "a78cb09a",
   "metadata": {},
   "outputs": [
    {
     "data": {
      "text/plain": [
       "KNeighborsClassifier(n_neighbors=17)"
      ]
     },
     "execution_count": 192,
     "metadata": {},
     "output_type": "execute_result"
    }
   ],
   "source": [
    "knn.fit(o_x_train,o_y_train)"
   ]
  },
  {
   "cell_type": "code",
   "execution_count": 193,
   "id": "942c01b6",
   "metadata": {},
   "outputs": [],
   "source": [
    "knn_op=dt.predict(o_x_test)"
   ]
  },
  {
   "cell_type": "code",
   "execution_count": 200,
   "id": "65953763",
   "metadata": {},
   "outputs": [],
   "source": [
    "knno_cf=confusion_matrix(knn_op,o_y_test)"
   ]
  },
  {
   "cell_type": "code",
   "execution_count": 201,
   "id": "b6e0ccc2",
   "metadata": {},
   "outputs": [
    {
     "data": {
      "text/plain": [
       "72.11308336657359"
      ]
     },
     "execution_count": 201,
     "metadata": {},
     "output_type": "execute_result"
    }
   ],
   "source": [
    "o_acc=o_cf.diagonal().sum()/o_cf.sum()*100\n",
    "o_acc"
   ]
  },
  {
   "cell_type": "code",
   "execution_count": 202,
   "id": "24e9c7cc",
   "metadata": {},
   "outputs": [
    {
     "name": "stdout",
     "output_type": "stream",
     "text": [
      "              precision    recall  f1-score   support\n",
      "\n",
      "           0       0.92      1.00      0.96      9211\n",
      "           1       1.00      0.93      0.96     10845\n",
      "\n",
      "    accuracy                           0.96     20056\n",
      "   macro avg       0.96      0.96      0.96     20056\n",
      "weighted avg       0.96      0.96      0.96     20056\n",
      "\n"
     ]
    }
   ],
   "source": [
    "print(classification_report(knn_op,o_y_test))"
   ]
  },
  {
   "cell_type": "markdown",
   "id": "833ea27d",
   "metadata": {},
   "source": [
    "# imblearn OVERSAMPLING"
   ]
  },
  {
   "cell_type": "code",
   "execution_count": 211,
   "id": "3360c9e0",
   "metadata": {},
   "outputs": [],
   "source": [
    "import imblearn\n",
    "from imblearn.over_sampling import RandomOverSampler"
   ]
  },
  {
   "cell_type": "code",
   "execution_count": 212,
   "id": "6a90ba6d",
   "metadata": {},
   "outputs": [],
   "source": [
    "ab1=RandomOverSampler(random_state=42)"
   ]
  },
  {
   "cell_type": "code",
   "execution_count": 214,
   "id": "df3aa35d",
   "metadata": {},
   "outputs": [],
   "source": [
    "x1,y1=ab1.fit_resample(d_x,d_y)"
   ]
  },
  {
   "cell_type": "code",
   "execution_count": 215,
   "id": "c6957e96",
   "metadata": {},
   "outputs": [
    {
     "data": {
      "text/plain": [
       "((100280, 12), (100280,))"
      ]
     },
     "execution_count": 215,
     "metadata": {},
     "output_type": "execute_result"
    }
   ],
   "source": [
    "x1.shape,y1.shape"
   ]
  },
  {
   "cell_type": "code",
   "execution_count": 216,
   "id": "bcd3fe54",
   "metadata": {},
   "outputs": [
    {
     "data": {
      "text/plain": [
       "0    50140\n",
       "1    50140\n",
       "Name: is_promoted, dtype: int64"
      ]
     },
     "execution_count": 216,
     "metadata": {},
     "output_type": "execute_result"
    }
   ],
   "source": [
    "y1.value_counts()"
   ]
  },
  {
   "cell_type": "code",
   "execution_count": 217,
   "id": "f33430ae",
   "metadata": {},
   "outputs": [],
   "source": [
    "x1_tr,x1_te,y1_tr,y1_te=train_test_split(x1,y1,test_size=0.2,random_state=50)"
   ]
  },
  {
   "cell_type": "code",
   "execution_count": 218,
   "id": "2d424795",
   "metadata": {},
   "outputs": [
    {
     "data": {
      "text/plain": [
       "((80224, 12), (20056, 12), (80224,), (20056,))"
      ]
     },
     "execution_count": 218,
     "metadata": {},
     "output_type": "execute_result"
    }
   ],
   "source": [
    "x1_tr.shape,x1_te.shape,y1_tr.shape,y1_te.shape"
   ]
  },
  {
   "cell_type": "markdown",
   "id": "950bb3b9",
   "metadata": {},
   "source": [
    "# Logistic Reg.imb OS"
   ]
  },
  {
   "cell_type": "code",
   "execution_count": 219,
   "id": "5a23927f",
   "metadata": {},
   "outputs": [
    {
     "data": {
      "text/plain": [
       "LogisticRegression()"
      ]
     },
     "execution_count": 219,
     "metadata": {},
     "output_type": "execute_result"
    }
   ],
   "source": [
    "lg.fit(x1_tr,y1_tr)"
   ]
  },
  {
   "cell_type": "code",
   "execution_count": 220,
   "id": "c01033b1",
   "metadata": {},
   "outputs": [],
   "source": [
    "i_p1=lg.predict(x1_te)\n"
   ]
  },
  {
   "cell_type": "code",
   "execution_count": 222,
   "id": "a93e50da",
   "metadata": {},
   "outputs": [
    {
     "data": {
      "text/plain": [
       "array([[7114, 2623],\n",
       "       [2917, 7402]], dtype=int64)"
      ]
     },
     "execution_count": 222,
     "metadata": {},
     "output_type": "execute_result"
    }
   ],
   "source": [
    "i_cf1=confusion_matrix(i_p1,y1_te)\n",
    "i_cf1"
   ]
  },
  {
   "cell_type": "code",
   "execution_count": 224,
   "id": "48a87024",
   "metadata": {},
   "outputs": [
    {
     "data": {
      "text/plain": [
       "72.37734343837255"
      ]
     },
     "execution_count": 224,
     "metadata": {},
     "output_type": "execute_result"
    }
   ],
   "source": [
    "i_acc=i_cf1.diagonal().sum()/i_cf1.sum()*100\n",
    "i_acc"
   ]
  },
  {
   "cell_type": "code",
   "execution_count": 225,
   "id": "d5ae7f6a",
   "metadata": {},
   "outputs": [
    {
     "name": "stdout",
     "output_type": "stream",
     "text": [
      "              precision    recall  f1-score   support\n",
      "\n",
      "           0       0.71      0.73      0.72      9737\n",
      "           1       0.74      0.72      0.73     10319\n",
      "\n",
      "    accuracy                           0.72     20056\n",
      "   macro avg       0.72      0.72      0.72     20056\n",
      "weighted avg       0.72      0.72      0.72     20056\n",
      "\n"
     ]
    }
   ],
   "source": [
    "print(classification_report(i_p1,y1_te))"
   ]
  },
  {
   "cell_type": "markdown",
   "id": "ff04479d",
   "metadata": {},
   "source": [
    "# decision tree"
   ]
  },
  {
   "cell_type": "code",
   "execution_count": 226,
   "id": "b2d80861",
   "metadata": {},
   "outputs": [
    {
     "data": {
      "text/plain": [
       "DecisionTreeClassifier()"
      ]
     },
     "execution_count": 226,
     "metadata": {},
     "output_type": "execute_result"
    }
   ],
   "source": [
    "dt.fit(x1_tr,y1_tr)"
   ]
  },
  {
   "cell_type": "code",
   "execution_count": 227,
   "id": "9b3f7179",
   "metadata": {},
   "outputs": [],
   "source": [
    "i_p1=dt.predict(x1_te)"
   ]
  },
  {
   "cell_type": "code",
   "execution_count": 228,
   "id": "1207a1c5",
   "metadata": {},
   "outputs": [
    {
     "data": {
      "text/plain": [
       "array([[ 9355,     0],\n",
       "       [  676, 10025]], dtype=int64)"
      ]
     },
     "execution_count": 228,
     "metadata": {},
     "output_type": "execute_result"
    }
   ],
   "source": [
    "i_cf1=confusion_matrix(i_p1,y1_te)\n",
    "i_cf1"
   ]
  },
  {
   "cell_type": "code",
   "execution_count": 229,
   "id": "3e6da92e",
   "metadata": {},
   "outputs": [
    {
     "data": {
      "text/plain": [
       "96.62943757479059"
      ]
     },
     "execution_count": 229,
     "metadata": {},
     "output_type": "execute_result"
    }
   ],
   "source": [
    "i_acc=i_cf1.diagonal().sum()/i_cf1.sum()*100\n",
    "i_acc"
   ]
  },
  {
   "cell_type": "code",
   "execution_count": 230,
   "id": "fa09d2b8",
   "metadata": {},
   "outputs": [
    {
     "name": "stdout",
     "output_type": "stream",
     "text": [
      "              precision    recall  f1-score   support\n",
      "\n",
      "           0       0.93      1.00      0.97      9355\n",
      "           1       1.00      0.94      0.97     10701\n",
      "\n",
      "    accuracy                           0.97     20056\n",
      "   macro avg       0.97      0.97      0.97     20056\n",
      "weighted avg       0.97      0.97      0.97     20056\n",
      "\n"
     ]
    }
   ],
   "source": [
    "print(classification_report(i_p1,y1_te))"
   ]
  },
  {
   "cell_type": "markdown",
   "id": "2fc84940",
   "metadata": {},
   "source": [
    "# random forest"
   ]
  },
  {
   "cell_type": "code",
   "execution_count": 231,
   "id": "6cb9e582",
   "metadata": {},
   "outputs": [
    {
     "data": {
      "text/plain": [
       "RandomForestClassifier()"
      ]
     },
     "execution_count": 231,
     "metadata": {},
     "output_type": "execute_result"
    }
   ],
   "source": [
    "rf.fit(x1_tr,y1_tr)"
   ]
  },
  {
   "cell_type": "code",
   "execution_count": 233,
   "id": "6f73776e",
   "metadata": {},
   "outputs": [],
   "source": [
    "i_p1=rf.predict(x1_te)\n"
   ]
  },
  {
   "cell_type": "code",
   "execution_count": 234,
   "id": "f83dc07b",
   "metadata": {},
   "outputs": [
    {
     "data": {
      "text/plain": [
       "array([[ 9748,     0],\n",
       "       [  283, 10025]], dtype=int64)"
      ]
     },
     "execution_count": 234,
     "metadata": {},
     "output_type": "execute_result"
    }
   ],
   "source": [
    "i_cf1=confusion_matrix(i_p1,y1_te)\n",
    "i_cf1"
   ]
  },
  {
   "cell_type": "code",
   "execution_count": 235,
   "id": "f8764e06",
   "metadata": {},
   "outputs": [
    {
     "data": {
      "text/plain": [
       "98.58895093737536"
      ]
     },
     "execution_count": 235,
     "metadata": {},
     "output_type": "execute_result"
    }
   ],
   "source": [
    "i_acc=i_cf1.diagonal().sum()/i_cf1.sum()*100\n",
    "i_acc"
   ]
  },
  {
   "cell_type": "code",
   "execution_count": 236,
   "id": "616c4137",
   "metadata": {},
   "outputs": [
    {
     "name": "stdout",
     "output_type": "stream",
     "text": [
      "              precision    recall  f1-score   support\n",
      "\n",
      "           0       0.97      1.00      0.99      9748\n",
      "           1       1.00      0.97      0.99     10308\n",
      "\n",
      "    accuracy                           0.99     20056\n",
      "   macro avg       0.99      0.99      0.99     20056\n",
      "weighted avg       0.99      0.99      0.99     20056\n",
      "\n"
     ]
    }
   ],
   "source": [
    "print(classification_report(i_p1,y1_te))"
   ]
  },
  {
   "cell_type": "markdown",
   "id": "75b10084",
   "metadata": {},
   "source": [
    "# ADABOOST Underdampling"
   ]
  },
  {
   "cell_type": "code",
   "execution_count": 237,
   "id": "891bb20a",
   "metadata": {},
   "outputs": [],
   "source": [
    "from imblearn.under_sampling import RandomUnderSampler"
   ]
  },
  {
   "cell_type": "code",
   "execution_count": 239,
   "id": "20762446",
   "metadata": {},
   "outputs": [],
   "source": [
    "ab2=RandomUnderSampler(sampling_strategy=\"all\")"
   ]
  },
  {
   "cell_type": "code",
   "execution_count": 240,
   "id": "6dcd9418",
   "metadata": {},
   "outputs": [
    {
     "data": {
      "text/plain": [
       "((9336, 12), (9336,))"
      ]
     },
     "execution_count": 240,
     "metadata": {},
     "output_type": "execute_result"
    }
   ],
   "source": [
    "x2,y2=ab2.fit_resample(d_x,d_y)\n",
    "x2.shape,y2.shape"
   ]
  },
  {
   "cell_type": "code",
   "execution_count": 243,
   "id": "da527744",
   "metadata": {},
   "outputs": [
    {
     "data": {
      "text/plain": [
       "((7468, 12), (1868, 12), (7468,), (1868,))"
      ]
     },
     "execution_count": 243,
     "metadata": {},
     "output_type": "execute_result"
    }
   ],
   "source": [
    "x2_tr,x2_te,y2_tr,y2_te=train_test_split(x2,y2,test_size=0.2,random_state=50)\n",
    "x2_tr.shape,x2_te.shape,y2_tr.shape,y2_te.shape"
   ]
  },
  {
   "cell_type": "markdown",
   "id": "6e819d0d",
   "metadata": {},
   "source": [
    "# Log REG LMB US"
   ]
  },
  {
   "cell_type": "markdown",
   "id": "20727af8",
   "metadata": {},
   "source": [
    "# DT IMB US\n"
   ]
  },
  {
   "cell_type": "code",
   "execution_count": 253,
   "id": "e1dac4a3",
   "metadata": {},
   "outputs": [
    {
     "data": {
      "text/plain": [
       "DecisionTreeClassifier()"
      ]
     },
     "execution_count": 253,
     "metadata": {},
     "output_type": "execute_result"
    }
   ],
   "source": [
    "dt.fit(x2_tr,y2_tr)"
   ]
  },
  {
   "cell_type": "code",
   "execution_count": 254,
   "id": "7aa9f1d1",
   "metadata": {},
   "outputs": [],
   "source": [
    "i_p2=rf.predict(x2_te)"
   ]
  },
  {
   "cell_type": "code",
   "execution_count": 255,
   "id": "12d21144",
   "metadata": {},
   "outputs": [
    {
     "data": {
      "text/plain": [
       "array([[652, 119],\n",
       "       [286, 811]], dtype=int64)"
      ]
     },
     "execution_count": 255,
     "metadata": {},
     "output_type": "execute_result"
    }
   ],
   "source": [
    "i_cf2=confusion_matrix(i_p2,y2_te)\n",
    "i_cf2"
   ]
  },
  {
   "cell_type": "code",
   "execution_count": 256,
   "id": "7929ada1",
   "metadata": {},
   "outputs": [
    {
     "data": {
      "text/plain": [
       "78.31905781584582"
      ]
     },
     "execution_count": 256,
     "metadata": {},
     "output_type": "execute_result"
    }
   ],
   "source": [
    "i_acc=i_cf2.diagonal().sum()/i_cf2.sum()*100\n",
    "i_acc"
   ]
  },
  {
   "cell_type": "code",
   "execution_count": 257,
   "id": "4e6b819a",
   "metadata": {},
   "outputs": [
    {
     "name": "stdout",
     "output_type": "stream",
     "text": [
      "              precision    recall  f1-score   support\n",
      "\n",
      "           0       0.70      0.85      0.76       771\n",
      "           1       0.87      0.74      0.80      1097\n",
      "\n",
      "    accuracy                           0.78      1868\n",
      "   macro avg       0.78      0.79      0.78      1868\n",
      "weighted avg       0.80      0.78      0.78      1868\n",
      "\n"
     ]
    }
   ],
   "source": [
    "print(classification_report(i_p2,y2_te))"
   ]
  },
  {
   "cell_type": "code",
   "execution_count": null,
   "id": "901bb04c",
   "metadata": {},
   "outputs": [],
   "source": []
  },
  {
   "cell_type": "code",
   "execution_count": null,
   "id": "56d082d8",
   "metadata": {},
   "outputs": [],
   "source": []
  },
  {
   "cell_type": "markdown",
   "id": "57c83727",
   "metadata": {},
   "source": [
    "# RF IMB US"
   ]
  },
  {
   "cell_type": "code",
   "execution_count": 244,
   "id": "45957bb1",
   "metadata": {},
   "outputs": [
    {
     "data": {
      "text/plain": [
       "RandomForestClassifier()"
      ]
     },
     "execution_count": 244,
     "metadata": {},
     "output_type": "execute_result"
    }
   ],
   "source": [
    "rf.fit(x2_tr,y2_tr)"
   ]
  },
  {
   "cell_type": "code",
   "execution_count": 247,
   "id": "0d70d48a",
   "metadata": {},
   "outputs": [],
   "source": [
    "i_p2=rf.predict(x2_te)\n"
   ]
  },
  {
   "cell_type": "code",
   "execution_count": 250,
   "id": "46859b4c",
   "metadata": {},
   "outputs": [
    {
     "data": {
      "text/plain": [
       "array([[652, 119],\n",
       "       [286, 811]], dtype=int64)"
      ]
     },
     "execution_count": 250,
     "metadata": {},
     "output_type": "execute_result"
    }
   ],
   "source": [
    "i_cf2=confusion_matrix(i_p2,y2_te)\n",
    "i_cf2"
   ]
  },
  {
   "cell_type": "code",
   "execution_count": 251,
   "id": "986d44bb",
   "metadata": {},
   "outputs": [
    {
     "data": {
      "text/plain": [
       "78.31905781584582"
      ]
     },
     "execution_count": 251,
     "metadata": {},
     "output_type": "execute_result"
    }
   ],
   "source": [
    "i_acc=i_cf2.diagonal().sum()/i_cf2.sum()*100\n",
    "i_acc"
   ]
  },
  {
   "cell_type": "code",
   "execution_count": 252,
   "id": "4d9ed95c",
   "metadata": {},
   "outputs": [
    {
     "name": "stdout",
     "output_type": "stream",
     "text": [
      "              precision    recall  f1-score   support\n",
      "\n",
      "           0       0.70      0.85      0.76       771\n",
      "           1       0.87      0.74      0.80      1097\n",
      "\n",
      "    accuracy                           0.78      1868\n",
      "   macro avg       0.78      0.79      0.78      1868\n",
      "weighted avg       0.80      0.78      0.78      1868\n",
      "\n"
     ]
    }
   ],
   "source": [
    "print(classification_report(i_p2,y2_te))"
   ]
  },
  {
   "cell_type": "markdown",
   "id": "638443b9",
   "metadata": {},
   "source": [
    "# smote :Sinthetic minority over sampling technique"
   ]
  },
  {
   "cell_type": "code",
   "execution_count": 258,
   "id": "281c60f7",
   "metadata": {},
   "outputs": [],
   "source": [
    "from imblearn.over_sampling import SMOTE"
   ]
  },
  {
   "cell_type": "code",
   "execution_count": 260,
   "id": "e8536770",
   "metadata": {},
   "outputs": [],
   "source": [
    "s=SMOTE()"
   ]
  },
  {
   "cell_type": "code",
   "execution_count": 262,
   "id": "0c48e458",
   "metadata": {},
   "outputs": [],
   "source": [
    "x_s,y_s=s.fit_resample(d_x,d_y)"
   ]
  },
  {
   "cell_type": "code",
   "execution_count": 263,
   "id": "4730a6ef",
   "metadata": {},
   "outputs": [
    {
     "data": {
      "text/plain": [
       "((100280, 12), (100280,))"
      ]
     },
     "execution_count": 263,
     "metadata": {},
     "output_type": "execute_result"
    }
   ],
   "source": [
    "x_s.shape,y_s.shape"
   ]
  },
  {
   "cell_type": "code",
   "execution_count": 266,
   "id": "d9013838",
   "metadata": {},
   "outputs": [
    {
     "data": {
      "text/plain": [
       "((80224, 12), (20056, 12), (80224,), (20056,))"
      ]
     },
     "execution_count": 266,
     "metadata": {},
     "output_type": "execute_result"
    }
   ],
   "source": [
    "x3_tr,x3_te,y3_tr,y3_te=train_test_split(x_s,y_s,test_size=0.2,random_state=50)\n",
    "x3_tr.shape,x3_te.shape,y3_tr.shape,y3_te.shape"
   ]
  },
  {
   "cell_type": "markdown",
   "id": "724a354d",
   "metadata": {},
   "source": [
    "# random forest os"
   ]
  },
  {
   "cell_type": "code",
   "execution_count": 267,
   "id": "0f711fee",
   "metadata": {},
   "outputs": [
    {
     "data": {
      "text/plain": [
       "RandomForestClassifier()"
      ]
     },
     "execution_count": 267,
     "metadata": {},
     "output_type": "execute_result"
    }
   ],
   "source": [
    "rf.fit(x3_tr,y3_tr)"
   ]
  },
  {
   "cell_type": "code",
   "execution_count": 268,
   "id": "e5a12564",
   "metadata": {},
   "outputs": [],
   "source": [
    "i_p3=rf.predict(x3_te)"
   ]
  },
  {
   "cell_type": "code",
   "execution_count": 269,
   "id": "ef48b5f0",
   "metadata": {},
   "outputs": [
    {
     "data": {
      "text/plain": [
       "array([[9564,  500],\n",
       "       [ 467, 9525]], dtype=int64)"
      ]
     },
     "execution_count": 269,
     "metadata": {},
     "output_type": "execute_result"
    }
   ],
   "source": [
    "i_cf3=confusion_matrix(i_p3,y3_te)\n",
    "i_cf3"
   ]
  },
  {
   "cell_type": "code",
   "execution_count": 270,
   "id": "2539184e",
   "metadata": {},
   "outputs": [
    {
     "data": {
      "text/plain": [
       "95.17850019944156"
      ]
     },
     "execution_count": 270,
     "metadata": {},
     "output_type": "execute_result"
    }
   ],
   "source": [
    "i_acc=i_cf3.diagonal().sum()/i_cf3.sum()*100\n",
    "i_acc"
   ]
  },
  {
   "cell_type": "code",
   "execution_count": 271,
   "id": "716ef14c",
   "metadata": {},
   "outputs": [
    {
     "name": "stdout",
     "output_type": "stream",
     "text": [
      "              precision    recall  f1-score   support\n",
      "\n",
      "           0       0.95      0.95      0.95     10064\n",
      "           1       0.95      0.95      0.95      9992\n",
      "\n",
      "    accuracy                           0.95     20056\n",
      "   macro avg       0.95      0.95      0.95     20056\n",
      "weighted avg       0.95      0.95      0.95     20056\n",
      "\n"
     ]
    }
   ],
   "source": [
    "print(classification_report(i_p3,y3_te))"
   ]
  },
  {
   "cell_type": "markdown",
   "id": "2bc0af26",
   "metadata": {},
   "source": [
    "# NEARMISS UNDERSAMPLING TECHNIQUES"
   ]
  },
  {
   "cell_type": "code",
   "execution_count": 273,
   "id": "3a5bdba0",
   "metadata": {},
   "outputs": [],
   "source": [
    "from imblearn.under_sampling import NearMiss"
   ]
  },
  {
   "cell_type": "code",
   "execution_count": 274,
   "id": "3084e93f",
   "metadata": {},
   "outputs": [],
   "source": [
    "nm=NearMiss()"
   ]
  },
  {
   "cell_type": "code",
   "execution_count": 276,
   "id": "5d980cfc",
   "metadata": {},
   "outputs": [],
   "source": [
    "x_nm,y_nm=nm.fit_resample(d_x,d_y)"
   ]
  },
  {
   "cell_type": "code",
   "execution_count": 277,
   "id": "a035900f",
   "metadata": {},
   "outputs": [
    {
     "data": {
      "text/plain": [
       "((9336, 12), (9336,))"
      ]
     },
     "execution_count": 277,
     "metadata": {},
     "output_type": "execute_result"
    }
   ],
   "source": [
    "x_nm.shape,y_nm.shape"
   ]
  },
  {
   "cell_type": "code",
   "execution_count": 278,
   "id": "d8d68a9f",
   "metadata": {},
   "outputs": [
    {
     "data": {
      "text/plain": [
       "((7468, 12), (1868, 12), (7468,), (1868,))"
      ]
     },
     "execution_count": 278,
     "metadata": {},
     "output_type": "execute_result"
    }
   ],
   "source": [
    "x4_tr,x4_te,y4_tr,y4_te=train_test_split(x_nm,y_nm,test_size=0.2,random_state=50)\n",
    "x4_tr.shape,x4_te.shape,y4_tr.shape,y4_te.shape"
   ]
  },
  {
   "cell_type": "code",
   "execution_count": null,
   "id": "fb572c30",
   "metadata": {},
   "outputs": [],
   "source": [
    "#random forest"
   ]
  }
 ],
 "metadata": {
  "kernelspec": {
   "display_name": "Python 3 (ipykernel)",
   "language": "python",
   "name": "python3"
  },
  "language_info": {
   "codemirror_mode": {
    "name": "ipython",
    "version": 3
   },
   "file_extension": ".py",
   "mimetype": "text/x-python",
   "name": "python",
   "nbconvert_exporter": "python",
   "pygments_lexer": "ipython3",
   "version": "3.9.12"
  }
 },
 "nbformat": 4,
 "nbformat_minor": 5
}
